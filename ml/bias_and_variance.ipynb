{
 "cells": [
  {
   "cell_type": "code",
   "execution_count": 13,
   "metadata": {},
   "outputs": [
    {
     "name": "stdout",
     "output_type": "stream",
     "text": [
      "1.4458143339658371\n",
      "0.276359037258575\n",
      "0.7184578023511814\n"
     ]
    }
   ],
   "source": [
    "# https://work.caltech.edu/homework/hw4.pdf\n",
    "# Experiment for problems 4 to 7\n",
    "\n",
    "import numpy as np\n",
    "\n",
    "# For fitting a line without intercept, see https://math.stackexchange.com/questions/3297060/linear-regression-without-intercept-formula-for-slope\n",
    "# Let's do this in vector form\n",
    "\n",
    "n = 10_000\n",
    "# We start by generating our random points.\n",
    "rng = np.random.default_rng()\n",
    "# Generate two columns of xs\n",
    "xs = rng.uniform(-1,1, (n, 2))\n",
    "# The ys will be from sin(pi x)\n",
    "ys = np.sin(np.pi * xs)\n",
    "\n",
    "# Now we calculate the slopes for all these points\n",
    "# With two points, a = (x_1y_1 + x_2y_2)/(x_1^2 + x_2^2)\n",
    "slopes = ((xs[:,0] * ys[:,0]) + (xs[:,1] * ys[:,1])) / (np.square(xs[:,0]) + np.square(xs[:,1]))\n",
    "\n",
    "# Return the average for the slopes.  This is problem 4\n",
    "avg_slope = np.average(slopes)\n",
    "\n",
    "print(avg_slope)\n",
    "\n",
    "# bias is going to be our average slope minus our target function (sin(pi x)) squared over the interval\n",
    "\n",
    "from sympy import Symbol, integrate, sin\n",
    "from math import pi # Use numeric rather than sympy symbolic pi\n",
    "\n",
    "x = Symbol('x')\n",
    "\n",
    "bias = integrate((sin(pi * x) - (avg_slope * x)) ** 2, (x, -1, 1)) / 2 # divide by two at the end for the length of the interval\n",
    "print(bias)\n",
    "\n",
    "# variance is going to be the average squared distance of the slopes we get from the average lsope\n",
    "\n",
    "variance = np.average(np.square(slopes - avg_slope))\n",
    "print(variance)\n"
   ]
  },
  {
   "cell_type": "code",
   "execution_count": null,
   "metadata": {},
   "outputs": [],
   "source": []
  }
 ],
 "metadata": {
  "kernelspec": {
   "display_name": "Python 3",
   "language": "python",
   "name": "python3"
  },
  "language_info": {
   "codemirror_mode": {
    "name": "ipython",
    "version": 3
   },
   "file_extension": ".py",
   "mimetype": "text/x-python",
   "name": "python",
   "nbconvert_exporter": "python",
   "pygments_lexer": "ipython3",
   "version": "3.8.2"
  },
  "orig_nbformat": 4
 },
 "nbformat": 4,
 "nbformat_minor": 2
}
