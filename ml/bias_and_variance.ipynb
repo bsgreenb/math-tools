{
 "cells": [
  {
   "cell_type": "code",
   "execution_count": 55,
   "metadata": {},
   "outputs": [
    {
     "name": "stdout",
     "output_type": "stream",
     "text": [
      "1.4287683507051898\n",
      "0.270877484467000\n",
      "0.23956671657486556\n"
     ]
    }
   ],
   "source": [
    "# https://work.caltech.edu/homework/hw4.pdf\n",
    "# Experiment for problems 4 to 7\n",
    "\n",
    "import numpy as np\n",
    "\n",
    "# For fitting a line without intercept, see https://math.stackexchange.com/questions/3297060/linear-regression-without-intercept-formula-for-slope\n",
    "# Let's do this in vector form\n",
    "\n",
    "n = 10_000\n",
    "# We start by generating our random points.\n",
    "rng = np.random.default_rng()\n",
    "# Generate two columns of xs\n",
    "xs = rng.uniform(-1,1, (n, 2))\n",
    "# The ys will be from sin(pi x)\n",
    "ys = np.sin(np.pi * xs)\n",
    "\n",
    "# Now we calculate the slopes for all these points\n",
    "# With two points, a = (x_1y_1 + x_2y_2)/(x_1^2 + x_2^2)\n",
    "slopes = ((xs[:,0] * ys[:,0]) + (xs[:,1] * ys[:,1])) / (np.square(xs[:,0]) + np.square(xs[:,1]))\n",
    "\n",
    "# Return the average for the slopes.  This is problem 4\n",
    "avg_slope = np.average(slopes)\n",
    "\n",
    "print(avg_slope)\n",
    "\n",
    "# bias is going to be our average slope minus our target function (sin(pi x)) squared over the interval\n",
    "\n",
    "from sympy import Symbol, integrate, sin\n",
    "from math import pi # Use numeric rather than sympy symbolic pi\n",
    "\n",
    "x = Symbol('x')\n",
    "\n",
    "bias = integrate((sin(pi * x) - (avg_slope * x)) ** 2, (x, -1, 1)) / 2 # divide by two at the end for the length of the interval\n",
    "print(bias)\n",
    "\n",
    "# use a new data set for testing variance\n",
    "xs = rng.uniform(-1,1, (n, 2))\n",
    "variance = np.average(np.square((slopes * xs[:,1]) - (avg_slope * xs[:,1])))\n",
    "print(variance)\n",
    "\n"
   ]
  },
  {
   "cell_type": "code",
   "execution_count": 81,
   "metadata": {},
   "outputs": [
    {
     "name": "stdout",
     "output_type": "stream",
     "text": [
      "Average e_out for ax's 0.5320125444157826\n",
      "Average e_out for constant b's 0.7508258230135478\n",
      "Average e_out for ax + b's 1.9537710952893872\n",
      "Average e_out for ax^2's 20.169279222601297\n",
      "Average e_out for ax^2 + b's 1387.8748707886377\n"
     ]
    }
   ],
   "source": [
    "# Problem 7..\n",
    "n = 10_000\n",
    "# We start by generating our random points.\n",
    "rng = np.random.default_rng()\n",
    "# Generate two columns of xs\n",
    "xs = rng.uniform(-1,1, (n, 2))\n",
    "# The ys will be from sin(pi x)\n",
    "ys = np.sin(np.pi * xs)\n",
    "\n",
    "# generate the ax's\n",
    "slopes_1 = ((xs[:,0] * ys[:,0]) + (xs[:,1] * ys[:,1])) / (np.square(xs[:,0]) + np.square(xs[:,1]))\n",
    "\n",
    "# generate the fitting constants\n",
    "bs = (ys[:, 0] + ys[:, 1]) / 2\n",
    "\n",
    "# generate the ax + b's\n",
    "slopes_2 = (ys[:,1] - ys[:,0]) / (xs[:,1] - xs[:,0]) # rise over run for slope\n",
    "bs_2 = ys[:,0] - (xs[:, 0] * slopes_2) # b = y_1 - x_1(slope)\n",
    "\n",
    "# generate the ax^2s\n",
    "# (((x_1 ** 2) * y_1) + ((x_2 ** 2) * y_2)) / ((x_1 ** 4) + (x_2 ** 4))\n",
    "axsqs = ((np.square(xs[:, 0]) * ys[:,0]) + (np.square(xs[:, 1]) * ys[:, 1])) / ((xs[:, 0] ** 4) + (xs[:, 1] ** 4))\n",
    "\n",
    "# generate the ax^2s + bs\n",
    "axsqs_2 = (ys[:,0] - ys[:,1])/ (np.square(xs[:,0]) - np.square(xs[:, 1])) \n",
    "bs_3 = ys[:, 0] - (axsqs_2 * np.square(xs[:, 0]))\n",
    "\n",
    "# Now let's generate a bunch of points and see the avg e_out we get\n",
    "xs = rng.uniform(-1,1, n)\n",
    "ys = np.sin(np.pi * xs)\n",
    "\n",
    "e_out_axs = np.average(np.square((slopes_1 * xs) - ys))\n",
    "print(\"Average e_out for ax's\", e_out_axs)\n",
    "\n",
    "e_out_constants = np.average(np.square(bs - ys))\n",
    "print(\"Average e_out for constant b's\", e_out_constants)\n",
    "\n",
    "e_out_ax_bs = np.average(np.square(((slopes_2 * xs) + bs_2) - ys))\n",
    "print(\"Average e_out for ax + b's\", e_out_ax_bs)\n",
    "\n",
    "e_out_axsqs = np.average(np.square((axsqs * np.square(xs)) - ys))\n",
    "print(\"Average e_out for ax^2's\", e_out_axsqs)\n",
    "\n",
    "e_out_axsqs_bs = np.average(np.square(((axsqs * np.square(xs)) + bs_3) - ys))\n",
    "print(\"Average e_out for ax^2 + b's\", e_out_axsqs_bs)\n",
    "\n",
    "\n",
    "\n",
    "\n",
    "\n",
    "\n",
    "\n",
    "\n",
    "\n",
    "\n"
   ]
  },
  {
   "cell_type": "code",
   "execution_count": null,
   "metadata": {},
   "outputs": [],
   "source": []
  }
 ],
 "metadata": {
  "kernelspec": {
   "display_name": "Python 3",
   "language": "python",
   "name": "python3"
  },
  "language_info": {
   "codemirror_mode": {
    "name": "ipython",
    "version": 3
   },
   "file_extension": ".py",
   "mimetype": "text/x-python",
   "name": "python",
   "nbconvert_exporter": "python",
   "pygments_lexer": "ipython3",
   "version": "3.8.2"
  },
  "orig_nbformat": 4
 },
 "nbformat": 4,
 "nbformat_minor": 2
}
