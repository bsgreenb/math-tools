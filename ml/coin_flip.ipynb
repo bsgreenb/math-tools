{
 "cells": [
  {
   "cell_type": "code",
   "execution_count": 3,
   "metadata": {},
   "outputs": [
    {
     "ename": "KeyboardInterrupt",
     "evalue": "",
     "output_type": "error",
     "traceback": [
      "\u001b[0;31m---------------------------------------------------------------------------\u001b[0m",
      "\u001b[0;31mKeyboardInterrupt\u001b[0m                         Traceback (most recent call last)",
      "Cell \u001b[0;32mIn[3], line 40\u001b[0m\n\u001b[1;32m     36\u001b[0m     v_rand \u001b[39m=\u001b[39m vs[np\u001b[39m.\u001b[39mrandom\u001b[39m.\u001b[39mrandint(\u001b[39m0\u001b[39m, num_coins)]\n\u001b[1;32m     38\u001b[0m     \u001b[39mreturn\u001b[39;00m v_1, v_rand, v_min\n\u001b[0;32m---> 40\u001b[0m \u001b[39mprint\u001b[39m(runs())\n",
      "Cell \u001b[0;32mIn[3], line 15\u001b[0m, in \u001b[0;36mruns\u001b[0;34m()\u001b[0m\n\u001b[1;32m     12\u001b[0m total_v_min \u001b[39m=\u001b[39m \u001b[39m0\u001b[39m\n\u001b[1;32m     14\u001b[0m \u001b[39mfor\u001b[39;00m i \u001b[39min\u001b[39;00m \u001b[39mrange\u001b[39m(\u001b[39m0\u001b[39m, run_count):\n\u001b[0;32m---> 15\u001b[0m     v_1, v_rand, v_min \u001b[39m=\u001b[39m run()\n\u001b[1;32m     16\u001b[0m     total_v_1 \u001b[39m+\u001b[39m\u001b[39m=\u001b[39m v_1\n\u001b[1;32m     17\u001b[0m     total_v_rand \u001b[39m+\u001b[39m\u001b[39m=\u001b[39m v_rand\n",
      "Cell \u001b[0;32mIn[3], line 30\u001b[0m, in \u001b[0;36mrun\u001b[0;34m()\u001b[0m\n\u001b[1;32m     28\u001b[0m v_min \u001b[39m=\u001b[39m num_flips \u001b[39m+\u001b[39m \u001b[39m1\u001b[39m \n\u001b[1;32m     29\u001b[0m \u001b[39mfor\u001b[39;00m i \u001b[39min\u001b[39;00m \u001b[39mrange\u001b[39m(\u001b[39m0\u001b[39m, num_coins):\n\u001b[0;32m---> 30\u001b[0m     v \u001b[39m=\u001b[39m np\u001b[39m.\u001b[39;49mrandom\u001b[39m.\u001b[39;49mrandint(\u001b[39m0\u001b[39;49m, \u001b[39m2\u001b[39;49m,num_flips)\u001b[39m.\u001b[39;49mmean()\n\u001b[1;32m     31\u001b[0m     vs\u001b[39m.\u001b[39mappend(v)\n\u001b[1;32m     32\u001b[0m     \u001b[39mif\u001b[39;00m (v \u001b[39m<\u001b[39m v_min):\n",
      "File \u001b[0;32m/Library/Python/3.8/site-packages/numpy/core/_methods.py:181\u001b[0m, in \u001b[0;36m_mean\u001b[0;34m(a, axis, dtype, out, keepdims, where)\u001b[0m\n\u001b[1;32m    178\u001b[0m         dtype \u001b[39m=\u001b[39m mu\u001b[39m.\u001b[39mdtype(\u001b[39m'\u001b[39m\u001b[39mf4\u001b[39m\u001b[39m'\u001b[39m)\n\u001b[1;32m    179\u001b[0m         is_float16_result \u001b[39m=\u001b[39m \u001b[39mTrue\u001b[39;00m\n\u001b[0;32m--> 181\u001b[0m ret \u001b[39m=\u001b[39m umr_sum(arr, axis, dtype, out, keepdims, where\u001b[39m=\u001b[39;49mwhere)\n\u001b[1;32m    182\u001b[0m \u001b[39mif\u001b[39;00m \u001b[39misinstance\u001b[39m(ret, mu\u001b[39m.\u001b[39mndarray):\n\u001b[1;32m    183\u001b[0m     \u001b[39mwith\u001b[39;00m _no_nep50_warning():\n",
      "\u001b[0;31mKeyboardInterrupt\u001b[0m: "
     ]
    }
   ],
   "source": [
    "# Problem 1 on https://work.caltech.edu/homework/hw2.pdf\n",
    "\n",
    "import numpy as np\n",
    "\n",
    "run_count = 100_000\n",
    "num_coins = 1_000\n",
    "num_flips = 10\n",
    "\n",
    "def runs():\n",
    "    total_v_1 = 0\n",
    "    total_v_rand = 0\n",
    "    total_v_min = 0\n",
    "\n",
    "    for i in range(0, run_count):\n",
    "        v_1, v_rand, v_min = run()\n",
    "        total_v_1 += v_1\n",
    "        total_v_rand += v_rand\n",
    "        total_v_min += v_min\n",
    "    \n",
    "    avg_v_1 = total_v_1 / run_count\n",
    "    avg_v_rand = total_v_rand / run_count\n",
    "    avg_v_min = total_v_min / run_count\n",
    "\n",
    "    return avg_v_1, avg_v_rand, avg_v_min\n",
    "\n",
    "def run():\n",
    "    coin_flips = np.random.randint(0, 2, (num_coins, num_flips))\n",
    "    vs = coin_flips.mean(axis=1)\n",
    "    v_min = vs.min()\n",
    "    v_1 = vs[0]\n",
    "    v_rand = vs[np.random.randint(0, num_coins)]\n",
    "\n",
    "    return v_1, v_rand, v_min\n",
    "\n",
    "print(runs())\n",
    "    "
   ]
  }
 ],
 "metadata": {
  "kernelspec": {
   "display_name": "Python 3",
   "language": "python",
   "name": "python3"
  },
  "language_info": {
   "codemirror_mode": {
    "name": "ipython",
    "version": 3
   },
   "file_extension": ".py",
   "mimetype": "text/x-python",
   "name": "python",
   "nbconvert_exporter": "python",
   "pygments_lexer": "ipython3",
   "version": "3.8.2"
  },
  "orig_nbformat": 4
 },
 "nbformat": 4,
 "nbformat_minor": 2
}
