{
 "cells": [
  {
   "cell_type": "code",
   "execution_count": 4,
   "metadata": {},
   "outputs": [
    {
     "name": "stdout",
     "output_type": "stream",
     "text": [
      "(0.5000710000000013, 0.50066700000001, 0.03768099999997669)\n"
     ]
    }
   ],
   "source": [
    "# Problem 1 on https://work.caltech.edu/homework/hw2.pdf\n",
    "\n",
    "import numpy as np\n",
    "\n",
    "run_count = 100_000\n",
    "num_coins = 1_000\n",
    "num_flips = 10\n",
    "\n",
    "def runs():\n",
    "    total_v_1 = 0\n",
    "    total_v_rand = 0\n",
    "    total_v_min = 0\n",
    "\n",
    "    for i in range(0, run_count):\n",
    "        v_1, v_rand, v_min = run()\n",
    "        total_v_1 += v_1\n",
    "        total_v_rand += v_rand\n",
    "        total_v_min += v_min\n",
    "    \n",
    "    avg_v_1 = total_v_1 / run_count\n",
    "    avg_v_rand = total_v_rand / run_count\n",
    "    avg_v_min = total_v_min / run_count\n",
    "\n",
    "    return avg_v_1, avg_v_rand, avg_v_min\n",
    "\n",
    "def run():\n",
    "    coin_flips = np.random.randint(0, 2, (num_coins, num_flips))\n",
    "    vs = coin_flips.mean(axis=1)\n",
    "    v_min = vs.min()\n",
    "    v_1 = vs[0]\n",
    "    v_rand = vs[np.random.randint(0, num_coins)]\n",
    "\n",
    "    return v_1, v_rand, v_min\n",
    "\n",
    "print(runs())\n",
    "    "
   ]
  }
 ],
 "metadata": {
  "kernelspec": {
   "display_name": "Python 3",
   "language": "python",
   "name": "python3"
  },
  "language_info": {
   "codemirror_mode": {
    "name": "ipython",
    "version": 3
   },
   "file_extension": ".py",
   "mimetype": "text/x-python",
   "name": "python",
   "nbconvert_exporter": "python",
   "pygments_lexer": "ipython3",
   "version": "3.8.2"
  },
  "orig_nbformat": 4
 },
 "nbformat": 4,
 "nbformat_minor": 2
}
