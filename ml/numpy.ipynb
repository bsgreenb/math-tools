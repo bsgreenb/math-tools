{
 "cells": [
  {
   "cell_type": "markdown",
   "metadata": {},
   "source": [
    "# Sources\n",
    "\n",
    "- [Mastering NumPy: Tips and Tricks for Efficient Numerical Computing](https://moez-62905.medium.com/mastering-numpy-tips-and-tricks-for-efficient-numerical-computing-624d44b4bebd)\n",
    "- [NumPy User Guide](https://numpy.org/doc/stable/user/quickstart.html)"
   ]
  },
  {
   "cell_type": "markdown",
   "metadata": {},
   "source": [
    "# The Basics\n",
    "\n",
    "In NumPy dimensions are called **axes**.  For example, the array for the coordinates of a point in 3D space, `[1, 2, 1]`, has one axis.  `[[1., 0., 0.],\n",
    " [0., 1., 2.]]` has two axes, the first having length 1 and the second having length 3.\n"
   ]
  },
  {
   "cell_type": "code",
   "execution_count": 13,
   "metadata": {},
   "outputs": [
    {
     "name": "stdout",
     "output_type": "stream",
     "text": [
      "2\n",
      "(2, 3)\n",
      "6\n"
     ]
    }
   ],
   "source": [
    "import numpy as np\n",
    "\n",
    "arr = np.array([[1,0,0],[0,1,2]])\n",
    "print(arr.ndim) # number of dimensions/axes\n",
    "print(arr.shape) # tuple of length of each dimension\n",
    "print(arr.size) # overall number of elements"
   ]
  },
  {
   "cell_type": "markdown",
   "metadata": {},
   "source": [
    "Often, the elements of an array are originally unknown, but its size is known. Hence, NumPy offers several functions to create arrays with initial placeholder content. These minimize the necessity of growing arrays, an expensive operation."
   ]
  },
  {
   "cell_type": "code",
   "execution_count": 77,
   "metadata": {},
   "outputs": [
    {
     "name": "stdout",
     "output_type": "stream",
     "text": [
      "[[0. 0. 0. 0.]\n",
      " [0. 0. 0. 0.]\n",
      " [0. 0. 0. 0.]]\n",
      "[[1. 1.]\n",
      " [1. 1.]]\n",
      "[[1. 0.]\n",
      " [0. 1.]]\n"
     ]
    }
   ],
   "source": [
    "print(np.zeros((3,4)))\n",
    "print(np.ones((2, 2)))\n",
    "# See https://stackoverflow.com/questions/28363447/what-are-the-advantages-of-using-numpy-identity-over-numpy-eye for diff with np.identity\n",
    "print(np.eye(2))"
   ]
  },
  {
   "cell_type": "markdown",
   "metadata": {},
   "source": [
    "To create sequences of numbers, NumPy provides the `arange` function which is analogous to the Python built-in range, but returns an array. When working with floating point ranges, we want to use `linspace`.  `linspace` receives as an argument the number of elements that we want, instead of the step."
   ]
  },
  {
   "cell_type": "code",
   "execution_count": 78,
   "metadata": {},
   "outputs": [
    {
     "name": "stdout",
     "output_type": "stream",
     "text": [
      "[0 1 2 3 4 5 6 7 8 9]\n",
      "[10 15]\n",
      "[0.   0.25 0.5  0.75 1.   1.25 1.5  1.75 2.  ]\n"
     ]
    }
   ],
   "source": [
    "print(np.arange(0,10))\n",
    "print(np.arange(10,20,5))\n",
    "\n",
    "print(np.linspace(0, 2, 9))"
   ]
  },
  {
   "cell_type": "markdown",
   "metadata": {},
   "source": [
    "Numpy provides `pi` and `e`.   "
   ]
  },
  {
   "cell_type": "code",
   "execution_count": 79,
   "metadata": {},
   "outputs": [
    {
     "name": "stdout",
     "output_type": "stream",
     "text": [
      "3.141592653589793\n",
      "2.718281828459045\n"
     ]
    }
   ],
   "source": [
    "print(np.pi)\n",
    "print(np.e)"
   ]
  },
  {
   "cell_type": "code",
   "execution_count": 80,
   "metadata": {},
   "outputs": [
    {
     "name": "stdout",
     "output_type": "stream",
     "text": [
      "[[0 1 2]\n",
      " [3 4 5]\n",
      " [6 7 8]]\n"
     ]
    }
   ],
   "source": [
    "# Shape a 1d array into the specified dimensions\n",
    "print(np.arange(9).reshape(3, 3))"
   ]
  },
  {
   "cell_type": "markdown",
   "metadata": {},
   "source": [
    "## Basic operations\n",
    "\n",
    "Arithmetic and logic operators on arrays apply elementwise."
   ]
  },
  {
   "cell_type": "code",
   "execution_count": 138,
   "metadata": {},
   "outputs": [
    {
     "name": "stdout",
     "output_type": "stream",
     "text": [
      "[ True  True False False]\n",
      "False\n",
      "True\n",
      "[ 0  1  2  3  4 50 60 70 80 90]\n",
      "2.0\n"
     ]
    }
   ],
   "source": [
    "a = np.array([20, 30, 40, 50])\n",
    "print(a < 35)\n",
    "\n",
    "# np.all tests whether all array elements along a given axis evaluate to True.\n",
    "print(np.all([[True,False],[True,True]]))\n",
    "\n",
    "# np.any tests whether any array element along a given axis evaluates to True.\n",
    "print(np.any([[True, False], [True, True]]))\n",
    "\n",
    "# np.where return elements chosen from x or y depending on condition.\n",
    "a = np.arange(10)\n",
    "print(np.where(a < 5, a, 10*a))\n",
    "\n",
    "#argmax and argmin give the indices of the max or min (along a given axis)\n",
    "\n",
    "# prod is product of elements\n",
    "print(np.prod([1.,2.]))\n"
   ]
  },
  {
   "cell_type": "markdown",
   "metadata": {},
   "source": [
    "# Stacking and splitting\n",
    "\n",
    "[Explanation](https://stackoverflow.com/questions/33356442/when-should-i-use-hstack-vstack-vs-append-vs-concatenate-vs-column-stack) of when to use concatenate vs other options."
   ]
  },
  {
   "cell_type": "code",
   "execution_count": 139,
   "metadata": {},
   "outputs": [
    {
     "name": "stdout",
     "output_type": "stream",
     "text": [
      "a: [[9 7]\n",
      " [5 2]]\n",
      "b: [[1 9]\n",
      " [5 1]]\n",
      "vstack: [[9 7]\n",
      " [5 2]\n",
      " [1 9]\n",
      " [5 1]]\n",
      "hstack: [[9 7 1 9]\n",
      " [5 2 5 1]]\n",
      "a: [9 7]\n",
      "b: [1 9]\n",
      "column_stack: [[9 1]\n",
      " [7 9]]\n",
      "x: [0. 1. 2. 3. 4. 5. 6. 7.]\n",
      "array_split: [array([0., 1., 2.]), array([3., 4., 5.]), array([6., 7.])]\n"
     ]
    }
   ],
   "source": [
    "a = np.array([[9, 7], [5, 2]])\n",
    "b = np.array([[1, 9], [5, 1]])\n",
    "\n",
    "print(\"a:\", a)\n",
    "print(\"b:\", b)\n",
    "print(\"vstack:\", np.vstack([a, b]))\n",
    "print(\"hstack:\", np.hstack([a, b]))\n",
    "a = np.array([9, 7])\n",
    "b = np.array([1, 9])\n",
    "print(\"a:\", a)\n",
    "print(\"b:\", b)\n",
    "print(\"column_stack:\", np.column_stack([a,b]))\n",
    "x = np.arange(8.0)\n",
    "print(\"x:\", x)\n",
    "print(\"array_split:\", np.array_split(x, 3))\n"
   ]
  },
  {
   "cell_type": "code",
   "execution_count": 140,
   "metadata": {},
   "outputs": [
    {
     "name": "stdout",
     "output_type": "stream",
     "text": [
      "[array([[9],\n",
      "       [5]]), array([[7],\n",
      "       [2]])]\n",
      "[array([[9, 7]]), array([[5, 2]])]\n"
     ]
    }
   ],
   "source": [
    "a = np.array([[9, 7], [5, 2]])\n",
    "b = np.array([[1, 9], [5, 1]])\n",
    "\n",
    "print(np.hsplit(a, 2))\n",
    "print(np.vsplit(a, 2))"
   ]
  },
  {
   "cell_type": "markdown",
   "metadata": {},
   "source": [
    "# Copies and views\n",
    "\n",
    "Overview of how mutability and copying work [here](https://numpy.org/doc/stable/user/quickstart.html#no-copy-at-all)."
   ]
  },
  {
   "cell_type": "markdown",
   "metadata": {},
   "source": [
    "# Advanced indexing and index tricks\n",
    "\n",
    " In addition to indexing by integers and slices, as we saw before, arrays can be indexed by arrays of integers and arrays of booleans."
   ]
  },
  {
   "cell_type": "code",
   "execution_count": 149,
   "metadata": {},
   "outputs": [
    {
     "name": "stdout",
     "output_type": "stream",
     "text": [
      "[ 1  1  9 64 25]\n",
      "[[ 9 16]\n",
      " [81 49]]\n",
      "[0 1 2 3 4]\n",
      "[0 0 2 0 0]\n",
      "[[0 1]\n",
      " [2 3]]\n",
      "[0 3]\n",
      "[0 1 2 3 4]\n",
      "[-44   1 -55   3   4]\n"
     ]
    }
   ],
   "source": [
    "a = np.arange(12)**2  # the first 12 square numbers\n",
    "i = np.array([1, 1, 3, 8, 5])  # an array of indices\n",
    "print(a[i])  # the elements of `a` at the positions `i`\n",
    "j = np.array([[3, 4], [9, 7]])  # a bidimensional array of indices\n",
    "print(a[j])  # the same shape as `j`\n",
    "\n",
    "# You can also use indexing with arrays as a target to assign to:\n",
    "a = np.arange(5)\n",
    "print(a)\n",
    "a[[1, 3, 4]] = 0\n",
    "print(a)\n",
    "\n",
    "a = np.arange(4).reshape(2,2)\n",
    "print(a)\n",
    "print(a.diagonal())\n",
    "\n",
    "# np.put replaces specified elements of an array with given values. it mutates the object.\n",
    "a = np.arange(5)\n",
    "print(a)\n",
    "np.put(a, [0, 2], [-44, -55])\n",
    "print(a)"
   ]
  },
  {
   "cell_type": "markdown",
   "metadata": {},
   "source": [
    "## Indexing with boolean arrays"
   ]
  },
  {
   "cell_type": "code",
   "execution_count": 150,
   "metadata": {},
   "outputs": [
    {
     "name": "stdout",
     "output_type": "stream",
     "text": [
      "[[False False False False]\n",
      " [False  True  True  True]\n",
      " [ True  True  True  True]]\n",
      "[ 5  6  7  8  9 10 11]\n",
      "[[0 1 2 3]\n",
      " [4 0 0 0]\n",
      " [0 0 0 0]]\n",
      "[[False False False False]\n",
      " [ True  True  True  True]\n",
      " [ True  True  True  True]]\n"
     ]
    }
   ],
   "source": [
    "a = np.arange(12).reshape(3, 4)\n",
    "b = a > 4\n",
    "print(b)  # `b` is a boolean with `a`'s shape\n",
    "print(a[b])  # 1d array with the selected elements\n",
    "a[b] = 0  # All elements of `a` higher than 4 become 0\n",
    "print(a)\n",
    "\n",
    "# you can select elements that satisfy two conditions using the & and | operators:\n",
    "a = np.array([[1 , 2, 3, 4], [5, 6, 7, 8], [9, 10, 11, 12]])\n",
    "five_up = (a > 5) | (a == 5)\n",
    "print(five_up)\n"
   ]
  },
  {
   "cell_type": "markdown",
   "metadata": {},
   "source": [
    "# Random Sampling\n",
    "[Docs](https://numpy.org/doc/stable/reference/random/index.html).  [Explanation](https://stackoverflow.com/questions/7029993/differences-between-numpy-random-and-random-random-in-python) of differences with built in `random.random`. The pseudo-random number generators implemented in this module as well as the built in one are designed for statistical modeling and simulation. They are not suitable for security or cryptographic purposes. See the secrets module from the standard library for such use cases.\n",
    "\n",
    "\n"
   ]
  },
  {
   "cell_type": "code",
   "execution_count": 151,
   "metadata": {},
   "outputs": [
    {
     "name": "stdout",
     "output_type": "stream",
     "text": [
      "0.9317779295075374\n"
     ]
    },
    {
     "data": {
      "text/plain": [
       "array([9, 1, 2, 8, 3])"
      ]
     },
     "execution_count": 151,
     "metadata": {},
     "output_type": "execute_result"
    }
   ],
   "source": [
    "import numpy as np\n",
    "rng = np.random.default_rng()\n",
    "# Generate one random float uniformly distributed over the range [0, 1)\n",
    "print(rng.random())\n",
    "# Generate an array of 10 numbers according to a unit Gaussian distribution.\n",
    "rng.standard_normal(10)  \n",
    "# Generate an array of 5 integers uniformly over the range [0, 10).\n",
    "rng.integers(low=0, high=10, size=5)  \n",
    "\n",
    "\n"
   ]
  },
  {
   "cell_type": "markdown",
   "metadata": {},
   "source": [
    "# Vectorize your code\n",
    "\n",
    "Vectorization is the process of transforming a scalar operation into a vector operation. In Numpy, you can perform vectorized operations on arrays instead of scalars, which can significantly improve the performance of your code.\n"
   ]
  },
  {
   "cell_type": "code",
   "execution_count": 152,
   "metadata": {},
   "outputs": [],
   "source": [
    "import numpy as np\n",
    "import timeit # Using Timeit for reason listed @ https://stackoverflow.com/a/17579466.  It's part of the python standard library.\n",
    "\n",
    "a = np.array(range(0,1000))\n",
    "\n",
    "def square_with_loop():\n",
    "    # Calculate the square of each element using a for loop\n",
    "    squared = []\n",
    "    for i in a:\n",
    "        i ** 2\n",
    "\n",
    "def square_with_vector():\n",
    "    a ** 2\n",
    "\n",
    "# print(timeit.timeit('square_with_loop()', globals=globals()))\n",
    "# print(timeit.timeit('square_with_vector()', globals=globals()))\n",
    "\n"
   ]
  }
 ],
 "metadata": {
  "kernelspec": {
   "display_name": "Python 3",
   "language": "python",
   "name": "python3"
  },
  "language_info": {
   "codemirror_mode": {
    "name": "ipython",
    "version": 3
   },
   "file_extension": ".py",
   "mimetype": "text/x-python",
   "name": "python",
   "nbconvert_exporter": "python",
   "pygments_lexer": "ipython3",
   "version": "3.8.2"
  },
  "orig_nbformat": 4
 },
 "nbformat": 4,
 "nbformat_minor": 2
}
