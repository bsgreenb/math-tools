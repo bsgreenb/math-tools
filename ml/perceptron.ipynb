{
 "cells": [
  {
   "cell_type": "code",
   "execution_count": null,
   "metadata": {},
   "outputs": [],
   "source": [
    "# Problems 7-10 on https://work.caltech.edu/homework/hw1.pdf\n",
    "\n",
    "import random\n",
    "\n",
    "def runs(n, run_count=1000):\n",
    "    pass\n",
    "\n",
    "def run(n):\n",
    "    line = generate_line()\n",
    "    xs = []\n",
    "    ys = []\n",
    "    for i in range(n):\n",
    "        x = generate_point()\n",
    "        y = evaluate_x(line, x)\n",
    "        xs.append(x)\n",
    "        ys.append(y)\n",
    "    print(xs)\n",
    "    print(ys)\n",
    "\n",
    "# Returns the intercept and slope of randomly generated line\n",
    "def generate_line():\n",
    "    point_1 = generate_point()\n",
    "    point_2 = generate_point()\n",
    "    return slope_and_intercept(point_1,point_2)\n",
    "\n",
    "def generate_point():\n",
    "    return [random.uniform(-1,1), random.uniform(-1,1)]\n",
    "\n",
    "def slope_and_intercept(point_1, point_2):\n",
    "    point_1, point_2 = sorted([point_1, point_2])\n",
    "    slope = (point_2[1] - point_1[1]) / (point_2[0] - point_1[0])\n",
    "    intercept = point_1[1] - (slope * point_1[0])\n",
    "    return slope, intercept\n",
    "\n",
    "# Returns 1 if above the line, -1 if on the bottom\n",
    "def evaluate_x(line, x):\n",
    "    slope, intercept = line\n",
    "    line_height = (slope * x[0]) + intercept\n",
    "    if x[1] > line_height:\n",
    "        return 1\n",
    "    else:\n",
    "        return -1\n",
    "\n",
    "run(10)"
   ]
  }
 ],
 "metadata": {
  "language_info": {
   "name": "python"
  },
  "orig_nbformat": 4
 },
 "nbformat": 4,
 "nbformat_minor": 2
}
