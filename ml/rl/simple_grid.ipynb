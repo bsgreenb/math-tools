{
 "cells": [
  {
   "cell_type": "markdown",
   "metadata": {},
   "source": [
    "Simple Grid:\n",
    "\n",
    "+---+---+---+\n",
    "| 0 | 1 | 2 |\n",
    "+---+---+---+\n",
    "| 3 | 4 | 5 |\n",
    "+---+---+---+\n",
    "| 6 | 7 | 8 | (Terminal)\n",
    "+---+---+---+\n",
    "\n",
    "Policy: move east if you can, otherwise move south.  8 is terminal state. (Simple deterministic policy)\n",
    "\n",
    "Rewards: The reward for each action is -1, except actions leading to the terminal state, which have 0 reward.\n",
    "\n"
   ]
  },
  {
   "cell_type": "code",
   "execution_count": 17,
   "metadata": {},
   "outputs": [
    {
     "name": "stdout",
     "output_type": "stream",
     "text": [
      "[[0 0 0]\n",
      " [0 0 0]\n",
      " [0 0 0]]\n",
      "[[-1. -1. -1.]\n",
      " [-1. -1.  0.]\n",
      " [-1.  0.  0.]]\n",
      "[[-1.5 -1.5 -1. ]\n",
      " [-1.5 -1.   0. ]\n",
      " [-1.   0.   0. ]]\n",
      "[[-1.75 -1.5  -1.  ]\n",
      " [-1.5  -1.    0.  ]\n",
      " [-1.    0.    0.  ]]\n",
      "Converged after 4 iterations with max_change: 0.0.\n"
     ]
    }
   ],
   "source": [
    "import numpy as np\n",
    "\n",
    "transitions = {\n",
    "    0: 1, 1: 2, 2: 5,  \n",
    "    3: 4, 4: 5, 5: 8,  \n",
    "    6: 7, 7: 8\n",
    "}\n",
    "TERMINAL_STATE = 8\n",
    "\n",
    "# Initialize the value function and parameters\n",
    "V = [0] * 9  # Initial value function with state 8 as terminal\n",
    "gamma = 1  # Discount factor\n",
    "delta_threshold = 0.01  # Convergence threshold\n",
    "\n",
    "def update_value_function(V, gamma, transitions):\n",
    "    V_next = V.copy()\n",
    "    for s in range(8):  # Iterate through non-terminal states\n",
    "        # Check if the state is 7, transitioning to the terminal state 8\n",
    "        next_state = transitions[s]\n",
    "        if next_state == TERMINAL_STATE:\n",
    "            reward = 0  # Reward for moving into the terminal state\n",
    "        else:\n",
    "            reward = -1  # Standard movement cost for all other transitions \n",
    "        V_next[s] = reward + (gamma * V[next_state])  # Apply the update rule\n",
    "    return V_next\n",
    "\n",
    "# Iteratively update V until convergence, using the corrected update_value_function\n",
    "iterations = 0\n",
    "max_change = 0\n",
    "while True:\n",
    "    print(np.reshape(V, (3,3)))\n",
    "    iterations += 1\n",
    "    V_new = update_value_function(V, gamma, transitions)\n",
    "    max_change = max(abs(V_new[s] - V[s]) for s in range(9))  # Calculate max change for convergence check\n",
    "    V = V_new.copy()  # Update value function for next iteration\n",
    "    if max_change < delta_threshold:  # Check if convergence criterion is met\n",
    "        break\n",
    "\n",
    "print(f\"Converged after {iterations} iterations with max_change: {max_change}.\")\n",
    "\n"
   ]
  }
 ],
 "metadata": {
  "kernelspec": {
   "display_name": "Python 3",
   "language": "python",
   "name": "python3"
  },
  "language_info": {
   "codemirror_mode": {
    "name": "ipython",
    "version": 3
   },
   "file_extension": ".py",
   "mimetype": "text/x-python",
   "name": "python",
   "nbconvert_exporter": "python",
   "pygments_lexer": "ipython3",
   "version": "3.11.7"
  }
 },
 "nbformat": 4,
 "nbformat_minor": 2
}
