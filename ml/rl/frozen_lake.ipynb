{
 "cells": [
  {
   "cell_type": "code",
   "execution_count": 9,
   "metadata": {},
   "outputs": [],
   "source": [
    "# Frozen Lake environment.  [Map out how rewards, actions, etc. work]\n",
    "\n",
    "import numpy as np\n",
    "import gymnasium as gym\n",
    "import random\n",
    "\n",
    "env = gym.make('FrozenLake-v1', map_name=\"4x4\", is_slippery=True)\n",
    "\n",
    "action_size = env.action_space.n\n",
    "state_size = env.observation_space.n\n",
    "\n",
    "q_table = np.zeros((state_size, action_size))\n",
    "\n",
    "# Set hyperparameters\n",
    "total_episodes = 10000       # Total episodes\n",
    "learning_rate = 0.5          # Learning rate\n",
    "# max_steps = 99               # Max steps per episode # Note: max_steps should be handled by truncation already.\n",
    "gamma = 0.99                 # Discounting rate\n",
    "\n",
    "# Exploration parameters\n",
    "epsilon = 1.0                # Exploration rate\n",
    "max_epsilon = 1.0            # Exploration probability at start\n",
    "min_epsilon = 0.01           # Minimum exploration probability \n",
    "decay_rate = 0.001           # Exponential decay rate for exploration prob\n",
    "\n",
    "# Idea behind decaying epsilon is you gradually transition from exploration to exploitation.\n",
    "\n",
    "# Q-learning algorithm\n",
    "for episode in range(total_episodes):\n",
    "    state, _ = env.reset()\n",
    "    done = False\n",
    "\n",
    "    while not done:\n",
    "        # Exploration-exploitation tradeoff\n",
    "        exp_exp_tradeoff = random.uniform(0, 1)\n",
    "        \n",
    "        # Choose action based on epsilon-greedy strategy\n",
    "        if exp_exp_tradeoff > epsilon:\n",
    "            action = np.argmax(q_table[state,:])\n",
    "        else:\n",
    "            action = env.action_space.sample()\n",
    "\n",
    "        # Take the action and observe the outcome\n",
    "        new_state, reward, terminated, truncated, info = env.step(action)\n",
    "        done = terminated or truncated  # Consider both terminated and truncated as the end of an episode\n",
    "\n",
    "        # Update Q-table using the Q-learning algorithm\n",
    "        q_table[state, action] = q_table[state, action] + learning_rate * (reward + gamma * np.max(q_table[new_state, :]) - q_table[state, action])\n",
    "\n",
    "        state = new_state\n",
    "    \n",
    "    # Decay epsilon\n",
    "    epsilon = min_epsilon + (max_epsilon - min_epsilon) * np.exp(-decay_rate * episode)\n",
    "    "
   ]
  },
  {
   "cell_type": "code",
   "execution_count": 10,
   "metadata": {},
   "outputs": [
    {
     "name": "stdout",
     "output_type": "stream",
     "text": [
      "****************************************************\n",
      "EPISODE  0\n",
      "Score 1.0\n",
      "****************************************************\n",
      "EPISODE  1\n",
      "Score 0.0\n",
      "****************************************************\n",
      "EPISODE  2\n",
      "Score 1.0\n",
      "****************************************************\n",
      "EPISODE  3\n",
      "Score 1.0\n",
      "****************************************************\n",
      "EPISODE  4\n",
      "Score 1.0\n",
      "Score over time: 0.8\n"
     ]
    },
    {
     "ename": "",
     "evalue": "",
     "output_type": "error",
     "traceback": [
      "\u001b[1;31mThe Kernel crashed while executing code in the the current cell or a previous cell. Please review the code in the cell(s) to identify a possible cause of the failure. Click <a href='https://aka.ms/vscodeJupyterKernelCrash'>here</a> for more info. View Jupyter <a href='command:jupyter.viewOutput'>log</a> for further details."
     ]
    }
   ],
   "source": [
    "env = gym.make('FrozenLake-v1', map_name=\"4x4\", is_slippery=True, render_mode=\"human\") # Show the guy doing his thing now\n",
    "# Use the Q-table to Play Game\n",
    "env.reset()\n",
    "rewards = []\n",
    "\n",
    "for episode in range(5):\n",
    "    state, _ = env.reset()\n",
    "    total_rewards = 0\n",
    "    print(\"****************************************************\")\n",
    "    print(\"EPISODE \", episode)\n",
    "\n",
    "    while True:\n",
    "        env.render()\n",
    "        action = np.argmax(q_table[state,:])\n",
    "        new_state, reward, terminated, truncated, info = env.step(action)\n",
    "        done = terminated or truncated\n",
    "\n",
    "        total_rewards += reward\n",
    "\n",
    "        if done:\n",
    "            rewards.append(total_rewards)\n",
    "            print(\"Score\", total_rewards)\n",
    "            break\n",
    "\n",
    "        state = new_state\n",
    "\n",
    "env.close()\n",
    "print(\"Score over time:\", sum(rewards) / len(rewards))"
   ]
  }
 ],
 "metadata": {
  "kernelspec": {
   "display_name": "Python 3",
   "language": "python",
   "name": "python3"
  },
  "language_info": {
   "codemirror_mode": {
    "name": "ipython",
    "version": 3
   },
   "file_extension": ".py",
   "mimetype": "text/x-python",
   "name": "python",
   "nbconvert_exporter": "python",
   "pygments_lexer": "ipython3",
   "version": "3.11.7"
  }
 },
 "nbformat": 4,
 "nbformat_minor": 2
}
