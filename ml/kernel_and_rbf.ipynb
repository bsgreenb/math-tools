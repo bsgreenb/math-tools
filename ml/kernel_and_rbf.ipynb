{
 "cells": [
  {
   "cell_type": "code",
   "execution_count": 23,
   "metadata": {},
   "outputs": [],
   "source": [
    "# Problem 2-10 on https://work.caltech.edu/homework/hw8.pdf\n",
    "\n",
    "# the format of each row is: digit, intensity, symmetry\n",
    "# we will train two types of binary classifiers: \n",
    "# - one-versus-one (one digit is class +1 and another digit is class -1, with the rest of digits disregarded),\n",
    "# - one-versus-all (one digit is class +1 and the rest are class -1)\n",
    "\n",
    "# When evaluating E_in and E_out, use binary classification error\n",
    "# Do not scale the data\n",
    "\n",
    "import numpy as np\n",
    "from sklearn import svm\n",
    "from pprint import pp\n",
    "\n",
    "training_data = np.loadtxt('features.train')\n",
    "testing_data = np.loadtxt('features.test')\n",
    "\n",
    "training_xs = training_data[:,1:3]\n",
    "training_ys = training_data[:,0]\n",
    "\n",
    "testing_xs = testing_data[:,1:3]\n",
    "testing_ys = testing_data[:,0]\n"
   ]
  },
  {
   "attachments": {},
   "cell_type": "markdown",
   "metadata": {},
   "source": [
    "## Polynomial Kernels\n",
    "\n",
    "Covers problems 2-6"
   ]
  },
  {
   "cell_type": "code",
   "execution_count": 26,
   "metadata": {},
   "outputs": [
    {
     "name": "stdout",
     "output_type": "stream",
     "text": [
      "{'0.0001_2': {'e_in': 0.008968609865470878,\n",
      "              'e_out': 0.01650943396226412,\n",
      "              'svs': 236},\n",
      " '0.0001_5': {'e_in': 0.004484304932735439,\n",
      "              'e_out': 0.018867924528301883,\n",
      "              'svs': 26},\n",
      " '0.001_2': {'e_in': 0.004484304932735439,\n",
      "             'e_out': 0.01650943396226412,\n",
      "             'svs': 76},\n",
      " '0.001_5': {'e_in': 0.004484304932735439,\n",
      "             'e_out': 0.021226415094339646,\n",
      "             'svs': 25},\n",
      " '0.01_2': {'e_in': 0.004484304932735439,\n",
      "            'e_out': 0.018867924528301883,\n",
      "            'svs': 34},\n",
      " '0.01_5': {'e_in': 0.0038436899423446302,\n",
      "            'e_out': 0.021226415094339646,\n",
      "            'svs': 23},\n",
      " '0.1_2': {'e_in': 0.004484304932735439,\n",
      "           'e_out': 0.018867924528301883,\n",
      "           'svs': 24},\n",
      " '0.1_5': {'e_in': 0.0032030749519538215,\n",
      "           'e_out': 0.018867924528301883,\n",
      "           'svs': 25},\n",
      " '1_2': {'e_in': 0.0032030749519538215,\n",
      "         'e_out': 0.018867924528301883,\n",
      "         'svs': 24},\n",
      " '1_5': {'e_in': 0.0032030749519538215,\n",
      "         'e_out': 0.021226415094339646,\n",
      "         'svs': 21}}\n"
     ]
    }
   ],
   "source": [
    "# Adapted from https://github.com/workflow/caltech-machine-learning-homework/blob/master/HW8.ipynb\n",
    "\n",
    "def make_binary(ys, digit):\n",
    "    return np.array([1 if y == digit else -1 for y in ys])\n",
    "\n",
    "# Problems 1-5..\n",
    "\n",
    "# Classify list of digits provided. Does one-versus all comparison.  Returns dictionary w/ digits => (e_in, support_vectors)\n",
    "def classify(digits, C, Q):\n",
    "    results = {}\n",
    "    clf = svm.SVC(kernel='poly', C=C, degree=Q, gamma=1.0, coef0=1.0)\n",
    "    for digit in digits:\n",
    "        binary_ys = make_binary(training_ys, digit)\n",
    "        clf.fit(training_xs, binary_ys)\n",
    "        score = clf.score(training_xs, binary_ys)\n",
    "        results[digit] = {'e_in': 1 - score, 'svs': len(clf.support_vectors_)}\n",
    "    \n",
    "    return results\n",
    "\n",
    "# pp(classify([0,2,4,6,8], .01, 2))\n",
    "# pp(classify([1,3,5,7,9], .01, 2))\n",
    "\n",
    "def make_one_v_one(xs, ys, digit_1, digit_2):\n",
    "    ids = (ys == digit_1) | (ys == digit_2)\n",
    "    return (xs[ids], ys[ids])\n",
    "\n",
    "def one_vs_five_classify():\n",
    "    results = {}\n",
    "    train_xs, train_ys = make_one_v_one(training_xs, training_ys, 1, 5)\n",
    "    test_xs, test_ys = make_one_v_one(testing_xs, testing_ys, 1, 5)\n",
    "    for C in (.0001, .001, .01, .1, 1):\n",
    "        for Q in (2, 5):\n",
    "            clf = svm.SVC(kernel='poly', C=C, degree=Q, gamma=1.0, coef0=1.0)\n",
    "            clf.fit(train_xs, train_ys)\n",
    "            e_in = 1 - clf.score(train_xs, train_ys) \n",
    "            e_out = 1 - clf.score(test_xs, test_ys)\n",
    "            svs = len(clf.support_vectors_)\n",
    "            results[str(C) + \"_\" + str(Q)] = {'e_in': e_in, 'e_out': e_out, 'svs': svs}\n",
    "    \n",
    "    return results\n",
    "\n",
    "pp(one_vs_five_classify())\n",
    "            "
   ]
  },
  {
   "attachments": {},
   "cell_type": "markdown",
   "metadata": {},
   "source": [
    "## Cross-Validation\n",
    "\n"
   ]
  },
  {
   "cell_type": "code",
   "execution_count": 37,
   "metadata": {},
   "outputs": [
    {
     "name": "stdout",
     "output_type": "stream",
     "text": [
      "Cs [1.e-04 1.e-03 1.e-02 1.e-01 1.e+00]\n",
      "counts [388 500  47  24  41]\n"
     ]
    }
   ],
   "source": [
    "from sklearn.model_selection import RepeatedKFold, RepeatedStratifiedKFold\n",
    "\n",
    "# TODO: see if results differ between k fold and stratified k fold..\n",
    "\n",
    "train_xs_1_v_5, train_ys_1_v_5 = make_one_v_one(training_xs, training_ys, 1, 5)\n",
    "\n",
    "rkf = RepeatedKFold(n_splits=10, n_repeats=100)\n",
    "\n",
    "winners = []\n",
    "for train_indexes, val_indexes in rkf.split(train_xs, train_ys):\n",
    "    train_xs = train_xs_1_v_5[train_indexes]\n",
    "    train_ys = train_ys_1_v_5[train_indexes]\n",
    "    val_xs = train_xs_1_v_5[val_indexes]\n",
    "    val_ys = train_ys_1_v_5[val_indexes]\n",
    "\n",
    "    best_score = 0\n",
    "    winner = None\n",
    "    for C in [.0001, .001, .01, .1, 1]:\n",
    "        clf = svm.SVC(kernel='poly', C=C, degree=2, gamma=1.0, coef0=1.0)\n",
    "        clf.fit(train_xs, train_ys)\n",
    "        score = clf.score(val_xs, val_ys)\n",
    "        if score > best_score:\n",
    "            best_score = score\n",
    "            winner = C\n",
    "\n",
    "    winners.append(winner)\n",
    "\n",
    "Cs, counts = np.unique(winners, return_counts = True)\n",
    "print(\"Cs\", Cs)\n",
    "print(\"counts\", counts)\n",
    "\n"
   ]
  },
  {
   "cell_type": "code",
   "execution_count": 39,
   "metadata": {},
   "outputs": [
    {
     "name": "stdout",
     "output_type": "stream",
     "text": [
      "0.004683610975012242\n"
     ]
    }
   ],
   "source": [
    "from sklearn.model_selection import cross_val_score\n",
    "\n",
    "C = .001\n",
    "rkf = RepeatedKFold(n_splits=10, n_repeats=100)\n",
    "clf = svm.SVC(kernel='poly', C=C, degree=2, gamma=1.0, coef0=1.0)\n",
    "\n",
    "scores = cross_val_score(clf, train_xs_1_v_5, train_ys_1_v_5, cv=rkf)\n",
    "\n",
    "print(1 - scores.mean())\n"
   ]
  },
  {
   "attachments": {},
   "cell_type": "markdown",
   "metadata": {},
   "source": [
    "## RBF Kernel"
   ]
  },
  {
   "cell_type": "code",
   "execution_count": 43,
   "metadata": {},
   "outputs": [
    {
     "name": "stdout",
     "output_type": "stream",
     "text": [
      "{0.01: 0.0038436899423446302, 1: 0.004484304932735439, 100: 0.0032030749519538215, 10000: 0.002562459961563124, 1000000: 0.0006406149903908087}\n",
      "{0.01: 0.02358490566037741, 1: 0.021226415094339646, 100: 0.018867924528301883, 10000: 0.02358490566037741, 1000000: 0.02358490566037741}\n"
     ]
    }
   ],
   "source": [
    "test_xs_1_v_5, test_ys_1_v_5 = make_one_v_one(testing_xs, testing_ys, 1, 5)\n",
    "\n",
    "Cs = [.01, 1, 100, 10**4, 10**6]\n",
    "\n",
    "e_ins = {}\n",
    "e_outs = {}\n",
    "for C in Cs:\n",
    "    clf = svm.SVC(kernel='rbf', C=C, gamma=1.0, coef0=1.0)\n",
    "    clf.fit(train_xs_1_v_5, train_ys_1_v_5)\n",
    "    e_in = 1 - clf.score(train_xs_1_v_5, train_ys_1_v_5)\n",
    "    e_out = 1 - clf.score(test_xs_1_v_5, test_ys_1_v_5)\n",
    "\n",
    "    e_ins[C] = e_in\n",
    "    e_outs[C] = e_out\n",
    "\n",
    "print(\"e_ins\", e_ins)\n",
    "print(\"e_outs\", e_outs)\n",
    "    "
   ]
  }
 ],
 "metadata": {
  "kernelspec": {
   "display_name": ".venv",
   "language": "python",
   "name": "python3"
  },
  "language_info": {
   "codemirror_mode": {
    "name": "ipython",
    "version": 3
   },
   "file_extension": ".py",
   "mimetype": "text/x-python",
   "name": "python",
   "nbconvert_exporter": "python",
   "pygments_lexer": "ipython3",
   "version": "3.9.6"
  },
  "orig_nbformat": 4
 },
 "nbformat": 4,
 "nbformat_minor": 2
}
