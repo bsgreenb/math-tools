{
 "cells": [
  {
   "cell_type": "markdown",
   "id": "a3657e36-d7a1-464a-a811-15661aec073c",
   "metadata": {},
   "source": [
    "# Parametric Equations\n",
    "\n",
    "## Defining and differentiating parametric equations\n",
    "\n",
    "## Parametric Curve Arc Length\n",
    "\n",
    "[Khan Vid](https://www.khanacademy.org/math/ap-calculus-bc/bc-advanced-functions-new/bc-9-3/v/parametric-curve-arc-length?modal=1)\n",
    "\n",
    "The connection between Arc Length (Covered on Integral Calculus notebook) and Parametric Equations can be derived as follows:\n",
    "\n",
    "In the integral defining the arc length of the curve, we make the substitution $x=g(t)$ and obtain\n",
    "$$\n",
    "\\begin{aligned}\n",
    "L &=\\int_{a}^{b} \\sqrt{1+\\left[f^{\\prime}(x)\\right]^{2}} d x \\\\\n",
    "&=\\int_{c}^{d} \\sqrt{1+\\left[f^{\\prime}(g(t))\\right]^{2}} g^{\\prime}(t) d t \\\\\n",
    "&=\\int_{c}^{d} \\sqrt{\\left[g^{\\prime}(t)\\right]^{2}+\\left[f^{\\prime}(g(t)) g^{\\prime}(t)\\right]^{2}} d t \\\\\n",
    "&=\\int_{c}^{d} \\sqrt{\\left[g^{\\prime}(t)\\right]^{2}+\\left[h^{\\prime}(t)\\right]^{2}} d t \\\\\n",
    "&=\\int_{c}^{d} \\sqrt{\\left(\\frac{d x}{d t}\\right)^{2}+\\left(\\frac{d y}{d t}\\right)^{2}} d t\n",
    "\\end{aligned}\n",
    "$$"
   ]
  },
  {
   "cell_type": "markdown",
   "id": "e85b31de-7e0b-42d5-b607-e5adec453492",
   "metadata": {},
   "source": [
    "# Polar Coordinates"
   ]
  }
 ],
 "metadata": {
  "kernelspec": {
   "display_name": "Python 3 (ipykernel)",
   "language": "python",
   "name": "python3"
  },
  "language_info": {
   "codemirror_mode": {
    "name": "ipython",
    "version": 3
   },
   "file_extension": ".py",
   "mimetype": "text/x-python",
   "name": "python",
   "nbconvert_exporter": "python",
   "pygments_lexer": "ipython3",
   "version": "3.9.2"
  }
 },
 "nbformat": 4,
 "nbformat_minor": 5
}
