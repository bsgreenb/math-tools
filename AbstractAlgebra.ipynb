{
 "cells": [
  {
   "cell_type": "markdown",
   "metadata": {},
   "source": [
    "Notes here are based on Pinter - A Book of Abstract Algebra, 2nd Edition.\n",
    "\n",
    "# Algebras\n",
    "\n",
    "Every **algebra** consists of a set and certain operations on that set.\n",
    "\n",
    "An **algebraic structure** is a set with one or more operations defined on it.\n",
    "\n",
    "# Operations\n",
    "\n",
    "An **operation** $\\circ$ on $A$ is a rule which assigns to each ordered pair $(a, b)$ of elements of A exactly one element $a \\circ b$ in $A$.\n",
    "\n",
    "## Algebraic Properties\n",
    "Properties of operations on a set $A$:\n",
    "\n",
    "* **Closure**: The operation on elements in $A$ always produces another element of $A$.\n",
    "* **Commutativity**:  $a \\circ b = b \\circ a $ for any two elements $a$ and $b$ in $A$. \n",
    "* **Associativity**: $(a \\circ b) \\circ c = a \\circ (b \\circ c)$ for any three elements $a,b,c$ in $A$.\n",
    "\n",
    "Other algebraic properties include existence of an identity/neutral element, existence of an inverses of all elements, and distributivity (which applices to structures with multiple operations).  More on all these to follow.\n",
    "\n",
    "## Neutral Element\n",
    "If there exists an element $e$ in $A$ such that\n",
    "\n",
    "$e \\circ a = a$ and $a \\circ e = a$ for every $a$ in $A$\n",
    "\n",
    "we call $e$ an **identity element** aka **neutral element** for the operation $\\circ$.\n",
    "\n",
    "0 is identity element for addition, 1 for multiplication.\n",
    "\n",
    "## Inverses \n",
    "\n",
    "An **inverse** $a^{-1}$ is defined by causing $a$ to reach the neutral element $e$:\n",
    "\n",
    "$a \\circ a^{-1} = e$ and $a^{-1} \\circ a = e$"
   ]
  },
  {
   "cell_type": "markdown",
   "metadata": {},
   "source": [
    "# Groups\n",
    "\n",
    "A **group** is a set $G$ with an operation $\\circ$ which satisfies the axioms:\n",
    "1. $\\circ$ is associative.\n",
    "2. There is an element $e$ in $G$ such that $a \\circ e = a$ and $e \\circ a = a$ for every element $a$ in $G$.\n",
    "3. For every element $a$ in $G$, there is an element $a^{−1}$ in $G$ such that $a \\circ a^{-1} = e$ and $a^{-1} \\circ a = e$.\n",
    "\n",
    "The notation for the above group would be $\\left<G, \\circ\\right>$\n",
    "\n",
    "If the commutative law holds in a group $G$, such a group is called an **abelian group** or a **commutative group**."
   ]
  }
 ],
 "metadata": {
  "language_info": {
   "name": "python"
  }
 },
 "nbformat": 4,
 "nbformat_minor": 2
}
