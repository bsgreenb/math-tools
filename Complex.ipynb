{
 "cells": [
  {
   "cell_type": "markdown",
   "metadata": {},
   "source": [
    "# Imaginary unit i\n",
    "\n",
    "Definition: $ i = \\sqrt(-1) $\n",
    "\n",
    "# $ i^n $\n",
    "It cycles real interesting like:\n",
    "\n",
    "$$\n",
    "\\begin{align*}\n",
    "i^0 = 1  \\\\\n",
    "i^1 = i \\\\\n",
    "i^2 = -1 \\\\\n",
    "i^3 = -i \\\\\n",
    "\\end{align*}\n",
    "$$\n",
    "\n",
    "It continues on like that in both directions: $ (...1,i,-1,-i...) $\n",
    "\n",
    "# Simplify roots of negative numbers\n",
    "\n",
    "You Cannot seperate out square roots like this when $ a $ and $ b $ are BOTH negative: \n",
    "\n",
    "$$ \\sqrt(ab) = \\sqrt{a}\\sqrt{b} $$\n",
    "\n",
    "The reason for this is that that heuristic (more generally $ (ab)^n = a^nb^n $) doesn't hold for complex numbers.  Speifically..\n",
    "\n",
    "# i as the principal root of -1\n",
    "\n",
    "https://youtu.be/rYG1D5lUE4I\n",
    "\n",
    "the Square root function (indicated in notation by the \"radical\" symbol) has a different input range implied when there's a negative number.  It's like a different function, so can't joined or split to/from a regular square root.\n",
    "\n",
    "We can only do $ \\sqrt{-x} = i\\sqrt{x} $ when $ x > 0 $.  This ensures the complex radical only deals with that stuff, and the principal root is taken for positive numbers. \n",
    "\n",
    "# Complex numbers\n",
    "\n",
    "Real and imaginary parts.\n",
    "\n",
    "$ z = 5 + 3i $\n",
    "\n",
    "Visualize on the complex plane, with y axis as imaginary and x axis as real.  R and C are drawn like this for the sets of Real and Complex numbers.  There's not really a standard symbol for just Imaginary numbers, because people are usually either Real of full Complex ya dig.  https://math.stackexchange.com/questions/2261438/what-is-the-symbol-for-imaginary-numbers\n",
    "\n",
    "$$ \\mathbb{R} $$\n",
    "$$ \\mathbb{C} $$\n",
    "\n",
    "# Complex numbers as Vectors\n",
    "\n",
    "> Complex numbers behave exactly like two dimensional vectors. Indeed real numbers are one dimensional vectors (on a line) and complex numbers are two dimensional vectors\n",
    "\n",
    "# Finding complex roots of a quadratic\n",
    "\n",
    "You want to use the quadratic formula here.  And note that you can multiply shit arbitrarily to get the type of equations you want \n"
   ]
  },
  {
   "cell_type": "markdown",
   "metadata": {},
   "source": [
    "# Imaginary exponents\n",
    "\n",
    "Good video for getting the initial intuitions, which I'll describe below https://www.youtube.com/watch?v=mvmuCPvRoWQ\n",
    "\n",
    "First, understand how imaginary multiplication works.  Multiplying by $ i $ is a rotation 90 degrees on the complex plane.  Exponentation is just doing that same rotation, but not split up into chunks of $ i $ but continuous along the unit circle.  It doesn't matter what the real base is, the real and imaginary parts of $ n^{ix} $ will always be movements along the unit circle.  Only with base e though, will you get the radian input to match as in Euler's Formula: \n",
    "\n",
    "$$ e^{i\\theta} = \\cos{\\theta} + i\\sin{\\theta} $$\n",
    "\n",
    "As for other bases, it works via natural log like:\n",
    "$$\n",
    "n^i = e^{i\\ln{n}} = \\cos(\\ln{n}) + i\\sin(\\ln{n})\n",
    "$$\n",
    "\n",
    "https://math.stackexchange.com/a/9783/49487 explains why the real and imaginary parts of $ n^i $ will always lie on the unit circle, though the proof isn't completely grokd by me yet.  \n",
    "\n",
    "https://www.youtube.com/watch?v=N3Xxj4xNjIo is a proof of Euler's Formula without taylor series, just derivatives to find a specific value is constant.  I'd like to go through the proof again, and the original Taylor series proof, as I proceed through calculus.\n",
    "\n"
   ]
  }
 ],
 "metadata": {
  "kernelspec": {
   "display_name": "Python 3 (ipykernel)",
   "language": "python",
   "name": "python3"
  },
  "language_info": {
   "codemirror_mode": {
    "name": "ipython",
    "version": 3
   },
   "file_extension": ".py",
   "mimetype": "text/x-python",
   "name": "python",
   "nbconvert_exporter": "python",
   "pygments_lexer": "ipython3",
   "version": "3.9.2"
  }
 },
 "nbformat": 4,
 "nbformat_minor": 4
}
