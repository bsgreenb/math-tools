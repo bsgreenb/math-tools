{
 "cells": [
  {
   "cell_type": "markdown",
   "id": "109ae03e-102c-48eb-95fa-a6f7de0086f2",
   "metadata": {},
   "source": [
    "# Vectors\n",
    "\n",
    "Using [Khan](https://www.khanacademy.org/math/get-ready-for-ap-calc/xa350bf684c056c5c:get-ready-for-parametric-polar-vector) to get the basics here just as part of doing AP Calc.  But will expand this once taking on Linear Algebra.\n",
    "\n",
    "A vector is not defined by it's starting point, just its magnitude and direction.  It could be dropped anywhere on a graph.\n",
    "\n",
    "Vectorsare related to Parametric Equations.  \n",
    "\n",
    "[0 upvote MSE Question](https://math.stackexchange.com/a/1940372/49487) which hopefully is correct:\n",
    "\n",
    "> parametric equation with only one parameter, it's the same thing. The parametric equations are the components of the vector function.\n",
    "\n",
    "## Norm / Magnitude\n",
    "\n",
    "Vector magnitude from components:\n",
    "The magnitude of $(a, b)$ is $\\|(a, b)\\|=\\sqrt{a^{2}+b^{2}}$.\n",
    "\n",
    "## Direction of Vectors\n",
    "\n",
    "Arctan has a limited range, so if you want to get an angle from the vector components. In Quadrants II and III, you'll wanna add 180.  In Quadrant IV, you'll get a negative angle which you can add 360 to to get a positive one.  \n",
    "\n",
    "If you're using [atan2](https://en.wikipedia.org/wiki/Atan2), it works a bit different than that.\n",
    "\n",
    "## Vector components from magnitude and direction\n",
    "\n",
    "The components of a vector with magnitude $\\|\\vec{u}\\|$ and direction $\\theta$ are $(\\|\\vec{u}\\| \\cos (\\theta),\\|\\vec{u}\\| \\sin (\\theta))$.\n",
    "\n",
    "## Unit Vectors\n",
    "[Unit vector](https://en.wikipedia.org/wiki/Unit_vector)\n",
    "\n",
    "[Notation varies](https://math.stackexchange.com/questions/965477/unit-vector-symbols-names):\n",
    "\n",
    "> Some people prefer 𝑖⃗ ,𝑗⃗ ,𝑘⃗ , some people prefer 𝑥̂ ,𝑦̂ ,𝑧̂ , some people prefer 𝑒1,𝑒2,𝑒3... \n",
    "\n",
    "## Formal Definition\n",
    "[Vector Space](https://en.wikipedia.org/wiki/Vector_space)\n",
    "[write out formal definition\n",
    "\n",
    "## Euclidean Vectors\n",
    "[Euclidean Vectors](https://en.wikipedia.org/wiki/Euclidean_vector)\n",
    "\n",
    "### Position Vectors\n",
    "[Position Vectors](https://en.wikipedia.org/wiki/Position_(geometry))\n",
    "\n",
    "\n",
    "\n"
   ]
  }
 ],
 "metadata": {
  "kernelspec": {
   "display_name": "Python 3 (ipykernel)",
   "language": "python",
   "name": "python3"
  },
  "language_info": {
   "codemirror_mode": {
    "name": "ipython",
    "version": 3
   },
   "file_extension": ".py",
   "mimetype": "text/x-python",
   "name": "python",
   "nbconvert_exporter": "python",
   "pygments_lexer": "ipython3",
   "version": "3.9.2"
  }
 },
 "nbformat": 4,
 "nbformat_minor": 5
}
