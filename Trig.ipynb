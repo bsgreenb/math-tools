{
 "cells": [
  {
   "cell_type": "markdown",
   "metadata": {},
   "source": [
    "# Trig Functions\n",
    "\n",
    "These are used in Right Triangles, but for non-right triangles you can construct right triangles to take advantage of trig functions..\n",
    "\n",
    "$$\n",
    "\\begin{align*}\n",
    "& \\sin{\\theta} = \\frac{opposite}{hypotenuse} \\\\\n",
    "& \\cos{\\theta} = \\frac{adjacent}{hypotenuse} \\\\\n",
    "& \\tan{\\theta} = \\frac{opposite}{adjacent} = \\frac{\\sin{\\theta}}{\\cos{\\theta}}\n",
    "\\end{align*}\n",
    "$$"
   ]
  },
  {
   "cell_type": "code",
   "execution_count": 2,
   "metadata": {
    "tags": []
   },
   "outputs": [
    {
     "name": "stdout",
     "output_type": "stream",
     "text": [
      "0.1411200080598672\n",
      "-0.9899924966004454\n",
      "-0.1425465430742778\n",
      "0.7071067811865475\n"
     ]
    }
   ],
   "source": [
    "import math\n",
    "\n",
    "# Radians by default\n",
    "print(math.sin(3))\n",
    "print(math.cos(3))\n",
    "print(math.tan(3))\n",
    "\n",
    "# For getting angles instead of radians\n",
    "print(math.sin(math.radians(45)))"
   ]
  },
  {
   "cell_type": "markdown",
   "metadata": {},
   "source": [
    "## Inverse functions\n",
    "\n",
    "To go from ratio to $ \\theta $ use inverse trig functions which also have arc- type names.\n",
    "\n",
    "$$\n",
    "\\begin{aligned}\n",
    "& \\sin^{-1}(\\frac{opposite}{hypotenuse}) = \\arcsin(\\frac{opposite}{hypotenuse}) = \\theta \\\\\n",
    "& \\cos^{-1}(\\frac{adjacent}{hypotenuse}) = \\arccos(\\frac{adjacent}{hypotenuse}) = \\theta \\\\\n",
    "& \\tan^{-1}(\\frac{opposite}{adjacent}) = \\arctan(\\frac{opposite}{adjacent}) = \\theta \\\\\n",
    "\\end{aligned}\n",
    "$$\n",
    "\n",
    "The inverse functions for $\\sin $ and $ \\tan $ are limited to the right side of the unit circle, because multiple angles are possible as answers due to periodicty.  So they are limited from $ \\frac{\\pi}{2} $ to $ -\\frac{\\pi}{2} $ radians, alternately $ 90 $ to $ -90 $ degrees.  Obvi with $ \\tan()$ you cant take that one point with infinite Slope.  Remember Tan is all about dat slope.\n",
    "\n",
    "For same reasons, $ \\cos $ is limited to the top of the unit circle, that is from $ 0 $ to $ \\pi $.\n",
    "\n",
    "Kinda cool to note how math has input validation like computer functions.  Also, calling inverse on a function of x just gets you x.\n",
    "\n",
    "Do not confuse the $^{-1}$ to mean $\\frac{1}{x}$, which is actually a description of the Reciprocal functions to follow."
   ]
  },
  {
   "cell_type": "code",
   "execution_count": 3,
   "metadata": {
    "tags": []
   },
   "outputs": [
    {
     "name": "stdout",
     "output_type": "stream",
     "text": [
      "1.5707963267948966\n",
      "0.0\n",
      "0.7853981633974483\n",
      "45.0\n"
     ]
    }
   ],
   "source": [
    "print(math.asin(1))\n",
    "print(math.acos(1))\n",
    "print(math.atan(1))\n",
    "\n",
    "# For getting angles instead of radians\n",
    "\n",
    "print(math.degrees(math.atan(1)))"
   ]
  },
  {
   "cell_type": "markdown",
   "metadata": {},
   "source": [
    "## Reciprocal Functions\n",
    "\n",
    "Just switch up those fractions.\n",
    "\n",
    "**Cosecant** is the reciprocal of Sine. $ \\csc{\\theta} = \\frac{hypotenuse}{opposite} $\n",
    "\n",
    "**Secant** is the reciprocal of the Cosine.  $ \\sec{\\theta} = \\frac{hypotenuse}{adjacent} $\n",
    "\n",
    "**Cotangent** is the reciprocal of the Tangent.  $ \\cot{\\theta} = \\frac{adjacent}{opposite} $"
   ]
  },
  {
   "cell_type": "code",
   "execution_count": 4,
   "metadata": {
    "tags": []
   },
   "outputs": [
    {
     "name": "stdout",
     "output_type": "stream",
     "text": [
      "7.086167395737187\n",
      "-1.0101086659079939\n",
      "-7.015252551434534\n"
     ]
    }
   ],
   "source": [
    "print(1 / math.sin(3)) # Cosecant. Way easier than getting a lib for a sugar function.  Though if I want to preserve symbolic manipulation I should get sympy.\n",
    "print(1 / math.cos(3)) # Secant\n",
    "print(1 / math.tan(3)) # Cotangent"
   ]
  },
  {
   "cell_type": "markdown",
   "metadata": {},
   "source": [
    "# Trig Identities\n",
    "\n",
    "## Pythagorean Trig Identities\n",
    "\n",
    "**Sin/Cos Pythagorean Identity**: $\\sin^2(\\theta) + \\cos^2(\\theta) = 1$\n",
    "\n",
    "From the unit circle definition of cos/sin we see that $ (\\sin(\\theta))^2 + (\\cos(\\theta))^2  = 1  $\n",
    "\n",
    "$$ \n",
    "\\begin{align*}\n",
    "\\sin(\\theta))^2 + (\\cos(\\theta))^2 \\\\\n",
    "(\\frac{b}{c})^2 + (\\frac{a}{c})^2 \\\\\n",
    "\\frac{b^2 + a^2}{c^2} \\\\\n",
    "\\frac{c^2}{c^2} \\\\\n",
    "(\\sin(\\theta))^2 + (\\cos(\\theta))^2  = 1 \\\\\n",
    "\\end{align*}\n",
    "$$\n",
    "\n",
    "This identity can be manipulated to give us the **Tan/Sec Pythagorean Identity**:\n",
    "\n",
    "$$\\tan^2{\\theta} + 1 = \\sec^2{\\theta}$$\n",
    "\n",
    "Lastly we have the **Cot/Csc Pythagorean Identity** which also follows from the same logic as the other two:\n",
    "\n",
    "$$\\cot^2{\\theta} + 1 = \\csc^2{\\theta}$$\n",
    "\n",
    "## Even-Odd Identities\n",
    "\n",
    "We can see these from the effect of reflection over the x axis (sign switch) on y (sin) and x (cos) values:\n",
    "\n",
    "$$\n",
    "\\sin(-\\theta) = -\\sin(\\theta) \\\\\n",
    "\\cos(-\\theta) = \\cos(\\theta) \\\\\n",
    "\\tan(-\\theta) = -\\tan(\\theta) \\\\\n",
    "\\csc(-\\theta) = -\\csc(\\theta) \\\\\n",
    "\\cot(-\\theta) = -\\cot(\\theta) \\\\\n",
    "\\sec(-\\theta) = -\\sec(\\theta) \\\\\n",
    "$$\n",
    "\n",
    "## Cofunction Identities\n",
    "\n",
    "We derive: \n",
    "\n",
    "$$ \n",
    "\\begin{aligned}\n",
    "\\sin(\\theta) = \\cos(\\frac{\\pi}{2} - \\theta) \\\\\n",
    "\\cos(\\theta) = \\sin(\\frac{\\pi}{2} - \\theta) \\\\\n",
    "\\end{aligned}\n",
    "$$ \n",
    "\n",
    "from the ratio definitions (or alternately from looking at reflection over the y axis of the unit circle):\n"
   ]
  },
  {
   "cell_type": "code",
   "execution_count": 5,
   "metadata": {
    "jupyter": {
     "source_hidden": true
    },
    "tags": []
   },
   "outputs": [
    {
     "data": {
      "image/png": "[encoded data removed]",
      "text/plain": [
       "<Figure size 432x288 with 1 Axes>"
      ]
     },
     "metadata": {
      "needs_background": "light"
     },
     "output_type": "display_data"
    }
   ],
   "source": [
    "from matplotlib import patches\n",
    "import matplotlib.pyplot as plt\n",
    "\n",
    "# Conditional clone boilerplate\n",
    "try:\n",
    "  import google.colab\n",
    "  import sys\n",
    "  from os import path\n",
    "  # We are in colab\n",
    "\n",
    "  if not path.isdir('math-tools'):\n",
    "    !git clone https://github.com/bsgreenb/math-tools.git\n",
    "    sys.path.append('math-tools')\n",
    "except:\n",
    "  pass\n",
    "\n",
    "from annotation import label\n",
    "from angles import AngleAnnotation\n",
    "\n",
    "# x=np.array([0,4,4,0])\n",
    "# y=np.array([0,0,3,0])\n",
    "\n",
    "point_a = (0,0)\n",
    "point_b = (2, 3)\n",
    "point_c = (2, 0)\n",
    "\n",
    "fig, ax = plt.subplots()\n",
    "\n",
    "triangle = patches.Polygon([point_a, point_b, point_c], ec=\"black\", fc=[0,0,0,0])\n",
    "ax.add_patch(triangle)\n",
    "\n",
    "# Label sides\n",
    "offset = 10\n",
    "label(ax, \"a\", (((point_b[0] + point_c[0]) / 2), (point_b[1] /2)), (offset, 0))\n",
    "label(ax, \"b\", (point_b[0] /2, 0), (offset * 2, -2 * offset))\n",
    "label(ax, \"c\", (point_b[0] /2, point_b[1] /2), (-offset, offset))\n",
    "\n",
    "# Label angles\n",
    "angle_a = AngleAnnotation(point_a, point_c, point_b, ax=ax, text=r\"$\\theta$\", text_kw={\"color\": \"black\"})\n",
    "angle_b = AngleAnnotation(point_b, point_a, point_c, ax=ax, text=r\"$90 - \\theta$\", text_kw={\"color\": \"black\"}, textposition=\"outside\")\n",
    "\n",
    "## Label Right Angle\n",
    "right = patches.Rectangle((point_b[0],0),-0.15,0.2, fc=[0,0,0,0], ec=\"black\", zorder=0, lw=.7)\n",
    "ax.add_patch(right)\n",
    "\n",
    "ax.set_ylim(0, 3)\n",
    "ax.set_xlim(0,3)\n",
    "\n",
    "ax.axis('off')\n",
    "plt.show()"
   ]
  },
  {
   "cell_type": "markdown",
   "metadata": {},
   "source": [
    "$$\n",
    "\\begin{align*}\n",
    "\\sin(\\theta) = \\frac{a}{c} \\\\\n",
    "\\cos(\\frac{\\pi}{2} - \\theta) = \\frac{a}{c} \\\\\n",
    "\\sin(\\theta) = \\cos(\\frac{\\pi}{2} - \\theta) \\\\\n",
    "\\end{align*}\n",
    "$$"
   ]
  },
  {
   "cell_type": "markdown",
   "metadata": {},
   "source": [
    "## Angle Addition Identities\n",
    "\n",
    "Let's start by drawing two right triangles, one of which has a hypotenuse of 1, and the other one using a leg of that triangle as its hypotenuse.  Then we'll add some additional lines (will show in a different color), prove the angles indicated on the chart, prove side lengths, and finally solve for the angle addition. Note that this only proves the acute case (where $\\alpha + \\beta < 90\\circ$), for the obtuse case you want Ptolmey's Theorem or some other approach."
   ]
  },
  {
   "cell_type": "code",
   "execution_count": 56,
   "metadata": {
    "jupyter": {
     "source_hidden": true
    }
   },
   "outputs": [
    {
     "data": {
      "image/png": "[encoded data removed]",
      "text/plain": [
       "<Figure size 432x288 with 1 Axes>"
      ]
     },
     "metadata": {
      "needs_background": "light"
     },
     "output_type": "display_data"
    }
   ],
   "source": [
    "\n",
    "\n",
    "angle_b = math.radians(25) # the interior 25 degree angle of our right triangle\n",
    "angle_a = math.radians(30) # 30 degree angle between the plotted angle_b triangle and the x axis.\n",
    "\n",
    "# Plot and label initial triangles..\n",
    "\n",
    "point_A = (0,0)\n",
    "point_B = (math.cos(angle_a + angle_b), math.sin(angle_a + angle_b))\n",
    "point_C = (math.cos(angle_a) * math.cos(angle_b), math.sin(angle_a) * math.cos(angle_b))\n",
    "point_D = (math.cos(angle_a) * math.cos(angle_b), 0)\n",
    "\n",
    "plt.plot(*zip(point_A, point_B, point_C, point_A), marker='o', color='black')\n",
    "plt.plot(*zip(point_A, point_C, point_D, point_A), marker='o', color='black')\n",
    "label(plt, 'A', point_A, offset=(-10, -5))\n",
    "label(plt, 'B', point_B)\n",
    "label(plt, 'C', point_C)\n",
    "label(plt, 'D', point_D, offset=(10,-5))\n",
    "\n",
    "# Indicate the hypotenuse length 1\n",
    "label(plt, \"1\", (point_B[0] /2, point_B[1] /2), (-5, 5))\n",
    "\n",
    "ax = plt.gca()\n",
    "\n",
    "# Label angle a and b\n",
    "\n",
    "AngleAnnotation(point_A, point_C, point_B, ax=ax, text=r\"$\\beta$\", text_kw={\"color\": \"black\"})\n",
    "AngleAnnotation(point_A, point_D, point_C, ax=ax, text=r\"$\\alpha$\", text_kw={\"color\": \"black\"}, size=65)\n",
    "\n",
    "## Indicate right angles on first two triangles..\n",
    "alpha_right = patches.Rectangle(point_D,-0.05,0.05, fc=[0,0,0,0], ec=\"black\", zorder=0, lw=.7)\n",
    "ax.add_patch(alpha_right)\n",
    "beta_right = patches.Rectangle(point_C,-0.05,0.05, fc=[0,0,0,0], ec=\"black\", zorder=0, lw=.7, angle=math.degrees(angle_a))\n",
    "ax.add_patch(beta_right)\n",
    "\n",
    "# Time to add the vertical and horizontal lines in new colors, labeled.\n",
    "point_E = (point_B[0], 0)\n",
    "point_F = (point_B[0], point_C[1])\n",
    "label(plt, 'E', point_E, offset=(0,-20), color='C0')\n",
    "label(plt, 'F', point_F, offset=(-10,-5), color='C0')\n",
    "plt.plot(*zip(point_E), marker='o', color='C0')\n",
    "plt.plot(*zip(point_F), marker='o', color='C0')\n",
    "plt.plot(*zip(point_B, point_E), color='C0')\n",
    "plt.plot(*zip(point_F, point_C), color='C0')\n",
    "\n",
    "\n",
    "## Let's indicate right angles formed by these new lines.\n",
    "BFC_right = patches.Rectangle(point_F,0.05,0.05, fc=[0,0,0,0], ec=\"C0\", zorder=0, lw=.7)\n",
    "ax.add_patch(BFC_right)\n",
    "BED_right = patches.Rectangle(point_E,0.05,0.05, fc=[0,0,0,0], ec=\"C0\", zorder=0, lw=.7)\n",
    "ax.add_patch(BED_right)\n",
    "\n",
    "# Label Transversal angles next, we can save the trig for the proof following.\n",
    "AngleAnnotation(point_C, point_F, point_A, ax=ax, text=r\"$\\alpha$\", color='red', text_kw={\"color\": \"red\"}, size=60)\n",
    "AngleAnnotation(point_B, point_F, point_C, ax=ax, text=r\"$\\alpha$\", color='red', text_kw={\"color\": \"red\"}, size=60)\n",
    "\n",
    "ax.set_aspect('equal')\n",
    "plt.axis('off')\n",
    "plt.show()\n"
   ]
  },
  {
   "cell_type": "markdown",
   "metadata": {},
   "source": [
    "Let's begin by stepping through the geometric construction here:\n",
    "\n",
    "$$\n",
    "\\begin{align*}\n",
    "\\text{1. Construct a right triangle $ACB$ with hypotenuse $1$ and internal angle $\\beta$} \\\\\n",
    "\\text{2. Place $AC$ at angle $ \\alpha $ from the X axis.  Then create right triangle $ ADC $ with $AC$ as the hypotenuse} \\\\\n",
    "\\color{#1f77b4}{\\text{3. Construct a line down from $B$ to intersect $AD$ and call that point $E$.}} \\\\\n",
    "\\color{#1f77b4}{\\text{4. Construct a horizontal line from C horizontally to BE, and call that point $F$. }} \\\\\n",
    "\\color{red}{\\text{5. Angle $FCA = \\alpha$ via traversal of parallel lines}} \\\\\n",
    "\\color{red}{\\text{6. Angle $BCF = 90 - \\alpha$, so angle $CBF = \\alpha$}}\n",
    "\\end{align*}\n",
    "$$\n",
    "\n",
    "Now with our construction justified and all necessary angles labeled, let's prove the Sine and Cosine angle addition identities.\n",
    "\n",
    "### Sine Angle Addition\n",
    "\n",
    "_Prove_: $ \\sin(\\alpha + \\beta) = \\sin{\\alpha}\\cos{\\beta} + \\cos{\\alpha}\\sin{\\beta} $\n",
    "\n",
    "$$\n",
    "\\begin{align*}\n",
    "\\sin(\\alpha + \\beta) = BE = FE + BF \\\\\n",
    "\\cos(\\beta) = AC / 1 = AC \\\\\n",
    "\\sin(\\beta) = BC / 1 = BC \\\\\n",
    "FE = CD \\quad\\text{By Construction} \\\\\n",
    "\\sin(\\alpha) = \\frac{CD}{AC} = \\frac{CD}{\\cos(\\beta)} \\\\\n",
    "CD = \\sin(\\alpha)\\cos(\\beta) \\\\\n",
    "\\cos(\\alpha) = \\frac{BF}{BC} = \\frac{BF}{\\sin(\\beta)} \\\\\n",
    "BF = \\cos(\\alpha)\\sin(\\beta) \\\\\n",
    "\\sin(\\alpha + \\beta) = \\sin{\\alpha}\\cos{\\beta} + \\cos{\\alpha}\\sin{\\beta}\n",
    "\\end{align*}\n",
    "$$\n",
    "\n",
    "### Cosine Angle Addition\n",
    "\n",
    "_Prove_: $ \\cos(\\alpha + \\beta) = \\cos{\\alpha}\\cos{\\beta} - \\sin{\\alpha}\\sin{\\beta} $\n",
    "\n",
    "$$\n",
    "\\begin{align*}\n",
    "\\cos(\\alpha + \\beta) = AE = AD - ED \\\\\n",
    "\\cos(\\beta) = AC / 1 = AC \\\\\n",
    "\\sin(\\beta) = BC / 1 = BC \\\\\n",
    "ED = FC \\quad\\text{By Construction} \\\\\n",
    "\\cos(\\alpha) = \\frac{AD}{AC} = \\frac{AD}{\\cos(\\beta)}  \\\\\n",
    "AD = \\cos(\\alpha)\\cos(\\beta) \\\\\n",
    "\\sin(\\alpha) = \\frac{FC}{BC} = \\frac{FC}{\\sin(\\beta)} \\\\\n",
    "FC = \\sin(\\alpha)\\sin(\\beta) \\\\\n",
    "\\cos(\\alpha + \\beta) = \\cos{\\alpha}\\cos{\\beta} - \\sin{\\alpha}\\sin{\\beta}\n",
    "\\end{align*}\n",
    "$$\n",
    "\n",
    "### Tangent Angle Addition\n",
    "\n",
    "_Prove_: $ \\tan(\\alpha + \\beta) = \\frac{\\tan(\\alpha) + \\tan(\\beta)}{1 - \\tan(\\alpha)\\tan(\\beta)} $\n",
    "\n",
    "$$\n",
    "\\begin{align*}\n",
    "\\tan(\\alpha + \\beta) &= \\frac{\\sin(\\alpha + \\beta)}{\\cos(\\alpha + \\beta)} \\\\\n",
    "& = \\frac{\\sin{\\alpha}\\cos{\\beta} + \\cos{\\alpha}\\sin{\\beta}}{\\cos{\\alpha}\\cos{\\beta} - \\sin{\\alpha}\\sin{\\beta}} \\quad\\text{Previous angle addition theorems} \\\\\n",
    "& = \\frac{\\frac{\\sin{\\alpha}\\cos{\\beta} + \\cos{\\alpha}\\sin{\\beta}}{\\cos{\\alpha}\\cos{\\beta}}}{\\frac{\\cos{\\alpha}\\cos{\\beta} - \\sin{\\alpha}\\sin{\\beta}}{\\cos{\\alpha}\\cos{\\beta}}} \\\\\n",
    "& = \\frac\n",
    "{\n",
    "    \\frac{\\sin{\\alpha}}{\\cos{\\alpha}} + \\frac{\\sin{\\beta}}{\\cos{\\beta}}\n",
    "}\n",
    "{\n",
    "    1 - (\\frac{\\sin{\\alpha}}{\\cos{\\alpha}})(\\frac{\\sin{\\beta}}{\\cos{\\beta}})\n",
    "} \\\\\n",
    "& = \\frac{\\tan(\\alpha) + \\tan(\\beta)}{1 - \\tan(\\alpha)\\tan(\\beta)}\n",
    "\\end{align*}\n",
    "$$\n",
    "\n",
    "### Deriving Angle Addition Theorems from Euler's Formula\n",
    "Via [MSE](https://math.stackexchange.com/questions/9770/understanding-imaginary-exponents)\n",
    "$$ \n",
    "\\begin{align*}\n",
    "& e^{i\\theta} = \\cos{\\theta} + i\\sin{\\theta} \\quad\\text{Euler's Formula} \\\\\n",
    "e^{i(a + b)} & = e^{ia}e^{ib} \\\\\n",
    "& = (\\cos{a} + i\\sin{a})(\\cos{b} + i\\sin{b}) \\\\\n",
    "& = \\cos{a}\\cos{b} + i\\cos{a}\\sin{b} + i\\sin{a}\\cos{b} - \\sin{a}\\sin{b} \\\\\n",
    "& = (\\cos{a}\\cos{b} - \\sin{a}\\sin{b}) + i(\\cos{a}\\sin{b} + \\sin{a}\\cos{b})\n",
    "\\end{align*}\n",
    "$$\n",
    "\n",
    "And there we have cosine and sine angle addition as real and imaginary parts on the complex plane.\n",
    "\n",
    "See Complex.ipynb for explanation (and eventually proof) of Euler's Formula.\n",
    "\n",
    "## Half Angle Identities\n",
    "\n",
    "$$ \\cos(\\frac{x}{2}) = \\pm \\sqrt{\\frac{1 + \\cos{x}}{2}} $$\n",
    "$$ \\sin(\\frac{x}{2}) = \\pm \\sqrt{\\frac{1 - \\cos{x}}{2}} $$\n",
    "\n",
    "These can be rewritten in a useful form for Trig Integrals:\n",
    "\n",
    "$$ \\cos^2(x) = \\frac{1}{2}(1 + \\cos(2x)) $$\n",
    "$$ \\sin^2(x) = \\frac{1}{2}(1 - \\cos(2x)) $$\n",
    "\n",
    "## Double Angle Identities\n",
    "\n",
    "Follows trivially from Sine/Cosine Angle Addition that\n",
    "\n",
    "$$ \\cos(2\\theta) = \\cos^2(\\theta) - \\sin^2(\\theta) $$\n",
    "$$ \\sin(2\\theta) = 2(\\sin(\\theta)\\cos(\\theta)) $$\n",
    "\n",
    "These can be written in a more useful form for Trig Integrals:\n",
    "\n",
    "$$ \\sin(x)\\cos(x) = \\frac{1}{2}\\sin(2x) $$\n",
    "\n",
    "Combine with the Pythagorean Trig Identity for even more useful substitutions.\n",
    "\n",
    "## Product to Sum Identities\n",
    "$$ \\sin(a)\\cos(b) = \\frac{1}{2}(\\sin(a-b) + \\sin(a+b)) $$\n",
    "\n",
    "$$ \\sin(a)\\sin(b) = \\frac{1}{2}(\\cos(a-b) - \\cos(a+b)) $$\n",
    "\n",
    "$$ \\cos(a)\\cos(b) = \\frac{1}{2}(\\cos(a-b) + \\cos(a+b)) $$\n",
    "\n",
    "These are useful for solving integrals where youhave different arguments to sine and/or cosine.\n",
    "\n",
    "[This SO Question](https://math.stackexchange.com/questions/4367152/how-to-prove-these-product-to-sum-trig-identities) covers how you can derive these formulas from \n",
    "\n"
   ]
  },
  {
   "cell_type": "markdown",
   "metadata": {},
   "source": [
    "# The Unit Circle"
   ]
  },
  {
   "cell_type": "code",
   "execution_count": 6,
   "metadata": {
    "jupyter": {
     "source_hidden": true
    }
   },
   "outputs": [
    {
     "data": {
      "image/png": "[encoded data removed]",
      "text/plain": [
       "<Figure size 432x288 with 1 Axes>"
      ]
     },
     "metadata": {
      "needs_background": "light"
     },
     "output_type": "display_data"
    }
   ],
   "source": [
    "import numpy as np\n",
    "\n",
    "# Plot Circle\n",
    "# https://stackoverflow.com/a/44050984/378622 \n",
    "\n",
    "r = 1\n",
    "x = np.linspace(-r,r,1000)\n",
    "# Solving for y from the standard circle equation which gives a plus/minus..\n",
    "y = np.sqrt(-x**2+r**2)\n",
    "plt.plot(x, y, \"black\")\n",
    "plt.plot(x, -y, \"black\")\n",
    "plt.plot((0), (0), marker='o', color=\"black\", markersize=4, zorder=5)\n",
    "\n",
    "# Plot linez\n",
    "\n",
    "circle_x = 0.6\n",
    "circle_y = np.sqrt(r**2 - circle_x**2)\n",
    "\n",
    "plt.plot((0,r), (0,0)) # radius line\n",
    "plt.plot((0,circle_x), (0, circle_y)) # cos theta (triangle x line)\n",
    "plt.plot((circle_x,circle_x), (0, circle_y)) # sin theta (triangle y line)\n",
    "\n",
    "ax = plt.gca()\n",
    "# Label theta\n",
    "angle_1 = AngleAnnotation((0,0), (circle_x, 0),(circle_x, circle_y), ax=ax, size=40, text=r\"$\\theta$\", text_kw={\"xytext\": (0,1)}, color=\"black\")\n",
    "\n",
    "# Plot right triangle\n",
    "\n",
    "right1 = patches.Rectangle((circle_x,0),-0.1,0.1, fc=[0,0,0,0], ec=\"black\", zorder=0, lw=.7)\n",
    "ax.add_patch(right1)\n",
    "\n",
    "# Label (cos x, sin x)\n",
    "plt.plot((circle_x), (circle_y), marker='o', color=\"black\", markersize=4, zorder=5)\n",
    "label(plt,r\"$\\cos(\\theta),\\sin(\\theta)$\", (circle_x, circle_y), (20,10), fontsize=10)\n",
    "\n",
    "\n",
    "# https://stackoverflow.com/a/27361819/378622\n",
    "# Hide the right and top spines\n",
    "\n",
    "ax.spines['right'].set_visible(False)\n",
    "ax.spines['top'].set_visible(False)\n",
    "\n",
    "ax.set_aspect('equal')\n",
    "\n",
    "plt.show()"
   ]
  },
  {
   "cell_type": "markdown",
   "metadata": {},
   "source": [
    "## Understanding tangents\n",
    "\n",
    "So we get our $ \\cos $ and $ \\sin $ coordinates easy, but $ \\tan $ is not as obvious.  We know we can solve for it algebraically, as in $ \\frac{\\sin}{\\cos} $. But this can be thought of geometrically as a slope (rise over run, remember).  This correctly implies that tangent is undefined when $ \\cos = 0 $ because the line goes straight up or down there. \n",
    "\n",
    "## Trig values of $\\frac{\\pi}{3}$ and $\\frac{\\pi}{6}$\n",
    "\n",
    "So $ \\frac{\\pi}{3} $ is special because it's twice its complement $ \\frac{\\pi}{6} $. In degrees, $ 60 = 30 * 2$.\n",
    "\n",
    "You can take advantage of this via reflection to create an equilateral triangle.\n",
    "\n",
    "https://youtu.be/Tt_ATh5mCGw \n",
    "\n",
    "$$\n",
    "\\begin{align*}\n",
    "f(\\theta) = (\\cos(\\theta), \\sin(\\theta)) \\\\\n",
    "f(\\frac{\\pi}{3}) = (\\frac{1}{2}, \\frac{\\sqrt{3}}{2}) \\\\\n",
    "f(\\frac{\\pi}{6}) = (\\frac{\\sqrt{3}}{2}, \\frac{1}{2}) \\\\\n",
    "\\end{align*}\n",
    "$$\n",
    "\n",
    "## Trig values of $\\frac{\\pi}{4}$\n",
    "\n",
    "$ \\frac{\\pi}{4} $ aka 45 degrees is special because it's equal to its complement. In that case we got obvious isoceles, so we got both sides at $ \\frac{1}{\\sqrt{2}} $ or with radical in numerator $ \\frac{\\sqrt{2}}{2} $.\n",
    "\n",
    "$$\n",
    "\\begin{align*}\n",
    "f(\\theta) = (\\cos(\\theta), \\sin(\\theta)) \\\\\n",
    "f(\\frac{\\pi}{4}) = (\\frac{\\sqrt{2}}{2}, \\frac{\\sqrt{2}}{2}) \\\\\n",
    "\\end{align*}\n",
    "$$\n"
   ]
  },
  {
   "cell_type": "markdown",
   "metadata": {},
   "source": [
    "\n",
    "## Symmetries and periodicity on the unit circle\n",
    "\n",
    "Kind of obvious how stuff flips when you reflect across the different axes into different quadrants.  Tangents are going to have signs flipped every two quadrants..\n",
    "\n",
    "As for periodicity, it's noteworthy that $ \\sin $ and $ \\cos $ switch values every $ \\frac{\\pi}{2} $ radians.\n"
   ]
  },
  {
   "cell_type": "markdown",
   "metadata": {},
   "source": [
    "\n",
    "# Sinuosoidal Functions\n",
    "- *Midline* - half the function above half below.\n",
    "- *Amplitude* - how far above or below the midline the function goes.\n",
    "- *Period* - the distance between same value *and* the same derivative (going same direction slope wise).  For simple calculation you can just look at distance from peaks or valleys.\n",
    "\n",
    "Frequency is reciprocal of Period, i.e. $ \\frac{1}{\\text{Period}} $\n",
    "\n",
    "## Transforming Sinuosoidal Functions\n",
    "\n",
    "If we have $$ k \\cos(lx) $$ then $|k|$ will directly determine amplitude, because it will multiply the peaks and valleys (which without a factor otherwise be equal to $|1|$).\n",
    "\n",
    "The Period will be $ \\frac{2\\pi}{|l|} $, because as $l$ goes up, you get to the next period faster.\n",
    "\n",
    "Personal observation: multiplying the sine or cos by a constant multiple is also what happens when you do an ellipsis rather than a unit circle https://math.stackexchange.com/questions/1400587/a-circles-sine-wave-is-an-ellipses .  Whereas varying the other parameter is like varying how a point moves along the unit ellipsis.\n",
    "\n",
    "Changing sign of $l$ would effect $\\sin$ and $\\cos$ differently.  Changing sign of $k$ does same thing to both."
   ]
  },
  {
   "cell_type": "markdown",
   "metadata": {},
   "source": [
    "# Non-Right Triangles\n",
    "\n",
    "## Law of Sines"
   ]
  },
  {
   "cell_type": "code",
   "execution_count": 7,
   "metadata": {
    "jupyter": {
     "source_hidden": true
    }
   },
   "outputs": [
    {
     "data": {
      "image/png": "[encoded data removed]",
      "text/plain": [
       "<Figure size 432x288 with 1 Axes>"
      ]
     },
     "metadata": {
      "needs_background": "light"
     },
     "output_type": "display_data"
    }
   ],
   "source": [
    "point_a = (0,0)\n",
    "point_b = (2, 3)\n",
    "point_c = (5, 0)\n",
    "\n",
    "fig, ax = plt.subplots()\n",
    "\n",
    "triangle = patches.Polygon([point_a, point_b, point_c], ec=\"black\", fc=[0,0,0,0])\n",
    "ax.add_patch(triangle)\n",
    "plt.plot((point_b[0], point_b[0]), (point_b[1], 0), ':', color=\"black\") # altitude to create two right triangles\n",
    "\n",
    "# Label sides\n",
    "offset = 10\n",
    "label(ax, \"a\", (((point_b[0] + point_c[0]) / 2), (point_b[1] /2)), (offset, 0))\n",
    "label(ax, \"b\", (point_b[0], 0), (offset * 2, -2 * offset))\n",
    "label(ax, \"c\", (point_b[0] /2, point_b[1] /2), (-offset, offset))\n",
    "label(ax, \"x\", (point_b[0], point_b[1] /2), (offset /2, -offset))\n",
    "\n",
    "# Label angles\n",
    "angle_a = AngleAnnotation(point_a, point_c, point_b, ax=ax, text=\"A\", text_kw={\"color\": \"black\", \"fontsize\": 15}, color=[0,0,0,0])\n",
    "angle_b = AngleAnnotation(point_b, point_a, point_c, ax=ax, text=\"B\", text_kw={\"color\": \"black\", \"fontsize\": 15}, color=[0,0,0,0])\n",
    "angle_c = AngleAnnotation(point_c, point_b, point_a, ax=ax, text=\"C\", text_kw={\"color\": \"black\", \"fontsize\": 15}, color=[0,0,0,0])\n",
    "\n",
    "## Label Right Angle\n",
    "right = patches.Rectangle((point_b[0],0),0.2,0.2, fc=[0,0,0,0], ec=\"black\", zorder=0, lw=.7)\n",
    "ax.add_patch(right)\n",
    "\n",
    "ax.set_ylim(0, 3)\n",
    "ax.set_xlim(0,5)\n",
    "\n",
    "ax.axis('off')\n",
    "plt.show()"
   ]
  },
  {
   "cell_type": "markdown",
   "metadata": {},
   "source": [
    "We can derive the Law of Sines from these two right triangles and our trig function definitions. So we get:\n",
    "\n",
    "$$\n",
    "\\frac{\\sin(A)}{a} = \\frac{\\sin(B)}{b} = \\frac{\\sin(C)}{c}\n",
    "$$\n",
    "\n",
    "Just note that to get the equivalence with B rather than C we'd just draw the altitude x from diff point.\n",
    "\n",
    "Note that there are multiple solutions if you're solving for an angle.  The law of sines will produce the acute angle, but its complement would be the obtuse one.\n",
    "\n",
    "## Law of Cosines\n",
    "\n",
    "Use this to solve for a side when you have the other sides and the opposite angle OR opposite side (whered youd use the inverse, arccos).  Let the side you're solving for be $ a $, and the angle opposite of it $ \\theta $, then\n",
    "\n",
    "$$\n",
    "a^2 = b^2 + c^2 + 2bc\\cos(\\theta)\n",
    "$$\n",
    "\n",
    "The proof makes use of the pythagorean theorem, trig ratios, and a trig identity::"
   ]
  },
  {
   "cell_type": "code",
   "execution_count": 57,
   "metadata": {
    "jupyter": {
     "source_hidden": true
    }
   },
   "outputs": [
    {
     "data": {
      "image/png": "[encoded data removed]",
      "text/plain": [
       "<Figure size 432x288 with 1 Axes>"
      ]
     },
     "metadata": {
      "needs_background": "light"
     },
     "output_type": "display_data"
    }
   ],
   "source": [
    "point_a = (0,0)\n",
    "point_b = (2, 3)\n",
    "point_c = (5, 0)\n",
    "\n",
    "fig, ax = plt.subplots()\n",
    "\n",
    "triangle = patches.Polygon([point_a, point_b, point_c], ec=\"black\", fc=[0,0,0,0])\n",
    "ax.add_patch(triangle)\n",
    "plt.plot((point_b[0], point_b[0]), (point_b[1], 0), ':', color=\"black\") # altitude to create two right triangles\n",
    "\n",
    "# Label sides\n",
    "offset = 10\n",
    "label(ax, \"a\", (((point_b[0] + point_c[0]) / 2), (point_b[1] /2)), (offset, 0))\n",
    "label(ax, \"b\", (point_b[0], 0), (offset * 2, -2.5 * offset))\n",
    "label(ax, \"c\", (point_b[0] /2, point_b[1] /2), (-offset, offset))\n",
    "label(ax, \"d\", (point_b[0], point_b[1] /2), (offset /2, 2 * -offset))\n",
    "label(ax, \"e\", (point_b[0] /2, 0), (0, 1.5 * -offset))\n",
    "label(ax, \"f\", ((point_b[0] + point_c[0]) / 2, 0), (0, 1.5 * -offset))\n",
    "\n",
    "# Label segments of \n",
    "\n",
    "# Label theta angle\n",
    "angle = AngleAnnotation(point_a, point_c, point_b, ax=ax, text=r\"$\\theta$\", text_kw={\"color\": \"black\", \"fontsize\": 15}, color=[0,0,0,0])\n",
    "\n",
    "## Label Right Angle\n",
    "right = patches.Rectangle((point_b[0],0),0.2,0.2, fc=[0,0,0,0], ec=\"black\", zorder=0, lw=.7)\n",
    "ax.add_patch(right)\n",
    "\n",
    "ax.set_ylim(0, 3)\n",
    "ax.set_xlim(0,5)\n",
    "\n",
    "ax.axis('off')\n",
    "plt.show()"
   ]
  },
  {
   "cell_type": "markdown",
   "metadata": {},
   "source": [
    "$$\n",
    "\\begin{align*}\n",
    "& a^2 = f^2 + d^2 \\quad\\text{Pythagorean Theorem} \\\\\n",
    "& f = b - e \\quad\\text{Given} \\\\\n",
    "& \\sin(\\theta) = \\frac{d}{c} \\quad\\text{Trig Ratio Def} \\\\\n",
    "& d = \\sin(\\theta)c \\\\\n",
    "& \\cos(\\theta) = \\frac{e}{c} \\quad\\text{Trig Ratio Def} \\\\\n",
    "& e = \\cos(\\theta)c \\\\\n",
    "& f = b - \\cos(\\theta)c \\quad\\text{Substitution} \\\\\n",
    "a^2 & = (b - \\cos(\\theta)c)^2 + (\\sin(\\theta)c)^2 \\quad\\text{Pythagorean Substiution}\\\\\n",
    "& = b^2 - 2bc\\cos(\\theta) + c^2(\\cos^2(\\theta)) + c^2(\\sin^2(\\theta)) \\\\\n",
    "& = b^2 - 2bc\\cos(\\theta) + c^2(\\cos^2(\\theta) + \\sin^2(\\theta)) \\quad\\text{Distributive} \\\\\n",
    "& = b^2 - 2bc\\cos(\\theta) + c^2 \\quad\\text{Pythagorean Trig Identity}\n",
    "\\end{align*}\n",
    "$$"
   ]
  }
 ],
 "metadata": {
  "interpreter": {
   "hash": "949777d72b0d2535278d3dc13498b2535136f6dfe0678499012e853ee9abcab1"
  },
  "kernelspec": {
   "display_name": "Python 3 (ipykernel)",
   "language": "python",
   "name": "python3"
  },
  "language_info": {
   "codemirror_mode": {
    "name": "ipython",
    "version": 3
   },
   "file_extension": ".py",
   "mimetype": "text/x-python",
   "name": "python",
   "nbconvert_exporter": "python",
   "pygments_lexer": "ipython3",
   "version": "3.9.2"
  }
 },
 "nbformat": 4,
 "nbformat_minor": 4
}
