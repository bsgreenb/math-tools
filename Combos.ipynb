{
 "cells": [
  {
   "cell_type": "markdown",
   "metadata": {},
   "source": [
    "# Factorials\n",
    "Mathematicians have decides $0! = 1$, as this allows the following permutation and combination formula to work under then $n=k$ case.\n",
    "\n",
    "# Permutations\n",
    "\n",
    "$$ {}_n P_k = \\frac{n!}{(n-k)!}$$\n",
    "\n",
    "Pretty obvious how we arrive at this.. $(n-k)!$ simply removes the multiplier for the deficit seats.\n",
    "\n",
    "# Combinations\n",
    "Combinations are more restrictive than permutations, because they don't care about order, so you divide off the number of permutations of each combination ($ {}_k P_k = \\frac{k!}{0!} = k! $)\n",
    "\n",
    "$$ {}_n C_k = \\frac{{}_n P_k}{k!} $$\n",
    "\n",
    "Definition of a Combo:\n",
    "\n",
    "$$ {}_n C_k = \\binom{n}{k} = \\frac{n!}{k!(n-k)!} $$\n",
    "\n",
    "[later: sketch out combinations and permutations with repeats]"
   ]
  },
  {
   "cell_type": "code",
   "execution_count": 1,
   "metadata": {},
   "outputs": [
    {
     "name": "stdout",
     "output_type": "stream",
     "text": [
      "120\n",
      "720\n"
     ]
    }
   ],
   "source": [
    "import math\n",
    "\n",
    "print(math.comb(10,3))\n",
    "print(math.perm(10,3))\n",
    "\n",
    "# For getting actual list of permutations/combos, see https://www.geeksforgeeks.org/permutation-and-combination-in-python/"
   ]
  },
  {
   "cell_type": "markdown",
   "metadata": {},
   "source": [
    "# Pascal's Triangle\n",
    "\n",
    "[Great article on Brilliant](https://brilliant.org/wiki/pascals-triangle/).\n",
    "\n",
    "[Vids on Khan](https://www.khanacademy.org/math/precalculus/x9e81a4f98389efdf:series/x9e81a4f98389efdf:binomial/v/binomial-theorem) helps give intuition on Pascal's Triangle, Combinotrics, and relation to Binomial Expansion.\n",
    "\n",
    "The key intuition is that multiplying out binomials is like \"choosing\" combos of x and y amounts.\n",
    "\n",
    "# Pascal's Identity\n",
    "\n",
    "$$ {n \\choose k} = {n - 1 \\choose k - 1} + {n - 1 \\choose k} $$\n",
    "\n",
    "## Proof\n",
    "\n",
    "$$\n",
    "\\begin{align}\n",
    "{n - 1 \\choose k - 1} + {n - 1 \\choose k} & = \\frac{(n-1)!}{(k-1)!(n-k)!} +  \\frac{(n-1)!}{k!(n-1-k)!} \\\\ \n",
    "& = {(n-1)!}(\\frac{k}{k!(n-k)!} + \\frac{n-k}{k!(n-k)!}) \\\\\n",
    "& = {(n-1)!}(\\frac{n}{k!(n-k)!}) \\\\ \n",
    "& = \\frac{n!}{k!(n-k)!} = {n \\choose k}  \\quad\\text {Definition of Combo}\n",
    "\\end{align}\n",
    "$$"
   ]
  },
  {
   "cell_type": "markdown",
   "metadata": {},
   "source": [
    "# Partitions\n",
    "From [Wiki](https://en.wikipedia.org/wiki/Partition_%28number_theory%29)\n",
    "> In number theory and combinatorics, a **partition** of a positive integer $n$, also called an integer partition, is a way of writing $n$ as a sum of positive integers. Two sums that differ only in the order of their summands are considered the same partition. (If order matters, the sum becomes a composition.) For example, 4 can be partitioned in five distinct ways:\n",
    "4\n",
    "$$\n",
    "\\begin{aligned}\n",
    "&3+1 \\\\\n",
    "&2+2 \\\\\n",
    "&2+1+1 \\\\\n",
    "&1+1+1+1\n",
    "\\end{aligned}\n",
    "$$\n",
    ">The order-dependent composition $1+3$ is the same partition as $3+1$, and the two distinct compositions $1+2+1$ and $1+1+2$ represent the same partition $2+1+1$.\n",
    "\n",
    ">A summand in a partition is also called a **part**. The number of partitions of $n$ is given by the partition function $p(n)$. So $p(4)=5$. The notation $\\lambda \\vdash n$ means that $\\lambda$ is a partition of $n$.\n",
    "\n",
    "[Partition Function](https://en.wikipedia.org/wiki/Partition_function_(number_theory)). By convention p(0) = 1, as there is one way (the empty sum) of representing zero as a sum of positive integers. For the same reason, by definition, p(n) = 0 when n is negative. \n",
    "\n",
    "Note: if order matters it's a [Composition](https://en.wikipedia.org/wiki/Composition_(combinatorics)).\n",
    "\n"
   ]
  },
  {
   "cell_type": "code",
   "execution_count": 12,
   "metadata": {},
   "outputs": [
    {
     "name": "stdout",
     "output_type": "stream",
     "text": [
      "[[3, 2, 1], 0, 3]\n",
      "[[2, 1], 0, 2]\n",
      "DEBUG: [-1, [1], 0]\n",
      "[[2, 1], 1, 1]\n",
      "DEBUG: [0, [], 1]\n",
      "[[3, 2, 1], 1, 2]\n",
      "[[1], 0, 1]\n",
      "[[3, 2, 1], 2, 1]\n",
      "1\n"
     ]
    }
   ],
   "source": [
    "# Coin problem https://www.interviewcake.com/question/ruby/coin\n",
    "# [TODO]\n",
    "        "
   ]
  }
 ],
 "metadata": {
  "interpreter": {
   "hash": "949777d72b0d2535278d3dc13498b2535136f6dfe0678499012e853ee9abcab1"
  },
  "kernelspec": {
   "display_name": "Python 3 (ipykernel)",
   "language": "python",
   "name": "python3"
  },
  "language_info": {
   "codemirror_mode": {
    "name": "ipython",
    "version": 3
   },
   "file_extension": ".py",
   "mimetype": "text/x-python",
   "name": "python",
   "nbconvert_exporter": "python",
   "pygments_lexer": "ipython3",
   "version": "3.9.2"
  }
 },
 "nbformat": 4,
 "nbformat_minor": 4
}
