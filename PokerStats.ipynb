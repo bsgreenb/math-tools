{
 "cells": [
  {
   "cell_type": "code",
   "execution_count": 9,
   "metadata": {},
   "outputs": [
    {
     "name": "stdout",
     "output_type": "stream",
     "text": [
      "Distinct hands: 133784560\n",
      "4324\n",
      "37260\n",
      "224848\n"
     ]
    }
   ],
   "source": [
    "# Helpful source: https://en.wikipedia.org/wiki/Poker_probability#7-card_poker_hands\n",
    "# http://people.math.sfu.ca/~alspach/comp20/\n",
    "\n",
    "from math import comb\n",
    "\n",
    "# TODO: introduce Card class and attempt the harder problem of probabilities for remaining cards.\n",
    "\n",
    "NUM_CARDS = 52\n",
    "NUM_SUITS = 4\n",
    "CARDS_PER_SUIT = 13\n",
    "CARDS_TO_CHOOSE = 7 # Hold 'em\n",
    "CARDS_IN_HAND = 5\n",
    "\n",
    "def distinct_hands():\n",
    "    return comb(NUM_CARDS, CARDS_TO_CHOOSE)\n",
    "\n",
    "print(\"Distinct hands:\", distinct_hands())\n",
    "\n",
    "def royal_flush_frequency():\n",
    "    freq = NUM_SUITS \n",
    "    # For the other 2 cards, they can be any of the 47 not involved in our straight flush.\n",
    "    freq = freq * comb(NUM_CARDS - CARDS_IN_HAND, 2)\n",
    "    return freq\n",
    "\n",
    "def straight_flush_frequency():\n",
    "    # We shall count straight flushes using the largest card in the straight flush. This enables us to pick up 6- and 7-card straight flushes.\n",
    "    # 5 through king can be the highest card, that's 9 cards\n",
    "    num_highest_card = 9\n",
    "    freq = 9 * NUM_SUITS\n",
    "    # Now we need to account for the other 2 cards, which can be any cards except the straight successor, which means there are 46 possible choices rather than 41\n",
    "    freq = freq * comb(NUM_CARDS - CARDS_IN_HAND  - 1, 2)\n",
    "    return freq\n",
    "\n",
    "def four_of_a_kind_frequency():\n",
    "    # first let's account for the frequency of 4s, ignoring the 3 remaining cards.\n",
    "    freq = CARDS_PER_SUIT\n",
    "    # We can choose any 3 cards from the remaining 48\n",
    "    freq = freq * comb(NUM_CARDS - 4, 3)\n",
    "    return freq\n",
    "\n",
    "def full_house_frequency():\n",
    "    # First let's pick out our three pairs\n",
    "    freq = CARDS_PER_SUIT\n",
    "    # Now we need to grab all the pairs, of which there would be 12 different numbers we could pick from\n",
    "    \n",
    "    # TODO: make sure we exclude four of a kind\n",
    "\n",
    "\n",
    "#TODO: need to adjust/proly abstract out to work with 7 instead of 5.\n",
    "\n",
    "print(royal_flush_frequency())\n",
    "print(straight_flush_frequency())\n",
    "print(four_of_a_kind_frequency())\n",
    "#TODO: add other probabilities stuff we see on wiki\n",
    "\n",
    "\n"
   ]
  }
 ],
 "metadata": {
  "kernelspec": {
   "display_name": ".venv",
   "language": "python",
   "name": "python3"
  },
  "language_info": {
   "codemirror_mode": {
    "name": "ipython",
    "version": 3
   },
   "file_extension": ".py",
   "mimetype": "text/x-python",
   "name": "python",
   "nbconvert_exporter": "python",
   "pygments_lexer": "ipython3",
   "version": "3.9.6"
  },
  "orig_nbformat": 4
 },
 "nbformat": 4,
 "nbformat_minor": 2
}
