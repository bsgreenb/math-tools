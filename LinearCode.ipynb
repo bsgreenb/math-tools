{
 "cells": [
  {
   "attachments": {},
   "cell_type": "markdown",
   "metadata": {},
   "source": [
    "# Lengths and Dot Products\n",
    "\n",
    "## Dot Product"
   ]
  },
  {
   "cell_type": "code",
   "execution_count": 2,
   "metadata": {},
   "outputs": [
    {
     "name": "stdout",
     "output_type": "stream",
     "text": [
      "14\n"
     ]
    }
   ],
   "source": [
    "import numpy as np \n",
    "vector_1 = np.array([1, 2])\n",
    "vector_2 = np.array([4, 5])\n",
    "\n",
    "print(vector_1.dot(vector_2))"
   ]
  },
  {
   "cell_type": "markdown",
   "metadata": {},
   "source": [
    "## Vector Length"
   ]
  },
  {
   "cell_type": "code",
   "execution_count": 3,
   "metadata": {},
   "outputs": [
    {
     "name": "stdout",
     "output_type": "stream",
     "text": [
      "3.7416573867739413\n"
     ]
    }
   ],
   "source": [
    "vector = np.array([1,3,2])\n",
    "\n",
    "print(np.linalg.norm(vector))"
   ]
  },
  {
   "cell_type": "markdown",
   "metadata": {},
   "source": [
    "## Angle between two vectors\n"
   ]
  },
  {
   "cell_type": "code",
   "execution_count": 4,
   "metadata": {},
   "outputs": [
    {
     "name": "stdout",
     "output_type": "stream",
     "text": [
      "90.0\n"
     ]
    }
   ],
   "source": [
    "# https://stackoverflow.com/questions/2827393/angles-between-two-n-dimensional-vectors-in-python\n",
    "\n",
    "def unit_vector(vector):\n",
    "    \"\"\" Returns the unit vector of the vector.  \"\"\"\n",
    "    return vector / np.linalg.norm(vector)\n",
    "\n",
    "def angle_between(v1, v2, degrees = True):\n",
    "    \"\"\" Returns the angle in radians between vectors 'v1' and 'v2'::\n",
    "\n",
    "            >>> angle_between((1, 0, 0), (0, 1, 0))\n",
    "            1.5707963267948966\n",
    "            >>> angle_between((1, 0, 0), (1, 0, 0))\n",
    "            0.0\n",
    "            >>> angle_between((1, 0, 0), (-1, 0, 0))\n",
    "            3.141592653589793\n",
    "    \"\"\"\n",
    "    v1_u = unit_vector(v1)\n",
    "    v2_u = unit_vector(v2)\n",
    "    radians = np.arccos(np.clip(np.dot(v1_u, v2_u), -1.0, 1.0))\n",
    "    if degrees:\n",
    "        return np.degrees(radians)\n",
    "    else:\n",
    "        return radians\n",
    "\n",
    "v1 = np.array([2,2,-1])\n",
    "v2 = np.array([2,-1,2])\n",
    "\n",
    "print(angle_between(v1, v2))"
   ]
  },
  {
   "cell_type": "markdown",
   "metadata": {},
   "source": [
    "# Matrices \n",
    "\n",
    "## Matrix multiplication\n",
    "\n",
    "There's no built in type for vectors and matrices in python.  So I'm going to use numpy"
   ]
  },
  {
   "cell_type": "code",
   "execution_count": 5,
   "metadata": {},
   "outputs": [
    {
     "name": "stdout",
     "output_type": "stream",
     "text": [
      "[[ -9   6]\n",
      " [-54  27]]\n"
     ]
    }
   ],
   "source": [
    "vector = np.array([1, 2, 3, 4, 5, 6])\n",
    "\n",
    "matrix_1 = np.array([[0, 1], [-9, 6]])\n",
    "\n",
    "print(matrix_1 @ matrix_1)"
   ]
  },
  {
   "cell_type": "markdown",
   "metadata": {},
   "source": [
    "## Solving Matrix Equations"
   ]
  },
  {
   "cell_type": "code",
   "execution_count": 163,
   "metadata": {},
   "outputs": [
    {
     "name": "stdout",
     "output_type": "stream",
     "text": [
      "[ 5. -2.]\n"
     ]
    },
    {
     "data": {
      "text/latex": [
       "$\\displaystyle \\left\\{\\left( -1, \\  2\\right)\\right\\}$"
      ],
      "text/plain": [
       "{(-1, 2)}"
      ]
     },
     "execution_count": 163,
     "metadata": {},
     "output_type": "execute_result"
    }
   ],
   "source": [
    "import sympy as sp\n",
    "\n",
    "# https://numpy.org/doc/stable/reference/generated/numpy.linalg.solve.html\n",
    "# Solve the system of equations x0 + 2 * x1 = 1 and 3 * x0 + 5 * x1 = 2:\n",
    "a = np.array([[1, 2], [2, 5]])\n",
    "b = np.array([1, 0])\n",
    "print(np.linalg.solve(a, b))\n",
    "\n",
    "# https://stackoverflow.com/questions/31547657/how-can-i-solve-system-of-linear-equations-in-sympy\n",
    "a_2 = sp.Matrix(np.array([[1, 4, 7], [2, 5, 8], [3, 6, 9]]))\n",
    "sp.linsolve(a_2)"
   ]
  },
  {
   "cell_type": "markdown",
   "metadata": {},
   "source": [
    "# Elimination, A = LU factorization, Inverses\n",
    "\n",
    "## With Numpy/Sympy"
   ]
  },
  {
   "cell_type": "code",
   "execution_count": 164,
   "metadata": {},
   "outputs": [
    {
     "name": "stdout",
     "output_type": "stream",
     "text": [
      "Matrix([\n",
      "[a,      a,      a,      a],\n",
      "[0, -a + b, -a + b, -a + b],\n",
      "[0,      0, -b + c, -b + c],\n",
      "[0,      0,      0, -c + d]])\n",
      "Matrix([\n",
      "[a,      a,      a,      a],\n",
      "[0, -a + b, -a + b, -a + b],\n",
      "[0,      0, -b + c, -b + c],\n",
      "[0,      0,      0, -c + d]])\n"
     ]
    }
   ],
   "source": [
    "from scipy.linalg import lu\n",
    "from numpy.linalg import inv\n",
    "from sympy import Symbol, symbols\n",
    "\n",
    "\n",
    "A = np.array([[.6, -1], [.4, 1]])\n",
    "\n",
    "# LU with numpy\n",
    "P, L, U = lu(A)\n",
    "# print(\"A:\", A)\n",
    "# print(\"P:\", P)\n",
    "# print(\"L:\", L)\n",
    "# print(\"U:\", U)\n",
    "\n",
    "D = np.diag(np.diag(U))   # D is just the diagonal of U\n",
    "U /= np.diag(U)[:, None]  # Normalize rows of U\n",
    "\n",
    "# print(\"D:\", D)\n",
    "# print(\"U:\", U)\n",
    "\n",
    "# LU with sympy\n",
    "A = sp.Matrix([[1,3,0],[2,4,0],[2,0,1]])\n",
    "L, U, _ = A.LUdecomposition()\n",
    "# pprint.pp(L)\n",
    "# pprint.pp(U)\n",
    "# pprint.pp(L.inv())\n",
    "\n",
    "a,b,c,d = symbols('a,b,c,d')\n",
    "A = sp.Matrix([[a,a,a,a],[a,b,b,b],[a,b,c,c],[a,b,c,d]])\n",
    "L, U, _ = A.LUdecomposition()\n",
    "pprint.pp(U)\n",
    "pprint.pp(sp.simplify(U))\n",
    "\n",
    "\n",
    "A_2 = np.float64(sp.Matrix([[1, 0, 0, 0],[1,1,0,0],[1,2,1,0],[1,3,3,1]]))\n",
    "A_3 = np.float64(sp.Matrix([[1,0,0,0],[0,1,0,0],[0,1,1,0],[0,1,2,1]]))\n",
    "\n",
    "# pprint.pp(A_3 @ inv(A_2))\n",
    "\n",
    "A = sp.Matrix([[1, Symbol('a'), Symbol('b')], [0,1, Symbol('c')], [0,0,1]])\n",
    "# pprint.pp(A.inv())\n"
   ]
  },
  {
   "cell_type": "markdown",
   "metadata": {},
   "source": [
    "## My custom code"
   ]
  },
  {
   "cell_type": "code",
   "execution_count": 165,
   "metadata": {},
   "outputs": [
    {
     "name": "stdout",
     "output_type": "stream",
     "text": [
      "[[ 1.   1. ]\n",
      " [-0.4  0.6]]\n"
     ]
    }
   ],
   "source": [
    "def identity_matrix(size):\n",
    "    matrix = np.zeros([size, size])\n",
    "    pivot_row = 0\n",
    "    while (pivot_row < size):\n",
    "        pivot_col = pivot_row\n",
    "        matrix[pivot_row][pivot_col] = 1\n",
    "\n",
    "        pivot_row += 1\n",
    "    \n",
    "    return matrix\n",
    "\n",
    "def row_swap(matrix, row_a, row_b):\n",
    "    temp = matrix[row_a].copy()\n",
    "    matrix[row_a] = matrix[row_b]\n",
    "    matrix[row_b] = temp\n",
    "    return matrix\n",
    "\n",
    "# Takes a matrix and returns it in upper triangular form, along with number of row swaps required\n",
    "def forward_elimination(matrix):    \n",
    "    num_rows, num_cols = matrix.shape\n",
    "    \n",
    "    pivot_row = 0\n",
    "    pivot_col = 0\n",
    "\n",
    "    row_swaps = 0\n",
    "\n",
    "    while (pivot_row < num_rows):\n",
    "        pivot = matrix[pivot_row][pivot_col]\n",
    "        if (pivot == 0):\n",
    "            found_swap = False\n",
    "            for swap_pivot_row in range(pivot_row + 1, num_rows):\n",
    "                swap_pivot = matrix[swap_pivot_row][pivot_col]\n",
    "                if (swap_pivot != 0):\n",
    "                    found_swap = True\n",
    "                    row_swaps += 1\n",
    "                    row_swap(matrix, pivot_row, swap_pivot_row)\n",
    "                    pivot = matrix[pivot_row][pivot_col]\n",
    "                    break\n",
    "            if not found_swap:\n",
    "                raise Exception('Could not find pivot or row swap for {}').format(pivot_row)\n",
    "        # We have a non zero pivot.  Now let's subtract off the rows below.\n",
    "        for following_row in range(pivot_row + 1, num_rows):\n",
    "            to_eliminate = matrix[following_row][pivot_col]\n",
    "            if (to_eliminate != 0):\n",
    "                # Only need to worry about nonzero elements below\n",
    "                l = to_eliminate / pivot\n",
    "                for elim_col in range(pivot_col, num_cols):\n",
    "                    matrix[following_row][elim_col] = matrix[following_row][elim_col] - (l * matrix[pivot_row][elim_col])\n",
    "        pivot_row = pivot_row + 1\n",
    "        pivot_col = pivot_col + 1\n",
    "    \n",
    "    return matrix, row_swaps\n",
    "\n",
    "# Brings us from upper triangular (row echelon) to reduced row echelon form.\n",
    "def rref(matrix):\n",
    "    num_rows, num_cols = matrix.shape\n",
    "\n",
    "    pivot_row = num_rows - 1\n",
    "\n",
    "    # Loop from bottom to top\n",
    "    while (pivot_row >= 0):\n",
    "        pivot_col = pivot_row\n",
    "        pivot = matrix[pivot_row][pivot_col]\n",
    "        if pivot == 0:\n",
    "            raise Exception('Unexpected zero on row {}').format(pivot_row)\n",
    "        \n",
    "        # Divide out the row if pivot is not already 1\n",
    "        if pivot != 1:\n",
    "            for divide_col in range(pivot_col, num_cols):\n",
    "                matrix[pivot_row][divide_col] = matrix[pivot_row][divide_col] / pivot\n",
    "            pivot = matrix[pivot_row][pivot_col]\n",
    "        \n",
    "        # Subtract off the rows above\n",
    "        for previous_row in reversed(range(0, pivot_row)):\n",
    "            to_eliminate = matrix[previous_row][pivot_col]\n",
    "            if (to_eliminate != 0):\n",
    "                # Only need to worry about nonzero elements above\n",
    "                l = to_eliminate / pivot \n",
    "                for elim_col in range(pivot_col, num_cols):\n",
    "                    matrix[previous_row][elim_col] = matrix[previous_row][elim_col] - (l * matrix[pivot_row][elim_col])\n",
    "        \n",
    "        pivot_row = pivot_row - 1\n",
    "    \n",
    "    return matrix\n",
    "\n",
    "# Takes a matrix and finds its inverse with Gaussian elimination\n",
    "def matrix_inverse(matrix):\n",
    "    num_rows, num_cols = matrix.shape\n",
    "    matrix = np.append(matrix, identity_matrix(num_rows), axis=1)\n",
    "    matrix, row_swaps = forward_elimination(matrix)\n",
    "    matrix = rref(matrix)\n",
    "\n",
    "    # Return just the inverse\n",
    "    return matrix[0:num_rows, num_cols:]\n",
    "\n",
    "matrix = np.array([[.6, -1], [.4, 1]])\n",
    "print(matrix_inverse(matrix))\n",
    "\n",
    "\n"
   ]
  },
  {
   "cell_type": "markdown",
   "metadata": {},
   "source": [
    "# Permutations\n"
   ]
  },
  {
   "cell_type": "code",
   "execution_count": 166,
   "metadata": {},
   "outputs": [
    {
     "name": "stdout",
     "output_type": "stream",
     "text": [
      "Matrix([[0, 1, 0], [0, 0, 1], [1, 0, 0]])\n",
      "Matrix([[0, 0, 1], [1, 0, 0], [0, 1, 0]])\n",
      "4x4\n",
      "24\n",
      "Matrix([[1, 0, 0, 0], [0, 0, 1, 0], [0, 0, 0, 1], [0, 1, 0, 0]])\n",
      "Matrix([[1, 0, 0, 0], [0, 0, 0, 1], [0, 1, 0, 0], [0, 0, 1, 0]])\n",
      "Matrix([[0, 1, 0, 0], [0, 0, 1, 0], [1, 0, 0, 0], [0, 0, 0, 1]])\n",
      "Matrix([[0, 1, 0, 0], [0, 0, 0, 1], [0, 0, 1, 0], [1, 0, 0, 0]])\n",
      "Matrix([[0, 0, 1, 0], [1, 0, 0, 0], [0, 1, 0, 0], [0, 0, 0, 1]])\n",
      "Matrix([[0, 0, 1, 0], [0, 1, 0, 0], [0, 0, 0, 1], [1, 0, 0, 0]])\n",
      "Matrix([[0, 0, 0, 1], [1, 0, 0, 0], [0, 0, 1, 0], [0, 1, 0, 0]])\n",
      "Matrix([[0, 0, 0, 1], [0, 1, 0, 0], [1, 0, 0, 0], [0, 0, 1, 0]])\n"
     ]
    }
   ],
   "source": [
    "from itertools import permutations\n",
    "from sympy import eye\n",
    "\n",
    "# Generate a list of permutation matrices for a given size of matrix:\n",
    "\n",
    "\n",
    "def generate_perm_matrices(size = 3):\n",
    "    matrices = []\n",
    "\n",
    "    M = eye(size)\n",
    "    \n",
    "    perms = permutations(range(size))\n",
    "\n",
    "    # https://docs.sympy.org/latest/modules/matrices/common.html#sympy.matrices.common.MatrixCommon.permute\n",
    "    for perm in perms:\n",
    "        matrices.append(M.permute(perm))\n",
    "\n",
    "    return matrices\n",
    "\n",
    "matrices = generate_perm_matrices()\n",
    "\n",
    "# Find the matrix that can be brought to power 3 and equal identity\n",
    "for matrix in matrices:\n",
    "    if (matrix != eye(3) and (matrix ** 3) == eye(3)):\n",
    "        print(matrix)\n",
    "\n",
    "print(\"4x4\")\n",
    "# Find the 4x4 matric that can be brought to power 4 and not equal identity\n",
    "matrices = generate_perm_matrices(4)\n",
    "print(len(matrices))\n",
    "for matrix in matrices:\n",
    "    if (matrix ** 4 != eye(4)):\n",
    "        print(matrix)"
   ]
  },
  {
   "attachments": {},
   "cell_type": "markdown",
   "metadata": {},
   "source": [
    "# Determinants\n",
    "\n",
    "## With numpy"
   ]
  },
  {
   "cell_type": "code",
   "execution_count": 167,
   "metadata": {},
   "outputs": [
    {
     "name": "stdout",
     "output_type": "stream",
     "text": [
      "-2.0000000000000004\n"
     ]
    }
   ],
   "source": [
    "a = np.array([[1, 2], [3, 4]])\n",
    "print(np.linalg.det(a))"
   ]
  },
  {
   "cell_type": "markdown",
   "metadata": {},
   "source": [
    "\n",
    "## Pivot Algorithm\n",
    "\n",
    "Perform forward elimination to get $A$ to $U$.  If an odd number of row exchanges are involved, then multiply answer by $-1$. The answer being the product of the diagonal pivots.\n"
   ]
  },
  {
   "cell_type": "code",
   "execution_count": 168,
   "metadata": {},
   "outputs": [
    {
     "name": "stdout",
     "output_type": "stream",
     "text": [
      "-8\n"
     ]
    }
   ],
   "source": [
    "def diagonal_product(matrix):\n",
    "    num_rows = matrix.shape[0]\n",
    "\n",
    "    product = 1\n",
    "\n",
    "    pivot_row = 0\n",
    "    pivot_col = 0\n",
    "\n",
    "    while (pivot_row < num_rows):\n",
    "        pivot = matrix[pivot_row][pivot_col]\n",
    "        product = product * pivot\n",
    "\n",
    "        pivot_row += 1\n",
    "        pivot_col +=1\n",
    "    \n",
    "    return product\n",
    "\n",
    "def determinant_by_pivots(matrix):\n",
    "    num_rows, num_cols = matrix.shape\n",
    "    if (num_rows != num_cols):\n",
    "        raise Exception('Determinants are only for square matrices')\n",
    "\n",
    "    matrix_u, row_swaps = forward_elimination(matrix)\n",
    "    product = diagonal_product(matrix_u)\n",
    "\n",
    "    if (row_swaps % 2 == 1):\n",
    "        product = product * -1\n",
    "    \n",
    "    return product\n",
    "\n",
    "matrix = np.array([[0, 0, 1], [0, 2, 3], [4, 5, 6]])\n",
    "print(determinant_by_pivots(matrix))"
   ]
  },
  {
   "attachments": {},
   "cell_type": "markdown",
   "metadata": {},
   "source": [
    "## The Big Formula for Determinants\n",
    "\n",
    "For this one we split the determinant into selections from each column and row.  We can then extract the multipliers, and pull the sign from how many row swaps are required (even or odd) for the remaining permutation matrix.  We then add all those determinants together to get our determinant.\n"
   ]
  },
  {
   "cell_type": "code",
   "execution_count": 169,
   "metadata": {},
   "outputs": [
    {
     "name": "stdout",
     "output_type": "stream",
     "text": [
      "-8\n"
     ]
    }
   ],
   "source": [
    "from itertools import permutations\n",
    "\n",
    "# Takes a permutation matrix and returns its determinant based on number of swaps to reach identity matrix\n",
    "def perm_determinant(permutation_matrix):\n",
    "    num_rows, num_cols = permutation_matrix.shape\n",
    "\n",
    "    pivot_row = 0\n",
    "    pivot_col = 0\n",
    "\n",
    "    row_swaps = 0\n",
    "\n",
    "    while (pivot_row < num_rows):\n",
    "        pivot = permutation_matrix[pivot_row][pivot_col]\n",
    "        if pivot != 0 and pivot != 1:\n",
    "            raise Exception(\"Only expecting 0s and 1s in a permutation matrix\")\n",
    "\n",
    "        if (pivot == 0):\n",
    "            found_swap = False\n",
    "            for swap_pivot_row in range(pivot_row + 1, num_rows):\n",
    "                swap_pivot = permutation_matrix[swap_pivot_row][pivot_col]\n",
    "                if swap_pivot != 0 and swap_pivot != 1:\n",
    "                    raise Exception(\"Only expecting 0s and 1s in a permutation matrix\")\n",
    "                if (swap_pivot != 0):\n",
    "                    found_swap = True\n",
    "                    row_swaps += 1\n",
    "                    row_swap(permutation_matrix, pivot_row, swap_pivot_row)\n",
    "                    break\n",
    "            if not found_swap:\n",
    "                raise Exception('Could not find pivot or row swap for {}').format(pivot_row)\n",
    "        \n",
    "        pivot_row = pivot_row + 1\n",
    "        pivot_col = pivot_col + 1\n",
    "    \n",
    "    if (row_swaps % 2 == 1):\n",
    "        return -1\n",
    "    else:\n",
    "        return 1\n",
    "\n",
    "def determinant_by_big_formula(matrix):\n",
    "    num_rows, num_cols = matrix.shape\n",
    "    perms = permutations(range(0,num_cols))\n",
    "\n",
    "    determinant = 0\n",
    "\n",
    "    for perm in perms:\n",
    "        product = 1\n",
    "        perm_matrix = np.zeros(matrix.shape)\n",
    "        row = 0\n",
    "        for col in perm:\n",
    "            el = matrix[row][col]\n",
    "            product = product * el\n",
    "            perm_matrix[row][col] = 1\n",
    "            row += 1\n",
    "        product = product * perm_determinant(perm_matrix)\n",
    "        determinant += product\n",
    "\n",
    "    return determinant\n",
    "\n",
    "print(determinant_by_big_formula(np.array([[0, 0, 1], [0, 2, 3], [4, 5, 6]])))"
   ]
  },
  {
   "cell_type": "markdown",
   "metadata": {},
   "source": [
    "# Transpose\n"
   ]
  },
  {
   "cell_type": "code",
   "execution_count": 170,
   "metadata": {},
   "outputs": [
    {
     "name": "stdout",
     "output_type": "stream",
     "text": [
      "[[1 3]\n",
      " [2 4]]\n"
     ]
    }
   ],
   "source": [
    "# https://numpy.org/doc/stable/reference/generated/numpy.transpose.html\n",
    "\n",
    "a = np.array([[1, 2], [3, 4]])\n",
    "print(np.transpose(a))"
   ]
  },
  {
   "cell_type": "markdown",
   "metadata": {},
   "source": [
    "# Nullspace and column space"
   ]
  },
  {
   "cell_type": "code",
   "execution_count": 171,
   "metadata": {},
   "outputs": [
    {
     "name": "stdout",
     "output_type": "stream",
     "text": [
      "[Matrix([\n",
      "[-2],\n",
      "[ 1]])]\n",
      "[Matrix([\n",
      "[1],\n",
      "[3]])]\n",
      "[Matrix([\n",
      "[-2],\n",
      "[ 1],\n",
      "[ 0]]), Matrix([\n",
      "[-3],\n",
      "[ 0],\n",
      "[ 1]])]\n"
     ]
    }
   ],
   "source": [
    "A = np.array([[1,2],[3,6]])\n",
    "A_sym = sp.Matrix(A)\n",
    "\n",
    "print(A_sym.nullspace())\n",
    "print(A_sym.columnspace())\n",
    "\n",
    "B_sym = sp.Matrix([[1,2,3]])\n",
    "print(B_sym.nullspace())\n"
   ]
  },
  {
   "cell_type": "markdown",
   "metadata": {},
   "source": [
    "# (Reduced) Row Echelon Form"
   ]
  },
  {
   "cell_type": "code",
   "execution_count": 172,
   "metadata": {},
   "outputs": [
    {
     "name": "stdout",
     "output_type": "stream",
     "text": [
      "Matrix([\n",
      "[1, 5, 7, 9],\n",
      "[0, 4, 1, 7],\n",
      "[0, 0, 0, 0]])\n",
      "Matrix([\n",
      "[1, 0, 23/4, 1/4],\n",
      "[0, 1,  1/4, 7/4],\n",
      "[0, 0,    0,   0]])\n"
     ]
    }
   ],
   "source": [
    "# https://stackoverflow.com/questions/70838696/how-do-i-find-the-row-echelon-form-ref\n",
    "import pprint\n",
    "\n",
    "Vec = sp.Matrix(np.matrix([[1,5,7,9],\n",
    "                 [0,4,1,7],\n",
    "                 [2,-2,11,-3]]))\n",
    "\n",
    "echelon_form = Vec.echelon_form()\n",
    "\n",
    "pprint.pp(echelon_form)\n",
    "\n",
    "rref = Vec.rref()[0]\n",
    "\n",
    "pprint.pp(rref)"
   ]
  },
  {
   "cell_type": "markdown",
   "metadata": {},
   "source": [
    "# Rank of a Matrix"
   ]
  },
  {
   "cell_type": "code",
   "execution_count": 233,
   "metadata": {},
   "outputs": [
    {
     "name": "stdout",
     "output_type": "stream",
     "text": [
      "2\n",
      "{(-23*tau0/4 - tau1/4, -tau0/4 - 7*tau1/4, tau0, tau1)}\n"
     ]
    }
   ],
   "source": [
    "from sympy import solve\n",
    "\n",
    "Vec = sp.Matrix(np.matrix([[1,5,7,9],\n",
    "                 [0,4,1,7],\n",
    "                 [2,-2,11,-3]]))\n",
    "\n",
    "x, y = symbols(\"x, y\")\n",
    "\n",
    "print(Vec.rank())\n",
    "\n",
    "print(sp.linsolve( (Vec, sp.Matrix([[0],[0],[0],[0]]))))"
   ]
  },
  {
   "cell_type": "markdown",
   "metadata": {},
   "source": [
    "# Checking independence of vectors"
   ]
  },
  {
   "cell_type": "code",
   "execution_count": 234,
   "metadata": {},
   "outputs": [
    {
     "name": "stdout",
     "output_type": "stream",
     "text": [
      "3\n"
     ]
    }
   ],
   "source": [
    "# Returns the rank of the matrix with the provided vectors as columns.  This tells you the maximum number of independent vectors.\n",
    "def linearly_dependent(*vectors):\n",
    "    return sp.Matrix.hstack(*vectors).rank()\n",
    "\n",
    "v_1 = sp.Matrix([1,-1,0,0])\n",
    "v_2 = sp.Matrix([1,0,-1,0])\n",
    "v_3 = sp.Matrix([1,0,0,-1])\n",
    "v_4 = sp.Matrix([0,1,-1,0])\n",
    "v_5 = sp.Matrix([0,1,0,-1])\n",
    "v_6 = sp.Matrix([0,0,1,-1])\n",
    "\n",
    "\n",
    "print(linearly_dependent(v_1,v_2,v_3,v_4,v_5,v_6))"
   ]
  },
  {
   "cell_type": "markdown",
   "metadata": {},
   "source": [
    "# Cross-Product"
   ]
  },
  {
   "cell_type": "code",
   "execution_count": 237,
   "metadata": {},
   "outputs": [
    {
     "name": "stdout",
     "output_type": "stream",
     "text": [
      "Matrix([[1], [-2], [3]])\n"
     ]
    }
   ],
   "source": [
    "v_1 = sp.Matrix([2,1,0])\n",
    "v_2 = sp.Matrix([-3, 0, 1])\n",
    "\n",
    "print(v_1.cross(v_2))"
   ]
  },
  {
   "cell_type": "markdown",
   "metadata": {},
   "source": [
    "\n",
    "\n",
    "# Eigenvalues and Eigenvectors"
   ]
  },
  {
   "cell_type": "code",
   "execution_count": 238,
   "metadata": {},
   "outputs": [
    {
     "name": "stdout",
     "output_type": "stream",
     "text": [
      "E-value: [-1.  4.]\n",
      "E-vector [[-0.89442719 -0.4472136 ]\n",
      " [ 0.4472136  -0.89442719]]\n"
     ]
    }
   ],
   "source": [
    "# From https://pythonnumericalmethods.berkeley.edu/notebooks/chapter15.04-Eigenvalues-and-Eigenvectors-in-Python.html\n",
    "import numpy as np\n",
    "from numpy.linalg import eig \n",
    "\n",
    "a = np.array([[0, 2], \n",
    "              [2, 3]])\n",
    "w,v=eig(a)\n",
    "print('E-value:', w)\n",
    "print('E-vector', v)"
   ]
  }
 ],
 "metadata": {
  "kernelspec": {
   "display_name": "Python 3",
   "language": "python",
   "name": "python3"
  },
  "language_info": {
   "codemirror_mode": {
    "name": "ipython",
    "version": 3
   },
   "file_extension": ".py",
   "mimetype": "text/x-python",
   "name": "python",
   "nbconvert_exporter": "python",
   "pygments_lexer": "ipython3",
   "version": "3.8.2"
  },
  "orig_nbformat": 4
 },
 "nbformat": 4,
 "nbformat_minor": 2
}
