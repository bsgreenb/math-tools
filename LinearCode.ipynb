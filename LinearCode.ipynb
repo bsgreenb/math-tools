{
 "cells": [
  {
   "attachments": {},
   "cell_type": "markdown",
   "metadata": {},
   "source": [
    "# Lengths and Dot Products\n",
    "\n",
    "## Dot Product"
   ]
  },
  {
   "cell_type": "code",
   "execution_count": 2,
   "metadata": {},
   "outputs": [
    {
     "name": "stdout",
     "output_type": "stream",
     "text": [
      "14\n"
     ]
    }
   ],
   "source": [
    "import numpy as np \n",
    "vector_1 = np.array([1, 2])\n",
    "vector_2 = np.array([4, 5])\n",
    "\n",
    "print(vector_1.dot(vector_2))"
   ]
  },
  {
   "cell_type": "markdown",
   "metadata": {},
   "source": [
    "## Vector Length"
   ]
  },
  {
   "cell_type": "code",
   "execution_count": 3,
   "metadata": {},
   "outputs": [
    {
     "name": "stdout",
     "output_type": "stream",
     "text": [
      "3.7416573867739413\n"
     ]
    }
   ],
   "source": [
    "vector = np.array([1,3,2])\n",
    "\n",
    "print(np.linalg.norm(vector))"
   ]
  },
  {
   "cell_type": "markdown",
   "metadata": {},
   "source": [
    "## Angle between two vectors\n"
   ]
  },
  {
   "cell_type": "code",
   "execution_count": 4,
   "metadata": {},
   "outputs": [
    {
     "name": "stdout",
     "output_type": "stream",
     "text": [
      "90.0\n"
     ]
    }
   ],
   "source": [
    "# https://stackoverflow.com/questions/2827393/angles-between-two-n-dimensional-vectors-in-python\n",
    "\n",
    "def unit_vector(vector):\n",
    "    \"\"\" Returns the unit vector of the vector.  \"\"\"\n",
    "    return vector / np.linalg.norm(vector)\n",
    "\n",
    "def angle_between(v1, v2, degrees = True):\n",
    "    \"\"\" Returns the angle in radians between vectors 'v1' and 'v2'::\n",
    "\n",
    "            >>> angle_between((1, 0, 0), (0, 1, 0))\n",
    "            1.5707963267948966\n",
    "            >>> angle_between((1, 0, 0), (1, 0, 0))\n",
    "            0.0\n",
    "            >>> angle_between((1, 0, 0), (-1, 0, 0))\n",
    "            3.141592653589793\n",
    "    \"\"\"\n",
    "    v1_u = unit_vector(v1)\n",
    "    v2_u = unit_vector(v2)\n",
    "    radians = np.arccos(np.clip(np.dot(v1_u, v2_u), -1.0, 1.0))\n",
    "    if degrees:\n",
    "        return np.degrees(radians)\n",
    "    else:\n",
    "        return radians\n",
    "\n",
    "v1 = np.array([2,2,-1])\n",
    "v2 = np.array([2,-1,2])\n",
    "\n",
    "print(angle_between(v1, v2))"
   ]
  },
  {
   "cell_type": "markdown",
   "metadata": {},
   "source": [
    "# Matrices \n",
    "\n",
    "## Matrix multiplication\n",
    "\n",
    "There's no built in type for vectors and matrices in python.  So I'm going to use numpy"
   ]
  },
  {
   "cell_type": "code",
   "execution_count": 5,
   "metadata": {},
   "outputs": [
    {
     "name": "stdout",
     "output_type": "stream",
     "text": [
      "[[ -9   6]\n",
      " [-54  27]]\n"
     ]
    }
   ],
   "source": [
    "vector = np.array([1, 2, 3, 4, 5, 6])\n",
    "\n",
    "matrix_1 = np.array([[0, 1], [-9, 6]])\n",
    "\n",
    "print(matrix_1 @ matrix_1)"
   ]
  },
  {
   "cell_type": "markdown",
   "metadata": {},
   "source": [
    "## Solving Matrix Equations"
   ]
  },
  {
   "cell_type": "code",
   "execution_count": 163,
   "metadata": {},
   "outputs": [
    {
     "name": "stdout",
     "output_type": "stream",
     "text": [
      "[ 5. -2.]\n"
     ]
    },
    {
     "data": {
      "text/latex": [
       "$\\displaystyle \\left\\{\\left( -1, \\  2\\right)\\right\\}$"
      ],
      "text/plain": [
       "{(-1, 2)}"
      ]
     },
     "execution_count": 163,
     "metadata": {},
     "output_type": "execute_result"
    }
   ],
   "source": [
    "import sympy as sp\n",
    "\n",
    "# https://numpy.org/doc/stable/reference/generated/numpy.linalg.solve.html\n",
    "# Solve the system of equations x0 + 2 * x1 = 1 and 3 * x0 + 5 * x1 = 2:\n",
    "a = np.array([[1, 2], [2, 5]])\n",
    "b = np.array([1, 0])\n",
    "print(np.linalg.solve(a, b))\n",
    "\n",
    "# https://stackoverflow.com/questions/31547657/how-can-i-solve-system-of-linear-equations-in-sympy\n",
    "a_2 = sp.Matrix(np.array([[1, 4, 7], [2, 5, 8], [3, 6, 9]]))\n",
    "sp.linsolve(a_2)"
   ]
  },
  {
   "cell_type": "markdown",
   "metadata": {},
   "source": [
    "# Elimination, A = LU factorization, Inverses\n",
    "\n",
    "## With Numpy/Sympy"
   ]
  },
  {
   "cell_type": "code",
   "execution_count": 164,
   "metadata": {},
   "outputs": [
    {
     "name": "stdout",
     "output_type": "stream",
     "text": [
      "Matrix([\n",
      "[a,      a,      a,      a],\n",
      "[0, -a + b, -a + b, -a + b],\n",
      "[0,      0, -b + c, -b + c],\n",
      "[0,      0,      0, -c + d]])\n",
      "Matrix([\n",
      "[a,      a,      a,      a],\n",
      "[0, -a + b, -a + b, -a + b],\n",
      "[0,      0, -b + c, -b + c],\n",
      "[0,      0,      0, -c + d]])\n"
     ]
    }
   ],
   "source": [
    "from scipy.linalg import lu\n",
    "from numpy.linalg import inv\n",
    "from sympy import Symbol, symbols\n",
    "\n",
    "\n",
    "A = np.array([[.6, -1], [.4, 1]])\n",
    "\n",
    "# LU with numpy\n",
    "P, L, U = lu(A)\n",
    "# print(\"A:\", A)\n",
    "# print(\"P:\", P)\n",
    "# print(\"L:\", L)\n",
    "# print(\"U:\", U)\n",
    "\n",
    "D = np.diag(np.diag(U))   # D is just the diagonal of U\n",
    "U /= np.diag(U)[:, None]  # Normalize rows of U\n",
    "\n",
    "# print(\"D:\", D)\n",
    "# print(\"U:\", U)\n",
    "\n",
    "# LU with sympy\n",
    "A = sp.Matrix([[1,3,0],[2,4,0],[2,0,1]])\n",
    "L, U, _ = A.LUdecomposition()\n",
    "# pprint.pp(L)\n",
    "# pprint.pp(U)\n",
    "# pprint.pp(L.inv())\n",
    "\n",
    "a,b,c,d = symbols('a,b,c,d')\n",
    "A = sp.Matrix([[a,a,a,a],[a,b,b,b],[a,b,c,c],[a,b,c,d]])\n",
    "L, U, _ = A.LUdecomposition()\n",
    "pprint.pp(U)\n",
    "pprint.pp(sp.simplify(U))\n",
    "\n",
    "\n",
    "A_2 = np.float64(sp.Matrix([[1, 0, 0, 0],[1,1,0,0],[1,2,1,0],[1,3,3,1]]))\n",
    "A_3 = np.float64(sp.Matrix([[1,0,0,0],[0,1,0,0],[0,1,1,0],[0,1,2,1]]))\n",
    "\n",
    "# pprint.pp(A_3 @ inv(A_2))\n",
    "\n",
    "A = sp.Matrix([[1, Symbol('a'), Symbol('b')], [0,1, Symbol('c')], [0,0,1]])\n",
    "# pprint.pp(A.inv())\n"
   ]
  },
  {
   "cell_type": "markdown",
   "metadata": {},
   "source": [
    "## My custom code"
   ]
  },
  {
   "cell_type": "code",
   "execution_count": 165,
   "metadata": {},
   "outputs": [
    {
     "name": "stdout",
     "output_type": "stream",
     "text": [
      "[[ 1.   1. ]\n",
      " [-0.4  0.6]]\n"
     ]
    }
   ],
   "source": [
    "def identity_matrix(size):\n",
    "    matrix = np.zeros([size, size])\n",
    "    pivot_row = 0\n",
    "    while (pivot_row < size):\n",
    "        pivot_col = pivot_row\n",
    "        matrix[pivot_row][pivot_col] = 1\n",
    "\n",
    "        pivot_row += 1\n",
    "    \n",
    "    return matrix\n",
    "\n",
    "def row_swap(matrix, row_a, row_b):\n",
    "    temp = matrix[row_a].copy()\n",
    "    matrix[row_a] = matrix[row_b]\n",
    "    matrix[row_b] = temp\n",
    "    return matrix\n",
    "\n",
    "# Takes a matrix and returns it in upper triangular form, along with number of row swaps required\n",
    "def forward_elimination(matrix):    \n",
    "    num_rows, num_cols = matrix.shape\n",
    "    \n",
    "    pivot_row = 0\n",
    "    pivot_col = 0\n",
    "\n",
    "    row_swaps = 0\n",
    "\n",
    "    while (pivot_row < num_rows):\n",
    "        pivot = matrix[pivot_row][pivot_col]\n",
    "        if (pivot == 0):\n",
    "            found_swap = False\n",
    "            for swap_pivot_row in range(pivot_row + 1, num_rows):\n",
    "                swap_pivot = matrix[swap_pivot_row][pivot_col]\n",
    "                if (swap_pivot != 0):\n",
    "                    found_swap = True\n",
    "                    row_swaps += 1\n",
    "                    row_swap(matrix, pivot_row, swap_pivot_row)\n",
    "                    pivot = matrix[pivot_row][pivot_col]\n",
    "                    break\n",
    "            if not found_swap:\n",
    "                raise Exception('Could not find pivot or row swap for {}').format(pivot_row)\n",
    "        # We have a non zero pivot.  Now let's subtract off the rows below.\n",
    "        for following_row in range(pivot_row + 1, num_rows):\n",
    "            to_eliminate = matrix[following_row][pivot_col]\n",
    "            if (to_eliminate != 0):\n",
    "                # Only need to worry about nonzero elements below\n",
    "                l = to_eliminate / pivot\n",
    "                for elim_col in range(pivot_col, num_cols):\n",
    "                    matrix[following_row][elim_col] = matrix[following_row][elim_col] - (l * matrix[pivot_row][elim_col])\n",
    "        pivot_row = pivot_row + 1\n",
    "        pivot_col = pivot_col + 1\n",
    "    \n",
    "    return matrix, row_swaps\n",
    "\n",
    "# Brings us from upper triangular (row echelon) to reduced row echelon form.\n",
    "def rref(matrix):\n",
    "    num_rows, num_cols = matrix.shape\n",
    "\n",
    "    pivot_row = num_rows - 1\n",
    "\n",
    "    # Loop from bottom to top\n",
    "    while (pivot_row >= 0):\n",
    "        pivot_col = pivot_row\n",
    "        pivot = matrix[pivot_row][pivot_col]\n",
    "        if pivot == 0:\n",
    "            raise Exception('Unexpected zero on row {}').format(pivot_row)\n",
    "        \n",
    "        # Divide out the row if pivot is not already 1\n",
    "        if pivot != 1:\n",
    "            for divide_col in range(pivot_col, num_cols):\n",
    "                matrix[pivot_row][divide_col] = matrix[pivot_row][divide_col] / pivot\n",
    "            pivot = matrix[pivot_row][pivot_col]\n",
    "        \n",
    "        # Subtract off the rows above\n",
    "        for previous_row in reversed(range(0, pivot_row)):\n",
    "            to_eliminate = matrix[previous_row][pivot_col]\n",
    "            if (to_eliminate != 0):\n",
    "                # Only need to worry about nonzero elements above\n",
    "                l = to_eliminate / pivot \n",
    "                for elim_col in range(pivot_col, num_cols):\n",
    "                    matrix[previous_row][elim_col] = matrix[previous_row][elim_col] - (l * matrix[pivot_row][elim_col])\n",
    "        \n",
    "        pivot_row = pivot_row - 1\n",
    "    \n",
    "    return matrix\n",
    "\n",
    "# Takes a matrix and finds its inverse with Gaussian elimination\n",
    "def matrix_inverse(matrix):\n",
    "    num_rows, num_cols = matrix.shape\n",
    "    matrix = np.append(matrix, identity_matrix(num_rows), axis=1)\n",
    "    matrix, row_swaps = forward_elimination(matrix)\n",
    "    matrix = rref(matrix)\n",
    "\n",
    "    # Return just the inverse\n",
    "    return matrix[0:num_rows, num_cols:]\n",
    "\n",
    "matrix = np.array([[.6, -1], [.4, 1]])\n",
    "print(matrix_inverse(matrix))\n",
    "\n",
    "\n"
   ]
  },
  {
   "cell_type": "markdown",
   "metadata": {},
   "source": [
    "# Permutations\n"
   ]
  },
  {
   "cell_type": "code",
   "execution_count": 166,
   "metadata": {},
   "outputs": [
    {
     "name": "stdout",
     "output_type": "stream",
     "text": [
      "Matrix([[0, 1, 0], [0, 0, 1], [1, 0, 0]])\n",
      "Matrix([[0, 0, 1], [1, 0, 0], [0, 1, 0]])\n",
      "4x4\n",
      "24\n",
      "Matrix([[1, 0, 0, 0], [0, 0, 1, 0], [0, 0, 0, 1], [0, 1, 0, 0]])\n",
      "Matrix([[1, 0, 0, 0], [0, 0, 0, 1], [0, 1, 0, 0], [0, 0, 1, 0]])\n",
      "Matrix([[0, 1, 0, 0], [0, 0, 1, 0], [1, 0, 0, 0], [0, 0, 0, 1]])\n",
      "Matrix([[0, 1, 0, 0], [0, 0, 0, 1], [0, 0, 1, 0], [1, 0, 0, 0]])\n",
      "Matrix([[0, 0, 1, 0], [1, 0, 0, 0], [0, 1, 0, 0], [0, 0, 0, 1]])\n",
      "Matrix([[0, 0, 1, 0], [0, 1, 0, 0], [0, 0, 0, 1], [1, 0, 0, 0]])\n",
      "Matrix([[0, 0, 0, 1], [1, 0, 0, 0], [0, 0, 1, 0], [0, 1, 0, 0]])\n",
      "Matrix([[0, 0, 0, 1], [0, 1, 0, 0], [1, 0, 0, 0], [0, 0, 1, 0]])\n"
     ]
    }
   ],
   "source": [
    "from itertools import permutations\n",
    "from sympy import eye\n",
    "\n",
    "# Generate a list of permutation matrices for a given size of matrix:\n",
    "\n",
    "\n",
    "def generate_perm_matrices(size = 3):\n",
    "    matrices = []\n",
    "\n",
    "    M = eye(size)\n",
    "    \n",
    "    perms = permutations(range(size))\n",
    "\n",
    "    # https://docs.sympy.org/latest/modules/matrices/common.html#sympy.matrices.common.MatrixCommon.permute\n",
    "    for perm in perms:\n",
    "        matrices.append(M.permute(perm))\n",
    "\n",
    "    return matrices\n",
    "\n",
    "matrices = generate_perm_matrices()\n",
    "\n",
    "# Find the matrix that can be brought to power 3 and equal identity\n",
    "for matrix in matrices:\n",
    "    if (matrix != eye(3) and (matrix ** 3) == eye(3)):\n",
    "        print(matrix)\n",
    "\n",
    "print(\"4x4\")\n",
    "# Find the 4x4 matric that can be brought to power 4 and not equal identity\n",
    "matrices = generate_perm_matrices(4)\n",
    "print(len(matrices))\n",
    "for matrix in matrices:\n",
    "    if (matrix ** 4 != eye(4)):\n",
    "        print(matrix)"
   ]
  },
  {
   "cell_type": "markdown",
   "metadata": {},
   "source": [
    "# Transpose\n"
   ]
  },
  {
   "cell_type": "code",
   "execution_count": 170,
   "metadata": {},
   "outputs": [
    {
     "name": "stdout",
     "output_type": "stream",
     "text": [
      "[[1 3]\n",
      " [2 4]]\n"
     ]
    }
   ],
   "source": [
    "# https://numpy.org/doc/stable/reference/generated/numpy.transpose.html\n",
    "\n",
    "a = np.array([[1, 2], [3, 4]])\n",
    "print(np.transpose(a))"
   ]
  },
  {
   "cell_type": "markdown",
   "metadata": {},
   "source": [
    "# Nullspace and column space"
   ]
  },
  {
   "cell_type": "code",
   "execution_count": 171,
   "metadata": {},
   "outputs": [
    {
     "name": "stdout",
     "output_type": "stream",
     "text": [
      "[Matrix([\n",
      "[-2],\n",
      "[ 1]])]\n",
      "[Matrix([\n",
      "[1],\n",
      "[3]])]\n",
      "[Matrix([\n",
      "[-2],\n",
      "[ 1],\n",
      "[ 0]]), Matrix([\n",
      "[-3],\n",
      "[ 0],\n",
      "[ 1]])]\n"
     ]
    }
   ],
   "source": [
    "A = np.array([[1,2],[3,6]])\n",
    "A_sym = sp.Matrix(A)\n",
    "\n",
    "print(A_sym.nullspace())\n",
    "print(A_sym.columnspace())\n",
    "\n",
    "B_sym = sp.Matrix([[1,2,3]])\n",
    "print(B_sym.nullspace())\n"
   ]
  },
  {
   "cell_type": "markdown",
   "metadata": {},
   "source": [
    "# (Reduced) Row Echelon Form"
   ]
  },
  {
   "cell_type": "code",
   "execution_count": 172,
   "metadata": {},
   "outputs": [
    {
     "name": "stdout",
     "output_type": "stream",
     "text": [
      "Matrix([\n",
      "[1, 5, 7, 9],\n",
      "[0, 4, 1, 7],\n",
      "[0, 0, 0, 0]])\n",
      "Matrix([\n",
      "[1, 0, 23/4, 1/4],\n",
      "[0, 1,  1/4, 7/4],\n",
      "[0, 0,    0,   0]])\n"
     ]
    }
   ],
   "source": [
    "# https://stackoverflow.com/questions/70838696/how-do-i-find-the-row-echelon-form-ref\n",
    "import pprint\n",
    "\n",
    "Vec = sp.Matrix(np.matrix([[1,5,7,9],\n",
    "                 [0,4,1,7],\n",
    "                 [2,-2,11,-3]]))\n",
    "\n",
    "echelon_form = Vec.echelon_form()\n",
    "\n",
    "pprint.pp(echelon_form)\n",
    "\n",
    "rref = Vec.rref()[0]\n",
    "\n",
    "pprint.pp(rref)"
   ]
  },
  {
   "cell_type": "markdown",
   "metadata": {},
   "source": [
    "# Rank of a Matrix"
   ]
  },
  {
   "cell_type": "code",
   "execution_count": 318,
   "metadata": {},
   "outputs": [
    {
     "name": "stdout",
     "output_type": "stream",
     "text": [
      "2\n"
     ]
    }
   ],
   "source": [
    "Vec = sp.Matrix(np.matrix([[1,5,7,9],\n",
    "                 [0,4,1,7],\n",
    "                 [2,-2,11,-3]]))\n",
    "print(Vec.rank())"
   ]
  },
  {
   "cell_type": "markdown",
   "metadata": {},
   "source": [
    "# Complete solution to Ax=b w/ special solutions"
   ]
  },
  {
   "cell_type": "code",
   "execution_count": 491,
   "metadata": {},
   "outputs": [
    {
     "data": {
      "text/latex": [
       "$\\displaystyle \\left\\{\\left( - 3 \\tau_{0} - 2 \\tau_{1} + 1, \\  \\tau_{0}, \\  6 - 4 \\tau_{1}, \\  \\tau_{1}\\right)\\right\\}$"
      ],
      "text/plain": [
       "{(-3⋅τ₀ - 2⋅τ₁ + 1, τ₀, 6 - 4⋅τ₁, τ₁)}"
      ]
     },
     "metadata": {},
     "output_type": "display_data"
    },
    {
     "data": {
      "text/latex": [
       "$\\displaystyle \\left[ \\left[\\begin{matrix}-3\\\\1\\\\0\\\\0\\end{matrix}\\right], \\  \\left[\\begin{matrix}-2\\\\0\\\\-4\\\\1\\end{matrix}\\right]\\right]$"
      ],
      "text/plain": [
       "⎡⎡-3⎤  ⎡-2⎤⎤\n",
       "⎢⎢  ⎥  ⎢  ⎥⎥\n",
       "⎢⎢1 ⎥  ⎢0 ⎥⎥\n",
       "⎢⎢  ⎥, ⎢  ⎥⎥\n",
       "⎢⎢0 ⎥  ⎢-4⎥⎥\n",
       "⎢⎢  ⎥  ⎢  ⎥⎥\n",
       "⎣⎣0 ⎦  ⎣1 ⎦⎦"
      ]
     },
     "metadata": {},
     "output_type": "display_data"
    }
   ],
   "source": [
    "from IPython.display import display\n",
    "\n",
    "\n",
    "\n",
    "A = sp.Matrix([[1,3,0,2],\n",
    "                 [0,0,1,4],\n",
    "                 [1,3,1,6]])\n",
    "\n",
    "b = sp.Matrix([1,6,7])\n",
    "display(sp.linsolve( (A, b )))\n",
    "\n",
    "display(A.nullspace())\n"
   ]
  },
  {
   "cell_type": "markdown",
   "metadata": {},
   "source": [
    "# Checking independence of vectors"
   ]
  },
  {
   "cell_type": "code",
   "execution_count": 492,
   "metadata": {},
   "outputs": [
    {
     "name": "stdout",
     "output_type": "stream",
     "text": [
      "3\n"
     ]
    }
   ],
   "source": [
    "# Returns the rank of the matrix with the provided vectors as columns.  This tells you the maximum number of independent vectors.\n",
    "def linearly_dependent(*vectors):\n",
    "    return sp.Matrix.hstack(*vectors).rank()\n",
    "\n",
    "v_1 = sp.Matrix([1,-1,0,0])\n",
    "v_2 = sp.Matrix([1,0,-1,0])\n",
    "v_3 = sp.Matrix([1,0,0,-1])\n",
    "v_4 = sp.Matrix([0,1,-1,0])\n",
    "v_5 = sp.Matrix([0,1,0,-1])\n",
    "v_6 = sp.Matrix([0,0,1,-1])\n",
    "\n",
    "\n",
    "print(linearly_dependent(v_1,v_2,v_3,v_4,v_5,v_6))"
   ]
  },
  {
   "cell_type": "markdown",
   "metadata": {},
   "source": [
    "# Cross-Product"
   ]
  },
  {
   "cell_type": "code",
   "execution_count": 493,
   "metadata": {},
   "outputs": [
    {
     "name": "stdout",
     "output_type": "stream",
     "text": [
      "Matrix([[1], [-2], [3]])\n"
     ]
    }
   ],
   "source": [
    "v_1 = sp.Matrix([2,1,0])\n",
    "v_2 = sp.Matrix([-3, 0, 1])\n",
    "\n",
    "print(v_1.cross(v_2))"
   ]
  },
  {
   "cell_type": "markdown",
   "metadata": {},
   "source": [
    "# Solving for matrix combinations"
   ]
  },
  {
   "cell_type": "code",
   "execution_count": 494,
   "metadata": {},
   "outputs": [
    {
     "name": "stdout",
     "output_type": "stream",
     "text": [
      "{x: 3}\n"
     ]
    },
    {
     "data": {
      "text/latex": [
       "$\\displaystyle \\left[\\begin{matrix}1 & 0 & 0\\\\0 & 1 & 0\\\\0 & 0 & 1\\end{matrix}\\right] = \\left[\\begin{matrix}c_{1} & c_{2} + c_{3} & c_{4} + c_{5}\\\\c_{2} + c_{4} & c_{5} & c_{1} + c_{3}\\\\c_{3} + c_{5} & c_{1} + c_{4} & c_{2}\\end{matrix}\\right]$"
      ],
      "text/plain": [
       "⎡1  0  0⎤   ⎡  c₁     c₂ + c₃  c₄ + c₅⎤\n",
       "⎢       ⎥   ⎢                         ⎥\n",
       "⎢0  1  0⎥ = ⎢c₂ + c₄    c₅     c₁ + c₃⎥\n",
       "⎢       ⎥   ⎢                         ⎥\n",
       "⎣0  0  1⎦   ⎣c₃ + c₅  c₁ + c₄    c₂   ⎦"
      ]
     },
     "metadata": {},
     "output_type": "display_data"
    },
    {
     "name": "stdout",
     "output_type": "stream",
     "text": [
      "{c_1: 1, c_2: 1, c_3: -1, c_4: -1, c_5: 1}\n"
     ]
    }
   ],
   "source": [
    "A = sp.eye(3)\n",
    "x = sp.Symbol('x')\n",
    "from IPython.display import display\n",
    "\n",
    "print(sp.solve(sp.Eq(A * x, 3 * A), [x]))\n",
    "\n",
    "# Now let's do a more challenging problem, of writing the 3x3 identity matrix as a combination of the five other permutation matrices:\n",
    "matrices = generate_perm_matrices(3)\n",
    "\n",
    "# TODO: understand symbols() so I can do this more efficently\n",
    "c_1, c_2, c_3, c_4, c_5 = sp.symbols('c_1, c_2, c_3, c_4, c_5')\n",
    "eq = sp.Eq(matrices[0], (c_1 * matrices[1]) + (c_2 * matrices[2]) + (c_3 * matrices[3]) + (c_4 * matrices[4]) + (c_5 * matrices[5]))\n",
    "display(eq)\n",
    "sol = sp.solve(eq, [c_1, c_2, c_3, c_4, c_5])\n",
    "print(sol)"
   ]
  },
  {
   "cell_type": "markdown",
   "metadata": {},
   "source": [
    "# Projection\n",
    "\n",
    "Suppose we have $b = (2,3,4)$. If we wanted to project it onto the $z$ axis, we'd have projection $(0,0,4)$.  If we projected it onto the xy plane, we'd have projection $(2,3,0)$.  Those are the parts of $b$ along the z axis and the xy plane."
   ]
  },
  {
   "cell_type": "code",
   "execution_count": 568,
   "metadata": {},
   "outputs": [
    {
     "data": {
      "text/latex": [
       "$\\displaystyle \\left[\\begin{matrix}1\\\\2\\\\3\\\\0\\end{matrix}\\right]$"
      ],
      "text/plain": [
       "⎡1⎤\n",
       "⎢ ⎥\n",
       "⎢2⎥\n",
       "⎢ ⎥\n",
       "⎢3⎥\n",
       "⎢ ⎥\n",
       "⎣0⎦"
      ]
     },
     "metadata": {},
     "output_type": "display_data"
    },
    {
     "data": {
      "text/latex": [
       "$\\displaystyle \\left[\\begin{matrix}1 & 0 & 0 & 0\\\\0 & 1 & 0 & 0\\\\0 & 0 & 1 & 0\\\\0 & 0 & 0 & 0\\end{matrix}\\right]$"
      ],
      "text/plain": [
       "⎡1  0  0  0⎤\n",
       "⎢          ⎥\n",
       "⎢0  1  0  0⎥\n",
       "⎢          ⎥\n",
       "⎢0  0  1  0⎥\n",
       "⎢          ⎥\n",
       "⎣0  0  0  0⎦"
      ]
     },
     "metadata": {},
     "output_type": "display_data"
    },
    {
     "data": {
      "text/latex": [
       "$\\displaystyle \\left[\\begin{matrix}1\\\\2\\\\3\\end{matrix}\\right]$"
      ],
      "text/plain": [
       "⎡1⎤\n",
       "⎢ ⎥\n",
       "⎢2⎥\n",
       "⎢ ⎥\n",
       "⎣3⎦"
      ]
     },
     "metadata": {},
     "output_type": "display_data"
    }
   ],
   "source": [
    "a = sp.eye(4)\n",
    "a.col_del(3)\n",
    "b = sp.Matrix([1,2,3,4])\n",
    "\n",
    "# Note that b.project(a) exists, but it only supports projection onto a\n",
    "def project(A, b):\n",
    "    return A @ (A.T @ A).inv() @ (A.T @ b)\n",
    "\n",
    "# Returns the projection matrix that you can multiply any b by to get A\n",
    "def projection_matrix(A):\n",
    "    return A @ (A.T @ A).inv() @ A.T\n",
    "\n",
    "# Returns the vector you multiply A by to get p. p = A\\hat{x}.  In the projection to a line case, you can consider this to be how far along the line you go to get to p.\n",
    "def x_hat(A, b):\n",
    "    return (A.T @ A).inv() @ (A.T @ b)\n",
    "\n",
    "display(project(a, b))\n",
    "display(projection_matrix(a))\n",
    "display(x_hat(a, b))\n",
    "\n",
    "# display(p)\n",
    "# display(projection_matrix(A))\n",
    "# display(b - p)\n",
    "\n"
   ]
  },
  {
   "cell_type": "markdown",
   "metadata": {},
   "source": [
    "# Least Squares, Line and Parabola Fitting\n"
   ]
  },
  {
   "cell_type": "code",
   "execution_count": 602,
   "metadata": {},
   "outputs": [
    {
     "data": {
      "text/latex": [
       "$\\displaystyle \\left[\\begin{matrix}5\\\\-3\\end{matrix}\\right]$"
      ],
      "text/plain": [
       "⎡5 ⎤\n",
       "⎢  ⎥\n",
       "⎣-3⎦"
      ]
     },
     "metadata": {},
     "output_type": "display_data"
    },
    {
     "data": {
      "text/latex": [
       "$\\displaystyle \\left[\\begin{matrix}1\\\\-2\\\\1\\end{matrix}\\right]$"
      ],
      "text/plain": [
       "⎡1 ⎤\n",
       "⎢  ⎥\n",
       "⎢-2⎥\n",
       "⎢  ⎥\n",
       "⎣1 ⎦"
      ]
     },
     "metadata": {},
     "output_type": "display_data"
    },
    {
     "data": {
      "text/latex": [
       "$\\displaystyle \\left[\\begin{matrix}6\\\\-9\\\\3\\end{matrix}\\right]$"
      ],
      "text/plain": [
       "⎡6 ⎤\n",
       "⎢  ⎥\n",
       "⎢-9⎥\n",
       "⎢  ⎥\n",
       "⎣3 ⎦"
      ]
     },
     "execution_count": 602,
     "metadata": {},
     "output_type": "execute_result"
    }
   ],
   "source": [
    "from sympy import Matrix, shape\n",
    "\n",
    "points = Matrix([[0,6],[1,0],[2,0]])\n",
    "\n",
    "def linear_least_squares(points):\n",
    "    rows = shape(points)[0]\n",
    "    A = Matrix.hstack(sp.ones(rows, 1), points.col(0))\n",
    "    x_hat = A.solve_least_squares(points.col(1))\n",
    "    return x_hat\n",
    "\n",
    "def linear_least_squares_error(points, x_hat):\n",
    "    rows = shape(points)[0]\n",
    "    A = Matrix.hstack(sp.ones(rows, 1), points.col(0))\n",
    "    return points.col(1) - (A @ x_hat)\n",
    "\n",
    "\n",
    "x_hat = linear_least_squares(points)\n",
    "display(x_hat)\n",
    "display(linear_least_squares_error(points, x_hat))\n",
    "\n",
    "def parabola_least_squares(points):\n",
    "    rows = shape(points)[0]\n",
    "    A = Matrix.hstack(sp.ones(rows, 1), points.col(0), points.col(0).multiply_elementwise(points.col(0)))\n",
    "    x_hat = A.solve_least_squares(points.col(1))\n",
    "    return x_hat\n",
    "\n",
    "parabola_least_squares(points)\n",
    "\n",
    "\n"
   ]
  },
  {
   "cell_type": "markdown",
   "metadata": {},
   "source": [
    "# Gram-Schmidt\n",
    "\n",
    "Process for getting orthonormal vectors.  With orthonormal columns, $Q^TQ = I$"
   ]
  },
  {
   "cell_type": "code",
   "execution_count": 608,
   "metadata": {},
   "outputs": [
    {
     "data": {
      "text/latex": [
       "$\\displaystyle \\left[ \\left[\\begin{matrix}1\\\\-1\\\\0\\end{matrix}\\right], \\  \\left[\\begin{matrix}1\\\\1\\\\-2\\end{matrix}\\right], \\  \\left[\\begin{matrix}1\\\\1\\\\1\\end{matrix}\\right]\\right]$"
      ],
      "text/plain": [
       "⎡⎡1 ⎤  ⎡1 ⎤  ⎡1⎤⎤\n",
       "⎢⎢  ⎥  ⎢  ⎥  ⎢ ⎥⎥\n",
       "⎢⎢-1⎥, ⎢1 ⎥, ⎢1⎥⎥\n",
       "⎢⎢  ⎥  ⎢  ⎥  ⎢ ⎥⎥\n",
       "⎣⎣0 ⎦  ⎣-2⎦  ⎣1⎦⎦"
      ]
     },
     "metadata": {},
     "output_type": "display_data"
    },
    {
     "data": {
      "text/latex": [
       "$\\displaystyle \\left[ \\left[\\begin{matrix}\\frac{\\sqrt{2}}{2}\\\\- \\frac{\\sqrt{2}}{2}\\\\0\\end{matrix}\\right], \\  \\left[\\begin{matrix}\\frac{\\sqrt{6}}{6}\\\\\\frac{\\sqrt{6}}{6}\\\\- \\frac{\\sqrt{6}}{3}\\end{matrix}\\right], \\  \\left[\\begin{matrix}\\frac{\\sqrt{3}}{3}\\\\\\frac{\\sqrt{3}}{3}\\\\\\frac{\\sqrt{3}}{3}\\end{matrix}\\right]\\right]$"
      ],
      "text/plain": [
       "⎡        ⎡ √6 ⎤  ⎡√3⎤⎤\n",
       "⎢⎡ √2 ⎤  ⎢ ── ⎥  ⎢──⎥⎥\n",
       "⎢⎢ ── ⎥  ⎢ 6  ⎥  ⎢3 ⎥⎥\n",
       "⎢⎢ 2  ⎥  ⎢    ⎥  ⎢  ⎥⎥\n",
       "⎢⎢    ⎥  ⎢ √6 ⎥  ⎢√3⎥⎥\n",
       "⎢⎢-√2 ⎥, ⎢ ── ⎥, ⎢──⎥⎥\n",
       "⎢⎢────⎥  ⎢ 6  ⎥  ⎢3 ⎥⎥\n",
       "⎢⎢ 2  ⎥  ⎢    ⎥  ⎢  ⎥⎥\n",
       "⎢⎢    ⎥  ⎢-√6 ⎥  ⎢√3⎥⎥\n",
       "⎢⎣ 0  ⎦  ⎢────⎥  ⎢──⎥⎥\n",
       "⎣        ⎣ 3  ⎦  ⎣3 ⎦⎦"
      ]
     },
     "metadata": {},
     "output_type": "display_data"
    },
    {
     "data": {
      "text/latex": [
       "$\\displaystyle \\left[\\begin{matrix}\\frac{\\sqrt{2}}{2}\\\\- \\frac{\\sqrt{2}}{2}\\\\0\\end{matrix}\\right]$"
      ],
      "text/plain": [
       "⎡ √2 ⎤\n",
       "⎢ ── ⎥\n",
       "⎢ 2  ⎥\n",
       "⎢    ⎥\n",
       "⎢-√2 ⎥\n",
       "⎢────⎥\n",
       "⎢ 2  ⎥\n",
       "⎢    ⎥\n",
       "⎣ 0  ⎦"
      ]
     },
     "metadata": {},
     "output_type": "display_data"
    }
   ],
   "source": [
    "vList = [\n",
    "    sp.Matrix([1,-1,0]),\n",
    "    sp.Matrix([2,0,-2]),\n",
    "    sp.Matrix([3,-3,3])\n",
    "]\n",
    "\n",
    "display(sp.matrices.dense.GramSchmidt(vList)) # orthonormal = false\n",
    "display(sp.matrices.dense.GramSchmidt(vList, True)) # orthonormal = true"
   ]
  },
  {
   "cell_type": "markdown",
   "metadata": {},
   "source": [
    "# Determinants\n",
    "\n",
    "## With numpy"
   ]
  },
  {
   "cell_type": "code",
   "execution_count": null,
   "metadata": {},
   "outputs": [
    {
     "name": "stdout",
     "output_type": "stream",
     "text": [
      "-2.0000000000000004\n"
     ]
    }
   ],
   "source": [
    "a = np.array([[1, 2], [3, 4]])\n",
    "print(np.linalg.det(a))"
   ]
  },
  {
   "cell_type": "markdown",
   "metadata": {},
   "source": [
    "\n",
    "## Pivot Algorithm\n",
    "\n",
    "Perform forward elimination to get $A$ to $U$.  If an odd number of row exchanges are involved, then multiply answer by $-1$. The answer being the product of the diagonal pivots.\n"
   ]
  },
  {
   "cell_type": "code",
   "execution_count": null,
   "metadata": {},
   "outputs": [
    {
     "name": "stdout",
     "output_type": "stream",
     "text": [
      "-8\n"
     ]
    }
   ],
   "source": [
    "def diagonal_product(matrix):\n",
    "    num_rows = matrix.shape[0]\n",
    "\n",
    "    product = 1\n",
    "\n",
    "    pivot_row = 0\n",
    "    pivot_col = 0\n",
    "\n",
    "    while (pivot_row < num_rows):\n",
    "        pivot = matrix[pivot_row][pivot_col]\n",
    "        product = product * pivot\n",
    "\n",
    "        pivot_row += 1\n",
    "        pivot_col +=1\n",
    "    \n",
    "    return product\n",
    "\n",
    "def determinant_by_pivots(matrix):\n",
    "    num_rows, num_cols = matrix.shape\n",
    "    if (num_rows != num_cols):\n",
    "        raise Exception('Determinants are only for square matrices')\n",
    "\n",
    "    matrix_u, row_swaps = forward_elimination(matrix)\n",
    "    product = diagonal_product(matrix_u)\n",
    "\n",
    "    if (row_swaps % 2 == 1):\n",
    "        product = product * -1\n",
    "    \n",
    "    return product\n",
    "\n",
    "matrix = np.array([[0, 0, 1], [0, 2, 3], [4, 5, 6]])\n",
    "print(determinant_by_pivots(matrix))"
   ]
  },
  {
   "cell_type": "markdown",
   "metadata": {},
   "source": [
    "## The Big Formula for Determinants\n",
    "\n",
    "For this one we split the determinant into selections from each column and row.  We can then extract the multipliers, and pull the sign from how many row swaps are required (even or odd) for the remaining permutation matrix.  We then add all those determinants together to get our determinant.\n"
   ]
  },
  {
   "cell_type": "code",
   "execution_count": null,
   "metadata": {},
   "outputs": [
    {
     "name": "stdout",
     "output_type": "stream",
     "text": [
      "-8\n"
     ]
    }
   ],
   "source": [
    "from itertools import permutations\n",
    "\n",
    "# Takes a permutation matrix and returns its determinant based on number of swaps to reach identity matrix\n",
    "def perm_determinant(permutation_matrix):\n",
    "    num_rows, num_cols = permutation_matrix.shape\n",
    "\n",
    "    pivot_row = 0\n",
    "    pivot_col = 0\n",
    "\n",
    "    row_swaps = 0\n",
    "\n",
    "    while (pivot_row < num_rows):\n",
    "        pivot = permutation_matrix[pivot_row][pivot_col]\n",
    "        if pivot != 0 and pivot != 1:\n",
    "            raise Exception(\"Only expecting 0s and 1s in a permutation matrix\")\n",
    "\n",
    "        if (pivot == 0):\n",
    "            found_swap = False\n",
    "            for swap_pivot_row in range(pivot_row + 1, num_rows):\n",
    "                swap_pivot = permutation_matrix[swap_pivot_row][pivot_col]\n",
    "                if swap_pivot != 0 and swap_pivot != 1:\n",
    "                    raise Exception(\"Only expecting 0s and 1s in a permutation matrix\")\n",
    "                if (swap_pivot != 0):\n",
    "                    found_swap = True\n",
    "                    row_swaps += 1\n",
    "                    row_swap(permutation_matrix, pivot_row, swap_pivot_row)\n",
    "                    break\n",
    "            if not found_swap:\n",
    "                raise Exception('Could not find pivot or row swap for {}').format(pivot_row)\n",
    "        \n",
    "        pivot_row = pivot_row + 1\n",
    "        pivot_col = pivot_col + 1\n",
    "    \n",
    "    if (row_swaps % 2 == 1):\n",
    "        return -1\n",
    "    else:\n",
    "        return 1\n",
    "\n",
    "def determinant_by_big_formula(matrix):\n",
    "    num_rows, num_cols = matrix.shape\n",
    "    perms = permutations(range(0,num_cols))\n",
    "\n",
    "    determinant = 0\n",
    "\n",
    "    for perm in perms:\n",
    "        product = 1\n",
    "        perm_matrix = np.zeros(matrix.shape)\n",
    "        row = 0\n",
    "        for col in perm:\n",
    "            el = matrix[row][col]\n",
    "            product = product * el\n",
    "            perm_matrix[row][col] = 1\n",
    "            row += 1\n",
    "        product = product * perm_determinant(perm_matrix)\n",
    "        determinant += product\n",
    "\n",
    "    return determinant\n",
    "\n",
    "print(determinant_by_big_formula(np.array([[0, 0, 1], [0, 2, 3], [4, 5, 6]])))"
   ]
  },
  {
   "cell_type": "markdown",
   "metadata": {},
   "source": [
    "# Cofactor Matrix"
   ]
  },
  {
   "cell_type": "code",
   "execution_count": 610,
   "metadata": {},
   "outputs": [
    {
     "data": {
      "text/latex": [
       "$\\displaystyle \\left[\\begin{matrix}6 & -3 & 0\\\\3 & 1 & -1\\\\-6 & 2 & 1\\end{matrix}\\right]$"
      ],
      "text/plain": [
       "⎡6   -3  0 ⎤\n",
       "⎢          ⎥\n",
       "⎢3   1   -1⎥\n",
       "⎢          ⎥\n",
       "⎣-6  2   1 ⎦"
      ]
     },
     "metadata": {},
     "output_type": "display_data"
    }
   ],
   "source": [
    "A = Matrix([[1,1,4],[1,2,2],[1,2,5]])\n",
    "\n",
    "display(A.cofactor_matrix())"
   ]
  },
  {
   "cell_type": "markdown",
   "metadata": {},
   "source": [
    "\n",
    "\n",
    "# Eigenvalues and Eigenvectors"
   ]
  },
  {
   "cell_type": "code",
   "execution_count": null,
   "metadata": {},
   "outputs": [
    {
     "name": "stdout",
     "output_type": "stream",
     "text": [
      "E-value: [-1.  4.]\n",
      "E-vector [[-0.89442719 -0.4472136 ]\n",
      " [ 0.4472136  -0.89442719]]\n"
     ]
    }
   ],
   "source": [
    "# From https://pythonnumericalmethods.berkeley.edu/notebooks/chapter15.04-Eigenvalues-and-Eigenvectors-in-Python.html\n",
    "import numpy as np\n",
    "from numpy.linalg import eig \n",
    "\n",
    "a = np.array([[0, 2], \n",
    "              [2, 3]])\n",
    "w,v=eig(a)\n",
    "print('E-value:', w)\n",
    "print('E-vector', v)"
   ]
  },
  {
   "cell_type": "markdown",
   "metadata": {},
   "source": [
    "# Diagonalization and powers of A"
   ]
  },
  {
   "cell_type": "code",
   "execution_count": 681,
   "metadata": {},
   "outputs": [
    {
     "data": {
      "text/latex": [
       "$\\displaystyle \\left[\\begin{matrix}-1 & 9\\\\1 & 4\\end{matrix}\\right]$"
      ],
      "text/plain": [
       "⎡-1  9⎤\n",
       "⎢     ⎥\n",
       "⎣1   4⎦"
      ]
     },
     "metadata": {},
     "output_type": "display_data"
    },
    {
     "data": {
      "text/latex": [
       "$\\displaystyle \\left[\\begin{matrix}- \\frac{3}{10} & 0\\\\0 & 1\\end{matrix}\\right]$"
      ],
      "text/plain": [
       "⎡-3/10  0⎤\n",
       "⎢        ⎥\n",
       "⎣  0    1⎦"
      ]
     },
     "metadata": {},
     "output_type": "display_data"
    },
    {
     "data": {
      "text/latex": [
       "$\\displaystyle \\left[\\begin{matrix}\\frac{3}{5} & \\frac{9}{10}\\\\\\frac{2}{5} & \\frac{1}{10}\\end{matrix}\\right]$"
      ],
      "text/plain": [
       "⎡3/5  9/10⎤\n",
       "⎢         ⎥\n",
       "⎣2/5  1/10⎦"
      ]
     },
     "metadata": {},
     "output_type": "display_data"
    }
   ],
   "source": [
    "A = Matrix([[.6,.9],[.4,.1]])\n",
    "\n",
    "A = A.applyfunc(nsimplify) # Rationalize things for a less messy answer.\n",
    "# TODO: try and fix up per https://stackoverflow.com/questions/76973256/sympy-getting-integer-eigenvectors\n",
    "X, L = A.diagonalize()\n",
    "\n",
    "display(X, L)\n",
    "\n",
    "display(X @ L @ X.inv())"
   ]
  },
  {
   "cell_type": "markdown",
   "metadata": {},
   "source": [
    "# Systems of Differential Equations"
   ]
  },
  {
   "cell_type": "code",
   "execution_count": 707,
   "metadata": {},
   "outputs": [
    {
     "data": {
      "text/latex": [
       "$\\displaystyle \\left[ \\frac{d}{d t} u_{0}{\\left(t \\right)} = u_{1}{\\left(t \\right)}, \\  \\frac{d}{d t} u_{1}{\\left(t \\right)} = u_{0}{\\left(t \\right)}\\right]$"
      ],
      "text/plain": [
       "⎡d                  d                ⎤\n",
       "⎢──(u₀(t)) = u₁(t), ──(u₁(t)) = u₀(t)⎥\n",
       "⎣dt                 dt               ⎦"
      ]
     },
     "metadata": {},
     "output_type": "display_data"
    }
   ],
   "source": [
    "from sympy import symbols, Eq, Function, init_printing\n",
    "from sympy.solvers.ode.systems import dsolve_system\n",
    "\n",
    "# Solves du/dt = Au for matrix A, with initial values vector for t=0.\n",
    "def matrix_differential_eq(A, initial_vals):\n",
    "    u_n = symbols(\"u_:\" + str(A.cols), cls=Function)\n",
    "    t = symbols(\"t\")\n",
    "    u = Matrix([u_n[i](t) for i in range(0, len(u_n))])\n",
    "\n",
    "    mul = A @ u\n",
    "\n",
    "    eqs = []\n",
    "    for i in range (0,len(mul)):\n",
    "        eqs.append(Eq(u[i].diff(t), mul[i]))\n",
    "\n",
    "    # # TODO: loop to set ics\n",
    "    # solutions = dsolve_system(eqs, ics={u_0(0): 4, u_2(0): 2})\n",
    "    # display(solutions[0])\n",
    "\n",
    "A = Matrix([[0,1],[1,0]])\n",
    "initial_vals = Matrix(\n",
    "matrix_differential_eq(A)\n"
   ]
  }
 ],
 "metadata": {
  "kernelspec": {
   "display_name": "Python 3",
   "language": "python",
   "name": "python3"
  },
  "language_info": {
   "codemirror_mode": {
    "name": "ipython",
    "version": 3
   },
   "file_extension": ".py",
   "mimetype": "text/x-python",
   "name": "python",
   "nbconvert_exporter": "python",
   "pygments_lexer": "ipython3",
   "version": "3.8.2"
  },
  "orig_nbformat": 4
 },
 "nbformat": 4,
 "nbformat_minor": 2
}
