{
 "cells": [
  {
   "attachments": {},
   "cell_type": "markdown",
   "metadata": {},
   "source": [
    "# Vectors and Matrices\n",
    "\n",
    "There's no built in type for vectors and matrices in python.  So I'm going to use numpy"
   ]
  },
  {
   "cell_type": "code",
   "execution_count": 63,
   "metadata": {},
   "outputs": [
    {
     "name": "stdout",
     "output_type": "stream",
     "text": [
      "1\n",
      "2\n",
      "[1 2 3 4]\n",
      "[5 6 7 8]\n",
      "[ 9 10 11 12]\n"
     ]
    }
   ],
   "source": [
    "import numpy as np\n",
    "\n",
    "vector = np.array([1, 2, 3, 4, 5, 6])\n",
    "print(vector[0])\n",
    "print(vector[1])\n",
    "\n",
    "matrix = np.array([[1, 2, 3, 4], [5, 6, 7, 8], [9, 10, 11, 12]])\n",
    "\n",
    "for el in matrix:\n",
    "    print(el)\n"
   ]
  },
  {
   "attachments": {},
   "cell_type": "markdown",
   "metadata": {},
   "source": [
    "# Elimination\n",
    "\n",
    "Going to try and write my own custom algorithm here, even though this and many other things are already built into numpy."
   ]
  },
  {
   "cell_type": "code",
   "execution_count": 110,
   "metadata": {},
   "outputs": [
    {
     "name": "stdout",
     "output_type": "stream",
     "text": [
      "[[-0.5  -1.5   1.  ]\n",
      " [-0.75  3.75 -2.  ]\n",
      " [ 1.   -2.    1.  ]]\n"
     ]
    }
   ],
   "source": [
    "import numpy as np\n",
    "\n",
    "def identity_matrix(size):\n",
    "    matrix = np.zeros([size, size])\n",
    "    pivot_row = 0\n",
    "    while (pivot_row < size):\n",
    "        pivot_col = pivot_row\n",
    "        matrix[pivot_row][pivot_col] = 1\n",
    "\n",
    "        pivot_row += 1\n",
    "    \n",
    "    return matrix\n",
    "\n",
    "def row_swap(matrix, row_a, row_b):\n",
    "    temp = matrix[row_a].copy()\n",
    "    matrix[row_a] = matrix[row_b]\n",
    "    matrix[row_b] = temp\n",
    "    return matrix\n",
    "\n",
    "# Takes a matrix and returns it in upper triangular form, along with number of row swaps required\n",
    "def forward_elimination(matrix):    \n",
    "    num_rows, num_cols = matrix.shape\n",
    "    \n",
    "    pivot_row = 0\n",
    "    pivot_col = 0\n",
    "\n",
    "    row_swaps = 0\n",
    "\n",
    "    while (pivot_row < num_rows):\n",
    "        pivot = matrix[pivot_row][pivot_col]\n",
    "        if (pivot == 0):\n",
    "            found_swap = False\n",
    "            for swap_pivot_row in range(pivot_row + 1, num_rows):\n",
    "                swap_pivot = matrix[swap_pivot_row][pivot_col]\n",
    "                if (swap_pivot != 0):\n",
    "                    found_swap = True\n",
    "                    row_swaps += 1\n",
    "                    row_swap(matrix, pivot_row, swap_pivot_row)\n",
    "                    pivot = matrix[pivot_row][pivot_col]\n",
    "                    break\n",
    "            if not found_swap:\n",
    "                raise Exception('Could not find pivot or row swap for {}').format(pivot_row)\n",
    "        # We have a non zero pivot.  Now let's subtract off the rows below.\n",
    "        for following_row in range(pivot_row + 1, num_rows):\n",
    "            to_eliminate = matrix[following_row][pivot_col]\n",
    "            if (to_eliminate != 0):\n",
    "                # Only need to worry about nonzero elements below\n",
    "                l = to_eliminate / pivot\n",
    "                for elim_col in range(pivot_col, num_cols):\n",
    "                    matrix[following_row][elim_col] = matrix[following_row][elim_col] - (l * matrix[pivot_row][elim_col])\n",
    "        pivot_row = pivot_row + 1\n",
    "        pivot_col = pivot_col + 1\n",
    "    \n",
    "    return matrix, row_swaps\n",
    "\n",
    "# Brings us from upper triangular (row echelon) to reduced row echelon form.\n",
    "def rref(matrix):\n",
    "    num_rows, num_cols = matrix.shape\n",
    "\n",
    "    pivot_row = num_rows - 1\n",
    "\n",
    "    # Loop from bottom to top\n",
    "    while (pivot_row >= 0):\n",
    "        pivot_col = pivot_row\n",
    "        pivot = matrix[pivot_row][pivot_col]\n",
    "        if pivot == 0:\n",
    "            raise Exception('Unexpected zero on row {}').format(pivot_row)\n",
    "        \n",
    "        # Divide out the row if pivot is not already 1\n",
    "        if pivot != 1:\n",
    "            for divide_col in range(pivot_col, num_cols):\n",
    "                matrix[pivot_row][divide_col] = matrix[pivot_row][divide_col] / pivot\n",
    "            pivot = matrix[pivot_row][pivot_col]\n",
    "        \n",
    "        # Subtract off the rows above\n",
    "        for previous_row in reversed(range(0, pivot_row)):\n",
    "            to_eliminate = matrix[previous_row][pivot_col]\n",
    "            if (to_eliminate != 0):\n",
    "                # Only need to worry about nonzero elements above\n",
    "                l = to_eliminate / pivot \n",
    "                for elim_col in range(pivot_col, num_cols):\n",
    "                    matrix[previous_row][elim_col] = matrix[previous_row][elim_col] - (l * matrix[pivot_row][elim_col])\n",
    "        \n",
    "        pivot_row = pivot_row - 1\n",
    "    \n",
    "    return matrix\n",
    "\n",
    "# Takes a matrix and finds its inverse with Gaussian elimination\n",
    "def matrix_inverse(matrix):\n",
    "    num_rows, num_cols = matrix.shape\n",
    "    matrix = np.append(matrix, identity_matrix(num_rows), axis=1)\n",
    "    matrix, row_swaps = forward_elimination(matrix)\n",
    "    matrix = rref(matrix)\n",
    "\n",
    "    # Return just the inverse\n",
    "    return matrix[0:num_rows, num_cols:]\n",
    "\n",
    "matrix = np.array([[1, 2, 3], [5, 6, 7], [9, 10, 12]])\n",
    "print(matrix_inverse(matrix))\n"
   ]
  },
  {
   "attachments": {},
   "cell_type": "markdown",
   "metadata": {},
   "source": [
    "# Determinants\n",
    "\n",
    "## Pivot Algorithm\n",
    "\n",
    "Perform forward elimination to get $A$ to $U$.  If an odd number of row exchanges are involved, then multiply answer by $-1$. The answer being the product of the diagonal pivots.\n"
   ]
  },
  {
   "cell_type": "code",
   "execution_count": 111,
   "metadata": {},
   "outputs": [
    {
     "name": "stdout",
     "output_type": "stream",
     "text": [
      "-8\n"
     ]
    }
   ],
   "source": [
    "def diagonal_product(matrix):\n",
    "    num_rows = matrix.shape[0]\n",
    "\n",
    "    product = 1\n",
    "\n",
    "    pivot_row = 0\n",
    "    pivot_col = 0\n",
    "\n",
    "    while (pivot_row < num_rows):\n",
    "        pivot = matrix[pivot_row][pivot_col]\n",
    "        product = product * pivot\n",
    "\n",
    "        pivot_row += 1\n",
    "        pivot_col +=1\n",
    "    \n",
    "    return product\n",
    "\n",
    "def determinant_by_pivots(matrix):\n",
    "    num_rows, num_cols = matrix.shape\n",
    "    if (num_rows != num_cols):\n",
    "        raise Exception('Determinants are only for square matrices')\n",
    "\n",
    "    matrix_u, row_swaps = forward_elimination(matrix)\n",
    "    product = diagonal_product(matrix_u)\n",
    "\n",
    "    if (row_swaps % 2 == 1):\n",
    "        product = product * -1\n",
    "    \n",
    "    return product\n",
    "\n",
    "matrix = np.array([[0, 0, 1], [0, 2, 3], [4, 5, 6]])\n",
    "print(determinant_by_pivots(matrix))"
   ]
  },
  {
   "attachments": {},
   "cell_type": "markdown",
   "metadata": {},
   "source": [
    "## The Big Formula for Determinants\n",
    "\n",
    "For this one we split the determinant into selections from each column and row.  We can then extract the multipliers, and pull the sign from how many row swaps are required (even or odd) for the remaining permutation matrix.  We then add all those determinants together to get our determinant.\n"
   ]
  },
  {
   "cell_type": "code",
   "execution_count": 112,
   "metadata": {},
   "outputs": [
    {
     "name": "stdout",
     "output_type": "stream",
     "text": [
      "-8\n"
     ]
    }
   ],
   "source": [
    "from itertools import permutations\n",
    "\n",
    "# Takes a permutation matrix and returns its determinant based on number of swaps to reach identity matrix\n",
    "def perm_determinant(permutation_matrix):\n",
    "    num_rows, num_cols = permutation_matrix.shape\n",
    "\n",
    "    pivot_row = 0\n",
    "    pivot_col = 0\n",
    "\n",
    "    row_swaps = 0\n",
    "\n",
    "    while (pivot_row < num_rows):\n",
    "        pivot = permutation_matrix[pivot_row][pivot_col]\n",
    "        if pivot != 0 and pivot != 1:\n",
    "            raise Exception(\"Only expecting 0s and 1s in a permutation matrix\")\n",
    "\n",
    "        if (pivot == 0):\n",
    "            found_swap = False\n",
    "            for swap_pivot_row in range(pivot_row + 1, num_rows):\n",
    "                swap_pivot = permutation_matrix[swap_pivot_row][pivot_col]\n",
    "                if swap_pivot != 0 and swap_pivot != 1:\n",
    "                    raise Exception(\"Only expecting 0s and 1s in a permutation matrix\")\n",
    "                if (swap_pivot != 0):\n",
    "                    found_swap = True\n",
    "                    row_swaps += 1\n",
    "                    row_swap(permutation_matrix, pivot_row, swap_pivot_row)\n",
    "                    break\n",
    "            if not found_swap:\n",
    "                raise Exception('Could not find pivot or row swap for {}').format(pivot_row)\n",
    "        \n",
    "        pivot_row = pivot_row + 1\n",
    "        pivot_col = pivot_col + 1\n",
    "    \n",
    "    if (row_swaps % 2 == 1):\n",
    "        return -1\n",
    "    else:\n",
    "        return 1\n",
    "\n",
    "def determinant_by_big_formula(matrix):\n",
    "    num_rows, num_cols = permutation_matrix.shape\n",
    "    perms = permutations(range(0,num_cols))\n",
    "\n",
    "    determinant = 0\n",
    "\n",
    "    for perm in perms:\n",
    "        product = 1\n",
    "        perm_matrix = np.zeros(permutation_matrix.shape)\n",
    "        row = 0\n",
    "        for col in perm:\n",
    "            el = matrix[row][col]\n",
    "            product = product * el\n",
    "            perm_matrix[row][col] = 1\n",
    "            row += 1\n",
    "        product = product * perm_determinant(perm_matrix)\n",
    "        determinant += product\n",
    "\n",
    "    return determinant\n",
    "\n",
    "print(determinant_by_big_formula(np.array([[0, 0, 1], [0, 2, 3], [4, 5, 6]])))"
   ]
  }
 ],
 "metadata": {
  "kernelspec": {
   "display_name": "Python 3",
   "language": "python",
   "name": "python3"
  },
  "language_info": {
   "codemirror_mode": {
    "name": "ipython",
    "version": 3
   },
   "file_extension": ".py",
   "mimetype": "text/x-python",
   "name": "python",
   "nbconvert_exporter": "python",
   "pygments_lexer": "ipython3",
   "version": "3.9.6"
  },
  "orig_nbformat": 4
 },
 "nbformat": 4,
 "nbformat_minor": 2
}
