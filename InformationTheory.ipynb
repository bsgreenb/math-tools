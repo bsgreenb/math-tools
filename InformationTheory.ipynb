{
 "cells": [
  {
   "cell_type": "markdown",
   "metadata": {},
   "source": [
    "# Sources\n"
   ]
  },
  {
   "cell_type": "markdown",
   "metadata": {},
   "source": [
    "# Entropy\n",
    "[Wiki](https://en.wikipedia.org/wiki/Entropy_(information_theory))\n",
    "\n",
    "In [information theory](https://en.wikipedia.org/wiki/Information_theory \"Information theory\"), the **entropy** of a [random variable](https://en.wikipedia.org/wiki/Random_variable \"Random variable\") is the average level of \"information\", \"surprise\", or \"uncertainty\" inherent to the variable's possible outcomes. Given a discrete random variable $X$, which takes values in the alphabet $\\mathcal{X}$ and is distributed according to $p: \\mathcal{X} \\rightarrow[0,1]$ :\n",
    "$$\n",
    "\\mathrm{H}(X):=-\\sum_{x \\in \\mathcal{X}} p(x) \\log p(x)=\\mathbb{E}[-\\log p(X)]\n",
    "$$\n",
    "\n",
    "The choice of base for  $\\log$, the logarithm, varies for different applications. Base 2 gives the unit of bits (or \"shannons\"), while base e gives \"natural units\" nat, and base 10 gives units of \"dits\", \"bans\", or \"hartleys\". An equivalent definition of entropy is the expected value of the self-information of a variable.\n",
    "\n",
    "## Introduction\n",
    "\n",
    "The core idea of information theory is that the \"informational value\" of a communicated message depends on the degree to which the content of the message is surprising. If a highly likely event occurs, the message carries very little information. On the other hand, if a highly unlikely event occurs, the message is much more informative. For instance, the knowledge that some particular number will not be the winning number of a lottery provides very little information, because any particular chosen number will almost certainly not win. However, knowledge that a particular number will win a lottery has high informational value because it communicates the outcome of a very low probability event."
   ]
  }
 ],
 "metadata": {
  "language_info": {
   "name": "python"
  },
  "orig_nbformat": 4
 },
 "nbformat": 4,
 "nbformat_minor": 2
}
