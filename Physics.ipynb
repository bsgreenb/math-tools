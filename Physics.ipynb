{
 "cells": [
  {
   "cell_type": "markdown",
   "metadata": {},
   "source": [
    "# Position, Velocity, and Accelaration as Derivatives\n",
    "\n",
    "Change in Position with respect to time is Velocity.  Change in Velocity with respect to time is Acceleration.  As the double derivative, acceleration is measured in seconds squared, which could be phrased as \"per second per second.\"\n",
    "\n",
    "Speed can be thought of as absolute velocity, not caring which direction your position is moving in. Positive and negative velocity count towards it.  Speed = $|v(t)|$\n",
    "\n",
    "Position, Velocity, and Acceleration are all Vector quantities.  Speed is scalar.\n",
    "\n",
    "# Displacement vs Distance Traveled\n",
    "\n",
    "Good overview on [Khan vid](https://youtu.be/Sy_7PkoTCtA).\n",
    "\n",
    "Displacement is overall change in position. Distance Traveled is total length of the path.  Where you start at matters for neither.\n",
    "\n",
    "Displacement is integral of Velocity.  Distance Traveled is integral of Speed.\n",
    "\n",
    "Displacement has direction, it's a vector.  Distance Traveled lacks direction, it's a scalar.\n",
    "\n",
    "So when you're solving for displacement, [problems](https://youtu.be/M7IZClYqdEo) will require picking your starting point and adding that to the definite integral from there.  When you're solving for Distance Traveled you wont have the addition and you'll take the definite integral with respect to abs value.\n",
    "\n",
    "# Force\n",
    "\n",
    "Force is a vector quantity.\n",
    "\n",
    "\n"
   ]
  }
 ],
 "metadata": {
  "kernelspec": {
   "display_name": "Python 3 (ipykernel)",
   "language": "python",
   "name": "python3"
  },
  "language_info": {
   "codemirror_mode": {
    "name": "ipython",
    "version": 3
   },
   "file_extension": ".py",
   "mimetype": "text/x-python",
   "name": "python",
   "nbconvert_exporter": "python",
   "pygments_lexer": "ipython3",
   "version": "3.9.2"
  }
 },
 "nbformat": 4,
 "nbformat_minor": 4
}
