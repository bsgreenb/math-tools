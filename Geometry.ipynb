{
 "cells": [
  {
   "cell_type": "markdown",
   "metadata": {
    "colab_type": "text",
    "id": "view-in-github"
   },
   "source": [
    "<a href=\"https://colab.research.google.com/github/bsgreenb/math-tools/blob/master/Geometry.ipynb\" target=\"_parent\"><img src=\"https://colab.research.google.com/assets/colab-badge.svg\" alt=\"Open In Colab\"/></a>"
   ]
  },
  {
   "cell_type": "markdown",
   "metadata": {
    "id": "HHQ7gQxyp7Oa"
   },
   "source": [
    "# Primitive Notions\n",
    "\n",
    "Points ($ A $), Lines ($ \\overleftrightarrow{AB} $), Line Segments ($ \\overline{\\rm AB} $), Rays ($ \\overrightarrow{AB} $).  Lines can be parallel ($ A \\parallel B $)\n",
    "\n",
    "The notation for line-length is just the points like $ AB $ , to distinguish it from line segment itself.. \n"
   ]
  },
  {
   "cell_type": "code",
   "execution_count": 1,
   "metadata": {
    "id": "BmTCZZSSpyWG"
   },
   "outputs": [
    {
     "data": {
      "image/png": "[encoded data removed]",
      "text/plain": [
       "<Figure size 432x288 with 1 Axes>"
      ]
     },
     "metadata": {
      "needs_background": "light"
     },
     "output_type": "display_data"
    }
   ],
   "source": [
    "import matplotlib.pyplot as plt\n",
    "import matplotlib\n",
    "import numpy as np\n",
    "\n",
    "\n",
    "try:\n",
    "  import google.colab\n",
    "  import sys\n",
    "  from os import path\n",
    "  # We are in colab\n",
    "\n",
    "  if not path.isdir('math-tools'):\n",
    "    !git clone https://github.com/bsgreenb/math-tools.git\n",
    "    sys.path.append('math-tools')\n",
    "except:\n",
    "  pass\n",
    "\n",
    "from geometry import plot_line\n",
    "from annotation import label\n",
    "from angles import AngleAnnotation\n",
    "\n",
    "#TODO: add a plotted line here\n",
    "\n",
    "plt.plot([1, 2], [3, 4], marker = 'o')  \n",
    "plt.plot([1.5], [4], marker='o', color='C0')\n",
    "plt.axis('off')\n",
    "label(plt, 'A',(1,3))\n",
    "label(plt, 'B',(2,4))\n",
    "label(plt, 'C',(1.5,4))\n",
    "\n",
    "plt.show()"
   ]
  },
  {
   "cell_type": "markdown",
   "metadata": {
    "id": "LrMIHOSTRPuL"
   },
   "source": [
    "# Axioms\n",
    "\n",
    "There are lots of these, just going to note the ones I use in later proofs\n",
    "\n",
    "## Corresponding Angles Axiom\n",
    "\n",
    "If a transversal ($ n $) intersects two parallel lines ($ l \\parallel m $), then each pair of corresponding angles are congruent ($ \\angle 1 \\cong \\angle 2 $)."
   ]
  },
  {
   "cell_type": "code",
   "execution_count": 2,
   "metadata": {
    "id": "TFKjFUEJUMb1"
   },
   "outputs": [
    {
     "data": {
      "image/png": "[encoded data removed]",
      "text/plain": [
       "<Figure size 432x288 with 1 Axes>"
      ]
     },
     "metadata": {
      "needs_background": "light"
     },
     "output_type": "display_data"
    }
   ],
   "source": [
    "from angles import AngleAnnotation\n",
    "from geometry import plot_parallel\n",
    "\n",
    "fig, ax = plt.subplots()\n",
    "\n",
    "p1 = (1,2)\n",
    "p2 = (3,6)\n",
    "plot_parallel(ax, p1, (2.6, 5.2), (2.75, 5.5), \"red\")\n",
    "plot_line(ax, p1, p2, r\"$ l $\")\n",
    "p3 = (1,3)\n",
    "p4 = (3,7)\n",
    "plot_line(ax, p3, p4, r\"$ m $\")\n",
    "plot_parallel(ax, p3, (2.6, 6.2), (2.75, 6.5), \"red\")\n",
    "# t points are for the transversal straight line\n",
    "t1 = (1, 4.5)\n",
    "t2 = (3, 4.5)\n",
    "plot_line(ax, t1, t2, r\"$ n $\")\n",
    "\n",
    "# This meets with l at x = 2.25 and m and x = 1.75.  both ys are 4.5 obvi\n",
    "first_angle_location = (2.25, 4.5)\n",
    "second_angle_location = (1.75, 4.5)\n",
    "\n",
    "angle_1 = AngleAnnotation(first_angle_location, p2, t1, ax=ax, size=20, text=r\"$1$\", text_kw={\"color\": \"C0\"}, color=\"C0\")\n",
    "angle_2 = AngleAnnotation(second_angle_location, p4, t1, ax=ax, size=20, text=r\"$2$\", text_kw={\"color\": \"C0\"}, color=\"C0\")\n",
    "\n",
    "plt.xlim(0, 6)\n",
    "plt.ylim(0, 7)\n",
    "plt.axis('off')\n",
    "plt.show()\n",
    "\n"
   ]
  },
  {
   "cell_type": "markdown",
   "metadata": {
    "id": "Pc2kg2w6UK5Z"
   },
   "source": [
    "Converse is also true: if a transversal through two lines creates a pair of corresponding angle, then the lines are parallel."
   ]
  },
  {
   "cell_type": "markdown",
   "metadata": {},
   "source": [
    "# Pythagorean Theorem Proof\n",
    "\n",
    "Two major approaches to proving it, area based by constructing a composite polygon, or slicing/similarity based and solving from ratios.\n",
    "\n",
    "Let's just show the easiest one to remember, Garfield's proof using a composite trapezoid."
   ]
  },
  {
   "cell_type": "code",
   "execution_count": 3,
   "metadata": {},
   "outputs": [
    {
     "data": {
      "image/png": "[encoded data removed]",
      "text/plain": [
       "<Figure size 432x288 with 1 Axes>"
      ]
     },
     "metadata": {
      "needs_background": "light"
     },
     "output_type": "display_data"
    }
   ],
   "source": [
    "from matplotlib.patches import Polygon\n",
    "\n",
    "# 3/4/5 is the smallest pythagorean triple\n",
    "side_a_length = 3\n",
    "side_b_length = 4\n",
    "hypotenuse = 5\n",
    "\n",
    "fig, ax = plt.subplots()\n",
    "\n",
    "triangle1 = Polygon([(0,0), (0, side_a_length), (side_b_length, 0)], ec=\"black\", fc=[0,0,0,0])\n",
    "# Label the triangle lines at the midpoints with appropriate offsets.\n",
    "offset = 8\n",
    "label(ax, \"a\", (0, side_a_length / 2), (-offset, 0))\n",
    "label(ax, \"b\", (side_b_length / 2, 0), (0, -2 * offset))\n",
    "label(ax, \"c\", (side_b_length / 2, side_a_length / 2), (0, offset))\n",
    "ax.add_patch(triangle1)\n",
    "\n",
    "label(ax, \"b\", (0, (side_a_length +side_a_length + side_b_length) /2), (-offset, 0))\n",
    "label(ax, \"a\", (side_a_length / 2, side_a_length + side_b_length), (0, offset))\n",
    "label(ax, \"c\", (side_a_length / 2, (side_a_length +side_a_length + side_b_length) /2), (0, -2 * offset))\n",
    "label(ax, \"c\", (side_b_length, (side_a_length + side_b_length) /2), (-1.5 * offset, 0))\n",
    "\n",
    "# Add lines to form other triangles.\n",
    "line_width = .8\n",
    "ax.plot([0, 0], [side_a_length, side_a_length + side_b_length], color=\"black\", lw=line_width)\n",
    "\n",
    "ax.plot([0,side_a_length], [side_a_length + side_b_length, side_a_length + side_b_length], color=\"black\", lw=line_width)\n",
    "\n",
    "ax.plot([side_a_length, 0], [side_a_length + side_b_length, side_a_length], color=\"black\", lw=line_width)\n",
    "ax.plot([side_a_length, side_b_length], [side_a_length + side_b_length, 0], color=\"black\", lw=line_width)\n",
    "\n",
    "# Right Triangles\n",
    "right1 = matplotlib.patches.Rectangle((0,0),0.25,0.4, fc=[0,0,0,0], ec=\"black\", zorder=0, lw=.7)\n",
    "ax.add_patch(right1)\n",
    "right2 = matplotlib.patches.Rectangle((0,side_a_length + side_b_length),0.4,0.25, fc=[0,0,0,0], ec=\"black\", zorder=0, lw=.7, angle=-90)\n",
    "ax.add_patch(right2)\n",
    "right3 = matplotlib.patches.Rectangle((0, side_a_length), 0.325, 0.325, fc=[0,0,0,0], ec=\"black\", zorder=0, lw=.7, angle=-35)\n",
    "ax.add_patch(right3)\n",
    "\n",
    "plt.ylim(-1,8)\n",
    "plt.xlim(-1,8)\n",
    "\n",
    "plt.axis('off')\n",
    "plt.show()\n",
    "\n"
   ]
  },
  {
   "cell_type": "markdown",
   "metadata": {},
   "source": [
    "$$\n",
    "\\begin{align}\n",
    "& \\text{Area of a Trapezoid} = \\frac{a + b}{2}(a + b) \\\\\n",
    "& \\frac{a + b}{2}(a + b) = \\frac{ab}{2} + \\frac{ba}{2} + \\frac{c^2}{2} \\\\\n",
    "& (a + b)(a + b) = ab + ba + c^2 \\\\\n",
    "& a^2 + b^2 + 2ab = ab + ba + c^2 \\\\\n",
    "& a^2 + b^2 = c^2 \\\\\n",
    "\\end{align}\n",
    "$$"
   ]
  },
  {
   "cell_type": "markdown",
   "metadata": {},
   "source": [
    "# Rigid Transformations\n",
    "\n",
    "Congruence and Similarity are proven through transformations.\n",
    "\n",
    "Rigid Transformations (only type allowed for Congruence):\n",
    "\n",
    "- Translation\n",
    "- Rotation\n",
    "- Reflection\n",
    "\n",
    "Non-Rigid (but preserve Similarity):\n",
    "\n",
    "- Dilation\n",
    "\n",
    "# Congruence of Triangles\n",
    "\n",
    "The gist of the proofs for these is rigid transformations combining translation, rotation, and if necessary reflection.  Angles tell you that rays are carried over.  Matching side lengths tell you the circle that is formed from one point to another.  Combine these to find intersections.\n",
    "\n",
    "Note that in the beginning of the proofs you'll match one line to another, but there are two sides where the rest of the triangle could be.  If it's on the opposite side, which you have to account for, you'd need a reflection.\n",
    "\n",
    "- SSS\n",
    "- SAS \n",
    "- ASA = AAS (because you get a third angle for free)\n",
    "\n",
    "[link khan academy proofs of these]\n",
    "\n",
    "SSA (or better yet, ASS) is not congruent though.. unless the Angle is right or obtuse.  Easy to remember ASS postulate is ass..  \n",
    "\n",
    "# Angle Bisector theorem\n",
    "\n",
    "Basically you get similar triangles from an angle bisector.  It's proven by adding lines to form a diamond of parallel paired lines and using triangle stuff like above to prove similarity https://youtu.be/TpIBLnRAslI\n",
    "\n",
    "# Dividing Line Segments\n",
    "\n",
    "Midpoint formula is obvious.  The x and y coordinates are averaged.  If you want a portion of a line (like a 25% of the length point) just do a weighted average, where you add proportionate weight multiples.\n",
    "\n",
    "# Perpindicular Lines\n",
    "\n",
    "Perpindicular line slopes are negative reciprocals of each other.\n",
    "\n",
    "Nice proof from Khan which basically finds their slopes in terms of two (similar thanks to 90degrees on both) triangles, uses that to prove the inverse negative thing.\n",
    "\n",
    "https://youtu.be/HyThzLRuqXo\n",
    "\n",
    "# Standard Equation of a Circle\n",
    "\n",
    "It's basically just solving for the pythagorean theorem, where the two sides are the distance of x and y from the center ($ h $ and $ k $ by convention) squared, and the radius is the hypotenuse squared.  Let's demonstrate this with matplot."
   ]
  },
  {
   "cell_type": "code",
   "execution_count": 15,
   "metadata": {},
   "outputs": [
    {
     "data": {
      "image/png": "[encoded data removed]",
      "text/plain": [
       "<Figure size 432x288 with 1 Axes>"
      ]
     },
     "metadata": {
      "needs_background": "light"
     },
     "output_type": "display_data"
    }
   ],
   "source": [
    "# 1. Plot Circle\n",
    "# https://stackoverflow.com/a/44050984/378622 \n",
    "\n",
    "r = 6\n",
    "x = np.linspace(-r,r,1000)\n",
    "# Solving for y from the standard circle equation which gives a plus/minus..\n",
    "y = np.sqrt(-x**2+r**2)\n",
    "plt.plot(x, y, \"black\")\n",
    "plt.plot(x, -y, \"black\")\n",
    "\n",
    "# 2 plot a radius\n",
    "\n",
    "circle_y = np.sqrt(-4**2+r**2)\n",
    "\n",
    "plt.plot((0,4), (0, circle_y))\n",
    "label(plt, \"r\", (4 / 2, circle_y / 2), fontsize=14)\n",
    "\n",
    "plt.plot((0,4), (0,0))\n",
    "label(plt, \"x-h\", (4 / 2, 0), (8, -16), fontsize=14)\n",
    "\n",
    "plt.plot((4,4), (0, circle_y))\n",
    "label(plt, \"y-k\", (4, circle_y / 2), (16, -16), fontsize=14)\n",
    "\n",
    "plt.plot((0), (0), marker='o', color=\"black\")\n",
    "label(plt, \"(h, k)\", (0,0), fontsize=14)\n",
    "\n",
    "plt.gca().set_aspect('equal')\n",
    "plt.axis('off')\n",
    "\n",
    "plt.title(r\"$(x-h)^2 + (y-k)^2 = r^2$\", fontsize=16)\n",
    "plt.show()"
   ]
  },
  {
   "cell_type": "markdown",
   "metadata": {},
   "source": [
    "# Ellipses\n",
    "\n",
    "Standard Equation of Ellipse\n",
    "\n",
    "$$\n",
    "\\frac{x^{2}}{a^{2}}+\\frac{y^{2}}{b^{2}}=1\n",
    "$$\n",
    "\n",
    "[Answered my own question on MSE](https://math.stackexchange.com/a/4380029/49487) about how to just get half of the ellipse as a function.\n",
    "\n",
    "# Conic Sections\n",
    "\n",
    "The intersection between a plane and a cone.  Includes:\n",
    "\n",
    "- Circle\n",
    "- Ellipse \n",
    "- Parabola\n",
    "- Hyperbola\n",
    "\n",
    "https://youtu.be/0A7RR0oy2ho\n",
    "\n",
    "# Parabolas\n",
    "\n",
    "One definition of a parabola is that it's the set of points which are equidistant from a Focus (a point) and a Directrix (Line).\n",
    "\n",
    "Equations for a parabola:\n",
    "\n",
    "$$ y = a(x-h)^2 + k $$\n",
    "$$ x = a(y-k)^2 + h $$\n",
    "\n",
    "Where $ (h, k) $ is the vertex of the parabola.\n",
    "\n",
    "# Circle terminology\n",
    "\n",
    "* **Secant** lines go through a circle.\n",
    "* **Chords** are line segments across a circle\n",
    "* **Arcs** are parts of the circle perimeter.  **Arc Measure** is the central angle creating that arc.  **Arc Length** is the length of the perimeter segment, which will vary as a function of Arc Measure and the circle radius/size.\n",
    "* **Central Angle** Angle going from radius to an arc.\n",
    "* **Inscribed Angle** is \"the angle formed in the interior of a circle when two chords intersect on the circle. It can also be defined as the angle subtended at a point on the circle by two given points on the circle.\"\n",
    "\n",
    "Measure of an arc / central angle equivalent values.\n",
    "\n",
    "## Inscribed angle theorem\n",
    "\n",
    "An inscribed angle will be half the central angle going to the same arc.  This applies regardless of where the center lies relative to the inscribed angle, see proof: https://youtu.be/MyzGVbCHh5M\n",
    "\n",
    "With this theorem you can also take advantage of the fact that two different inscribed angles with the same arc are equivalent.  You get not just the relationship between the central angle and the arc but also between other arcs.  Also, don't forget that the arcs need to add up to either $ 360 \\circ $ or $ 2 \\pi $ radians."
   ]
  },
  {
   "cell_type": "markdown",
   "metadata": {},
   "source": [
    "# Common Areas, Volumes, Surface Areas, Perimeters\n",
    "\n",
    "## 2D\n",
    "| Shape                | Perimeter   | Area                   |\n",
    "|----------------------|-------------|------------------------|\n",
    "| Triangle             | $a+b+c$     | $\\frac{1}{2}bh$        |\n",
    "| Isoceles Triangle    | $2a + b$    | $\\frac{b^2}{4}$        |\n",
    "| Equilateral Triangle | $3a$        | $\\frac{\\sqrt{3}}{4}a^2$|\n",
    "| Rhombus (p,q=diag)   | $4a$        | $\\frac{pq}{2}$         |\n",
    "| Trapezoid (a,b=base) | $a+b+c+d$   | $\\frac{a+b}{h}$        |\n",
    "\n",
    "\n",
    "## 3D\n",
    "\n",
    "| Shape          | Volume                     | Surface Area                           |\n",
    "|----------------|----------------------------|----------------------------------------|\n",
    "| Cube (a=edge)  | $a^3$                      | $3a^2$                                 |\n",
    "| Sphere         | $\\frac{4}{3}\\pi r^3$       | $4\\pi r^2$                             |\n",
    "| Cone           | $\\pi r^2 \\frac{h}{3}$      | $\\pi r(r + \\sqrt{h^2 + r^2})$          |\n",
    "| Cylinder       | $\\pi r^2 h$                | $2\\pi rh + 2\\pi r^2$                   |\n",
    "| Square Pyramid | $\\frac{1}{3}s^2 h$         | $a^2 + 2a \\sqrt{\\frac{a^2}{4} + h^2} $ |\n",
    "\n",
    "\n"
   ]
  }
 ],
 "metadata": {
  "colab": {
   "authorship_tag": "ABX9TyPLZDxPkmU1iu+Llfm6JrwE",
   "collapsed_sections": [],
   "include_colab_link": true,
   "name": "Geometry.ipynb",
   "provenance": []
  },
  "interpreter": {
   "hash": "949777d72b0d2535278d3dc13498b2535136f6dfe0678499012e853ee9abcab1"
  },
  "kernelspec": {
   "display_name": "Python 3 (ipykernel)",
   "language": "python",
   "name": "python3"
  },
  "language_info": {
   "codemirror_mode": {
    "name": "ipython",
    "version": 3
   },
   "file_extension": ".py",
   "mimetype": "text/x-python",
   "name": "python",
   "nbconvert_exporter": "python",
   "pygments_lexer": "ipython3",
   "version": "3.9.2"
  }
 },
 "nbformat": 4,
 "nbformat_minor": 4
}
